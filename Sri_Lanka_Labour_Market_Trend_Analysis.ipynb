{
  "cells": [
    {
      "cell_type": "markdown",
      "metadata": {
        "id": "GIt4cwJrecrd"
      },
      "source": [
        "# Problem Understanding\n",
        "## The labor market in Sri Lanka is a crucial component of its economic landscape, influencing employment rates, workforce dynamics, and overall socio-economic development. However, amidst shifting global economic paradigms, technological advancements, and domestic policy reforms, understanding the current state and emerging trends within Sri Lanka's labor market is imperative for policymakers, businesses, researchers, and stakeholders alike. This study aims to delve into the intricacies of the Sri Lankan labor market to identify, analyze, and interpret the prevailing trends, challenges, and opportunities."
      ]
    },
    {
      "cell_type": "markdown",
      "metadata": {
        "id": "BvgQrbI9cm35"
      },
      "source": [
        "# 1. Data Collection and Cleaning\n",
        "## Data Understanding and Data Visualization"
      ]
    },
    {
      "cell_type": "code",
      "execution_count": 50,
      "metadata": {
        "colab": {
          "base_uri": "https://localhost:8080/"
        },
        "id": "_9aXYl0TdLki",
        "outputId": "4e0ad3c8-8994-4193-cc1d-c4f89c8021f0"
      },
      "outputs": [
        {
          "name": "stdout",
          "output_type": "stream",
          "text": [
            "<class 'pandas.core.frame.DataFrame'>\n",
            "Index: 1276 entries, 0 to 1313\n",
            "Data columns (total 5 columns):\n",
            " #   Column     Non-Null Count  Dtype  \n",
            "---  ------     --------------  -----  \n",
            " 0   Gender     1276 non-null   object \n",
            " 1   Education  1276 non-null   object \n",
            " 2   Sector     1276 non-null   object \n",
            " 3   Year       1276 non-null   int64  \n",
            " 4   Value      1276 non-null   float64\n",
            "dtypes: float64(1), int64(1), object(3)\n",
            "memory usage: 59.8+ KB\n"
          ]
        }
      ],
      "source": [
        "import pandas as pd\n",
        "import pickle\n",
        "\n",
        "\n",
        "\n",
        "# Read Sri Lanka's Labour force participation survey statistics data from the CSV file\n",
        "data = pd.read_csv('https://raw.githubusercontent.com/niruhere/Sri-Lanka-Labor-Market-Trend/main/ILOSTAT_SriLanka_LabourMarketTrenddata.csv')\n",
        "\n",
        "# Understand the data\n",
        "data.describe\n",
        "data.columns\n",
        "data.shape\n",
        "data.head(10)\n",
        "\n",
        "# Remove unwanted columns \"Country\" and \"Source\" from the data\n",
        "data.drop(['Country', 'Source'], axis=1, inplace=True)\n",
        "\n",
        "# Remove rows having null values(removes 38 out of 1314 records)\n",
        "data.dropna(axis=0, inplace=True)\n",
        "\n",
        "# Rename column \"Area type\" to \"Sector\", \"Sex\" to Gender\n",
        "data.rename(columns = {'Area type':'Sector', 'Sex': 'Gender'}, inplace = True)\n",
        "\n",
        "data.info()\n",
        "# Change Categorical columns to numerical columns\n",
        "# Sector(\"Something Something\")"
      ]
    },
    {
      "cell_type": "markdown",
      "metadata": {
        "id": "4ug3maHagS6D"
      },
      "source": [
        "## Let us visualize and analyse the data by plotting them to Line Charts, Heatmap etc., to better understand the corelation between the parameters in data"
      ]
    },
    {
      "cell_type": "markdown",
      "metadata": {
        "id": "BM3BLLe_grv-"
      },
      "source": [
        "## Analyse the Labour Force Participation Rate over the years"
      ]
    },
    {
      "cell_type": "code",
      "execution_count": 51,
      "metadata": {
        "colab": {
          "base_uri": "https://localhost:8080/",
          "height": 562
        },
        "id": "qEgPVSVKsTYG",
        "outputId": "39e77dbf-4761-43a0-b770-9503b58ec297"
      },
      "outputs": [
        {
          "data": {
            "application/vnd.plotly.v1+json": {
              "config": {
                "plotlyServerURL": "https://plot.ly"
              },
              "data": [
                {
                  "hovertemplate": "Year=%{x}<br>Labour Force Participation Rate in %=%{y}<extra></extra>",
                  "legendgroup": "",
                  "line": {
                    "color": "#636efa",
                    "dash": "solid"
                  },
                  "marker": {
                    "symbol": "circle"
                  },
                  "mode": "lines",
                  "name": "",
                  "orientation": "v",
                  "showlegend": false,
                  "type": "scatter",
                  "x": [
                    2020,
                    2019,
                    2018,
                    2017,
                    2016,
                    2015,
                    2014,
                    2013,
                    2011,
                    2010
                  ],
                  "xaxis": "x",
                  "y": [
                    50.5,
                    52.2,
                    51.7,
                    54,
                    53.7,
                    53.7,
                    51.6,
                    52.1,
                    52.9,
                    53.3
                  ],
                  "yaxis": "y"
                }
              ],
              "layout": {
                "legend": {
                  "tracegroupgap": 0
                },
                "template": {
                  "data": {
                    "bar": [
                      {
                        "error_x": {
                          "color": "#2a3f5f"
                        },
                        "error_y": {
                          "color": "#2a3f5f"
                        },
                        "marker": {
                          "line": {
                            "color": "#E5ECF6",
                            "width": 0.5
                          },
                          "pattern": {
                            "fillmode": "overlay",
                            "size": 10,
                            "solidity": 0.2
                          }
                        },
                        "type": "bar"
                      }
                    ],
                    "barpolar": [
                      {
                        "marker": {
                          "line": {
                            "color": "#E5ECF6",
                            "width": 0.5
                          },
                          "pattern": {
                            "fillmode": "overlay",
                            "size": 10,
                            "solidity": 0.2
                          }
                        },
                        "type": "barpolar"
                      }
                    ],
                    "carpet": [
                      {
                        "aaxis": {
                          "endlinecolor": "#2a3f5f",
                          "gridcolor": "white",
                          "linecolor": "white",
                          "minorgridcolor": "white",
                          "startlinecolor": "#2a3f5f"
                        },
                        "baxis": {
                          "endlinecolor": "#2a3f5f",
                          "gridcolor": "white",
                          "linecolor": "white",
                          "minorgridcolor": "white",
                          "startlinecolor": "#2a3f5f"
                        },
                        "type": "carpet"
                      }
                    ],
                    "choropleth": [
                      {
                        "colorbar": {
                          "outlinewidth": 0,
                          "ticks": ""
                        },
                        "type": "choropleth"
                      }
                    ],
                    "contour": [
                      {
                        "colorbar": {
                          "outlinewidth": 0,
                          "ticks": ""
                        },
                        "colorscale": [
                          [
                            0,
                            "#0d0887"
                          ],
                          [
                            0.1111111111111111,
                            "#46039f"
                          ],
                          [
                            0.2222222222222222,
                            "#7201a8"
                          ],
                          [
                            0.3333333333333333,
                            "#9c179e"
                          ],
                          [
                            0.4444444444444444,
                            "#bd3786"
                          ],
                          [
                            0.5555555555555556,
                            "#d8576b"
                          ],
                          [
                            0.6666666666666666,
                            "#ed7953"
                          ],
                          [
                            0.7777777777777778,
                            "#fb9f3a"
                          ],
                          [
                            0.8888888888888888,
                            "#fdca26"
                          ],
                          [
                            1,
                            "#f0f921"
                          ]
                        ],
                        "type": "contour"
                      }
                    ],
                    "contourcarpet": [
                      {
                        "colorbar": {
                          "outlinewidth": 0,
                          "ticks": ""
                        },
                        "type": "contourcarpet"
                      }
                    ],
                    "heatmap": [
                      {
                        "colorbar": {
                          "outlinewidth": 0,
                          "ticks": ""
                        },
                        "colorscale": [
                          [
                            0,
                            "#0d0887"
                          ],
                          [
                            0.1111111111111111,
                            "#46039f"
                          ],
                          [
                            0.2222222222222222,
                            "#7201a8"
                          ],
                          [
                            0.3333333333333333,
                            "#9c179e"
                          ],
                          [
                            0.4444444444444444,
                            "#bd3786"
                          ],
                          [
                            0.5555555555555556,
                            "#d8576b"
                          ],
                          [
                            0.6666666666666666,
                            "#ed7953"
                          ],
                          [
                            0.7777777777777778,
                            "#fb9f3a"
                          ],
                          [
                            0.8888888888888888,
                            "#fdca26"
                          ],
                          [
                            1,
                            "#f0f921"
                          ]
                        ],
                        "type": "heatmap"
                      }
                    ],
                    "heatmapgl": [
                      {
                        "colorbar": {
                          "outlinewidth": 0,
                          "ticks": ""
                        },
                        "colorscale": [
                          [
                            0,
                            "#0d0887"
                          ],
                          [
                            0.1111111111111111,
                            "#46039f"
                          ],
                          [
                            0.2222222222222222,
                            "#7201a8"
                          ],
                          [
                            0.3333333333333333,
                            "#9c179e"
                          ],
                          [
                            0.4444444444444444,
                            "#bd3786"
                          ],
                          [
                            0.5555555555555556,
                            "#d8576b"
                          ],
                          [
                            0.6666666666666666,
                            "#ed7953"
                          ],
                          [
                            0.7777777777777778,
                            "#fb9f3a"
                          ],
                          [
                            0.8888888888888888,
                            "#fdca26"
                          ],
                          [
                            1,
                            "#f0f921"
                          ]
                        ],
                        "type": "heatmapgl"
                      }
                    ],
                    "histogram": [
                      {
                        "marker": {
                          "pattern": {
                            "fillmode": "overlay",
                            "size": 10,
                            "solidity": 0.2
                          }
                        },
                        "type": "histogram"
                      }
                    ],
                    "histogram2d": [
                      {
                        "colorbar": {
                          "outlinewidth": 0,
                          "ticks": ""
                        },
                        "colorscale": [
                          [
                            0,
                            "#0d0887"
                          ],
                          [
                            0.1111111111111111,
                            "#46039f"
                          ],
                          [
                            0.2222222222222222,
                            "#7201a8"
                          ],
                          [
                            0.3333333333333333,
                            "#9c179e"
                          ],
                          [
                            0.4444444444444444,
                            "#bd3786"
                          ],
                          [
                            0.5555555555555556,
                            "#d8576b"
                          ],
                          [
                            0.6666666666666666,
                            "#ed7953"
                          ],
                          [
                            0.7777777777777778,
                            "#fb9f3a"
                          ],
                          [
                            0.8888888888888888,
                            "#fdca26"
                          ],
                          [
                            1,
                            "#f0f921"
                          ]
                        ],
                        "type": "histogram2d"
                      }
                    ],
                    "histogram2dcontour": [
                      {
                        "colorbar": {
                          "outlinewidth": 0,
                          "ticks": ""
                        },
                        "colorscale": [
                          [
                            0,
                            "#0d0887"
                          ],
                          [
                            0.1111111111111111,
                            "#46039f"
                          ],
                          [
                            0.2222222222222222,
                            "#7201a8"
                          ],
                          [
                            0.3333333333333333,
                            "#9c179e"
                          ],
                          [
                            0.4444444444444444,
                            "#bd3786"
                          ],
                          [
                            0.5555555555555556,
                            "#d8576b"
                          ],
                          [
                            0.6666666666666666,
                            "#ed7953"
                          ],
                          [
                            0.7777777777777778,
                            "#fb9f3a"
                          ],
                          [
                            0.8888888888888888,
                            "#fdca26"
                          ],
                          [
                            1,
                            "#f0f921"
                          ]
                        ],
                        "type": "histogram2dcontour"
                      }
                    ],
                    "mesh3d": [
                      {
                        "colorbar": {
                          "outlinewidth": 0,
                          "ticks": ""
                        },
                        "type": "mesh3d"
                      }
                    ],
                    "parcoords": [
                      {
                        "line": {
                          "colorbar": {
                            "outlinewidth": 0,
                            "ticks": ""
                          }
                        },
                        "type": "parcoords"
                      }
                    ],
                    "pie": [
                      {
                        "automargin": true,
                        "type": "pie"
                      }
                    ],
                    "scatter": [
                      {
                        "fillpattern": {
                          "fillmode": "overlay",
                          "size": 10,
                          "solidity": 0.2
                        },
                        "type": "scatter"
                      }
                    ],
                    "scatter3d": [
                      {
                        "line": {
                          "colorbar": {
                            "outlinewidth": 0,
                            "ticks": ""
                          }
                        },
                        "marker": {
                          "colorbar": {
                            "outlinewidth": 0,
                            "ticks": ""
                          }
                        },
                        "type": "scatter3d"
                      }
                    ],
                    "scattercarpet": [
                      {
                        "marker": {
                          "colorbar": {
                            "outlinewidth": 0,
                            "ticks": ""
                          }
                        },
                        "type": "scattercarpet"
                      }
                    ],
                    "scattergeo": [
                      {
                        "marker": {
                          "colorbar": {
                            "outlinewidth": 0,
                            "ticks": ""
                          }
                        },
                        "type": "scattergeo"
                      }
                    ],
                    "scattergl": [
                      {
                        "marker": {
                          "colorbar": {
                            "outlinewidth": 0,
                            "ticks": ""
                          }
                        },
                        "type": "scattergl"
                      }
                    ],
                    "scattermapbox": [
                      {
                        "marker": {
                          "colorbar": {
                            "outlinewidth": 0,
                            "ticks": ""
                          }
                        },
                        "type": "scattermapbox"
                      }
                    ],
                    "scatterpolar": [
                      {
                        "marker": {
                          "colorbar": {
                            "outlinewidth": 0,
                            "ticks": ""
                          }
                        },
                        "type": "scatterpolar"
                      }
                    ],
                    "scatterpolargl": [
                      {
                        "marker": {
                          "colorbar": {
                            "outlinewidth": 0,
                            "ticks": ""
                          }
                        },
                        "type": "scatterpolargl"
                      }
                    ],
                    "scatterternary": [
                      {
                        "marker": {
                          "colorbar": {
                            "outlinewidth": 0,
                            "ticks": ""
                          }
                        },
                        "type": "scatterternary"
                      }
                    ],
                    "surface": [
                      {
                        "colorbar": {
                          "outlinewidth": 0,
                          "ticks": ""
                        },
                        "colorscale": [
                          [
                            0,
                            "#0d0887"
                          ],
                          [
                            0.1111111111111111,
                            "#46039f"
                          ],
                          [
                            0.2222222222222222,
                            "#7201a8"
                          ],
                          [
                            0.3333333333333333,
                            "#9c179e"
                          ],
                          [
                            0.4444444444444444,
                            "#bd3786"
                          ],
                          [
                            0.5555555555555556,
                            "#d8576b"
                          ],
                          [
                            0.6666666666666666,
                            "#ed7953"
                          ],
                          [
                            0.7777777777777778,
                            "#fb9f3a"
                          ],
                          [
                            0.8888888888888888,
                            "#fdca26"
                          ],
                          [
                            1,
                            "#f0f921"
                          ]
                        ],
                        "type": "surface"
                      }
                    ],
                    "table": [
                      {
                        "cells": {
                          "fill": {
                            "color": "#EBF0F8"
                          },
                          "line": {
                            "color": "white"
                          }
                        },
                        "header": {
                          "fill": {
                            "color": "#C8D4E3"
                          },
                          "line": {
                            "color": "white"
                          }
                        },
                        "type": "table"
                      }
                    ]
                  },
                  "layout": {
                    "annotationdefaults": {
                      "arrowcolor": "#2a3f5f",
                      "arrowhead": 0,
                      "arrowwidth": 1
                    },
                    "autotypenumbers": "strict",
                    "coloraxis": {
                      "colorbar": {
                        "outlinewidth": 0,
                        "ticks": ""
                      }
                    },
                    "colorscale": {
                      "diverging": [
                        [
                          0,
                          "#8e0152"
                        ],
                        [
                          0.1,
                          "#c51b7d"
                        ],
                        [
                          0.2,
                          "#de77ae"
                        ],
                        [
                          0.3,
                          "#f1b6da"
                        ],
                        [
                          0.4,
                          "#fde0ef"
                        ],
                        [
                          0.5,
                          "#f7f7f7"
                        ],
                        [
                          0.6,
                          "#e6f5d0"
                        ],
                        [
                          0.7,
                          "#b8e186"
                        ],
                        [
                          0.8,
                          "#7fbc41"
                        ],
                        [
                          0.9,
                          "#4d9221"
                        ],
                        [
                          1,
                          "#276419"
                        ]
                      ],
                      "sequential": [
                        [
                          0,
                          "#0d0887"
                        ],
                        [
                          0.1111111111111111,
                          "#46039f"
                        ],
                        [
                          0.2222222222222222,
                          "#7201a8"
                        ],
                        [
                          0.3333333333333333,
                          "#9c179e"
                        ],
                        [
                          0.4444444444444444,
                          "#bd3786"
                        ],
                        [
                          0.5555555555555556,
                          "#d8576b"
                        ],
                        [
                          0.6666666666666666,
                          "#ed7953"
                        ],
                        [
                          0.7777777777777778,
                          "#fb9f3a"
                        ],
                        [
                          0.8888888888888888,
                          "#fdca26"
                        ],
                        [
                          1,
                          "#f0f921"
                        ]
                      ],
                      "sequentialminus": [
                        [
                          0,
                          "#0d0887"
                        ],
                        [
                          0.1111111111111111,
                          "#46039f"
                        ],
                        [
                          0.2222222222222222,
                          "#7201a8"
                        ],
                        [
                          0.3333333333333333,
                          "#9c179e"
                        ],
                        [
                          0.4444444444444444,
                          "#bd3786"
                        ],
                        [
                          0.5555555555555556,
                          "#d8576b"
                        ],
                        [
                          0.6666666666666666,
                          "#ed7953"
                        ],
                        [
                          0.7777777777777778,
                          "#fb9f3a"
                        ],
                        [
                          0.8888888888888888,
                          "#fdca26"
                        ],
                        [
                          1,
                          "#f0f921"
                        ]
                      ]
                    },
                    "colorway": [
                      "#636efa",
                      "#EF553B",
                      "#00cc96",
                      "#ab63fa",
                      "#FFA15A",
                      "#19d3f3",
                      "#FF6692",
                      "#B6E880",
                      "#FF97FF",
                      "#FECB52"
                    ],
                    "font": {
                      "color": "#2a3f5f"
                    },
                    "geo": {
                      "bgcolor": "white",
                      "lakecolor": "white",
                      "landcolor": "#E5ECF6",
                      "showlakes": true,
                      "showland": true,
                      "subunitcolor": "white"
                    },
                    "hoverlabel": {
                      "align": "left"
                    },
                    "hovermode": "closest",
                    "mapbox": {
                      "style": "light"
                    },
                    "paper_bgcolor": "white",
                    "plot_bgcolor": "#E5ECF6",
                    "polar": {
                      "angularaxis": {
                        "gridcolor": "white",
                        "linecolor": "white",
                        "ticks": ""
                      },
                      "bgcolor": "#E5ECF6",
                      "radialaxis": {
                        "gridcolor": "white",
                        "linecolor": "white",
                        "ticks": ""
                      }
                    },
                    "scene": {
                      "xaxis": {
                        "backgroundcolor": "#E5ECF6",
                        "gridcolor": "white",
                        "gridwidth": 2,
                        "linecolor": "white",
                        "showbackground": true,
                        "ticks": "",
                        "zerolinecolor": "white"
                      },
                      "yaxis": {
                        "backgroundcolor": "#E5ECF6",
                        "gridcolor": "white",
                        "gridwidth": 2,
                        "linecolor": "white",
                        "showbackground": true,
                        "ticks": "",
                        "zerolinecolor": "white"
                      },
                      "zaxis": {
                        "backgroundcolor": "#E5ECF6",
                        "gridcolor": "white",
                        "gridwidth": 2,
                        "linecolor": "white",
                        "showbackground": true,
                        "ticks": "",
                        "zerolinecolor": "white"
                      }
                    },
                    "shapedefaults": {
                      "line": {
                        "color": "#2a3f5f"
                      }
                    },
                    "ternary": {
                      "aaxis": {
                        "gridcolor": "white",
                        "linecolor": "white",
                        "ticks": ""
                      },
                      "baxis": {
                        "gridcolor": "white",
                        "linecolor": "white",
                        "ticks": ""
                      },
                      "bgcolor": "#E5ECF6",
                      "caxis": {
                        "gridcolor": "white",
                        "linecolor": "white",
                        "ticks": ""
                      }
                    },
                    "title": {
                      "x": 0.05
                    },
                    "xaxis": {
                      "automargin": true,
                      "gridcolor": "white",
                      "linecolor": "white",
                      "ticks": "",
                      "title": {
                        "standoff": 15
                      },
                      "zerolinecolor": "white",
                      "zerolinewidth": 2
                    },
                    "yaxis": {
                      "automargin": true,
                      "gridcolor": "white",
                      "linecolor": "white",
                      "ticks": "",
                      "title": {
                        "standoff": 15
                      },
                      "zerolinecolor": "white",
                      "zerolinewidth": 2
                    }
                  }
                },
                "title": {
                  "text": "Labour Force Participation Rate at the National Level over the years"
                },
                "xaxis": {
                  "anchor": "y",
                  "domain": [
                    0,
                    1
                  ],
                  "title": {
                    "text": "Year"
                  }
                },
                "yaxis": {
                  "anchor": "x",
                  "domain": [
                    0,
                    1
                  ],
                  "title": {
                    "text": "Labour Force Participation Rate in %"
                  }
                }
              }
            }
          },
          "metadata": {},
          "output_type": "display_data"
        }
      ],
      "source": [
        "#import matplotlib.pyplot as plt\n",
        "import plotly.express as px\n",
        "\n",
        "# Line Chart - Analyse LFPR for entire Population over the Years\n",
        "fig_line = px.line(data.loc[(data.Gender == \"Total\") & (data.Education == \"Aggregate levels: Total\") & (data.Sector == \"Area type: National\")], x=\"Year\", y=\"Value\", title=\"Labour Force Participation Rate at the National Level over the years\", labels={\"Value\": \"Labour Force Participation Rate in %\"})\n",
        "fig_line.show()"
      ]
    },
    {
      "cell_type": "markdown",
      "metadata": {
        "id": "JkscBzD_hhpF"
      },
      "source": [
        "## Analyse the Labour Force Participation rate by Gender over the Years"
      ]
    },
    {
      "cell_type": "code",
      "execution_count": 52,
      "metadata": {
        "colab": {
          "base_uri": "https://localhost:8080/",
          "height": 562
        },
        "id": "UZ-cGOr39ZNY",
        "outputId": "de0d876f-aa36-4fe5-fe32-04e3b8102b56"
      },
      "outputs": [
        {
          "data": {
            "application/vnd.plotly.v1+json": {
              "config": {
                "plotlyServerURL": "https://plot.ly"
              },
              "data": [
                {
                  "hovertemplate": "Gender=Male<br>Year=%{x}<br>Labour Force Participation Rate in %=%{y}<extra></extra>",
                  "legendgroup": "Male",
                  "line": {
                    "color": "#636efa",
                    "dash": "solid"
                  },
                  "marker": {
                    "symbol": "circle"
                  },
                  "mode": "lines",
                  "name": "Male",
                  "orientation": "v",
                  "showlegend": true,
                  "type": "scatter",
                  "x": [
                    2020,
                    2019,
                    2018,
                    2017,
                    2016,
                    2015,
                    2014,
                    2013,
                    2011,
                    2010
                  ],
                  "xaxis": "x",
                  "y": [
                    71.8,
                    72.9,
                    72.9,
                    74.5,
                    75,
                    74.6,
                    72.4,
                    72.7,
                    74,
                    75
                  ],
                  "yaxis": "y"
                },
                {
                  "hovertemplate": "Gender=Female<br>Year=%{x}<br>Labour Force Participation Rate in %=%{y}<extra></extra>",
                  "legendgroup": "Female",
                  "line": {
                    "color": "#EF553B",
                    "dash": "solid"
                  },
                  "marker": {
                    "symbol": "circle"
                  },
                  "mode": "lines",
                  "name": "Female",
                  "orientation": "v",
                  "showlegend": true,
                  "type": "scatter",
                  "x": [
                    2020,
                    2019,
                    2018,
                    2017,
                    2016,
                    2015,
                    2014,
                    2013,
                    2011,
                    2010
                  ],
                  "xaxis": "x",
                  "y": [
                    32,
                    34.4,
                    33.5,
                    36.5,
                    35.8,
                    35.8,
                    33.6,
                    34.2,
                    34.2,
                    34.3
                  ],
                  "yaxis": "y"
                }
              ],
              "layout": {
                "legend": {
                  "title": {
                    "text": "Gender"
                  },
                  "tracegroupgap": 0
                },
                "template": {
                  "data": {
                    "bar": [
                      {
                        "error_x": {
                          "color": "#2a3f5f"
                        },
                        "error_y": {
                          "color": "#2a3f5f"
                        },
                        "marker": {
                          "line": {
                            "color": "#E5ECF6",
                            "width": 0.5
                          },
                          "pattern": {
                            "fillmode": "overlay",
                            "size": 10,
                            "solidity": 0.2
                          }
                        },
                        "type": "bar"
                      }
                    ],
                    "barpolar": [
                      {
                        "marker": {
                          "line": {
                            "color": "#E5ECF6",
                            "width": 0.5
                          },
                          "pattern": {
                            "fillmode": "overlay",
                            "size": 10,
                            "solidity": 0.2
                          }
                        },
                        "type": "barpolar"
                      }
                    ],
                    "carpet": [
                      {
                        "aaxis": {
                          "endlinecolor": "#2a3f5f",
                          "gridcolor": "white",
                          "linecolor": "white",
                          "minorgridcolor": "white",
                          "startlinecolor": "#2a3f5f"
                        },
                        "baxis": {
                          "endlinecolor": "#2a3f5f",
                          "gridcolor": "white",
                          "linecolor": "white",
                          "minorgridcolor": "white",
                          "startlinecolor": "#2a3f5f"
                        },
                        "type": "carpet"
                      }
                    ],
                    "choropleth": [
                      {
                        "colorbar": {
                          "outlinewidth": 0,
                          "ticks": ""
                        },
                        "type": "choropleth"
                      }
                    ],
                    "contour": [
                      {
                        "colorbar": {
                          "outlinewidth": 0,
                          "ticks": ""
                        },
                        "colorscale": [
                          [
                            0,
                            "#0d0887"
                          ],
                          [
                            0.1111111111111111,
                            "#46039f"
                          ],
                          [
                            0.2222222222222222,
                            "#7201a8"
                          ],
                          [
                            0.3333333333333333,
                            "#9c179e"
                          ],
                          [
                            0.4444444444444444,
                            "#bd3786"
                          ],
                          [
                            0.5555555555555556,
                            "#d8576b"
                          ],
                          [
                            0.6666666666666666,
                            "#ed7953"
                          ],
                          [
                            0.7777777777777778,
                            "#fb9f3a"
                          ],
                          [
                            0.8888888888888888,
                            "#fdca26"
                          ],
                          [
                            1,
                            "#f0f921"
                          ]
                        ],
                        "type": "contour"
                      }
                    ],
                    "contourcarpet": [
                      {
                        "colorbar": {
                          "outlinewidth": 0,
                          "ticks": ""
                        },
                        "type": "contourcarpet"
                      }
                    ],
                    "heatmap": [
                      {
                        "colorbar": {
                          "outlinewidth": 0,
                          "ticks": ""
                        },
                        "colorscale": [
                          [
                            0,
                            "#0d0887"
                          ],
                          [
                            0.1111111111111111,
                            "#46039f"
                          ],
                          [
                            0.2222222222222222,
                            "#7201a8"
                          ],
                          [
                            0.3333333333333333,
                            "#9c179e"
                          ],
                          [
                            0.4444444444444444,
                            "#bd3786"
                          ],
                          [
                            0.5555555555555556,
                            "#d8576b"
                          ],
                          [
                            0.6666666666666666,
                            "#ed7953"
                          ],
                          [
                            0.7777777777777778,
                            "#fb9f3a"
                          ],
                          [
                            0.8888888888888888,
                            "#fdca26"
                          ],
                          [
                            1,
                            "#f0f921"
                          ]
                        ],
                        "type": "heatmap"
                      }
                    ],
                    "heatmapgl": [
                      {
                        "colorbar": {
                          "outlinewidth": 0,
                          "ticks": ""
                        },
                        "colorscale": [
                          [
                            0,
                            "#0d0887"
                          ],
                          [
                            0.1111111111111111,
                            "#46039f"
                          ],
                          [
                            0.2222222222222222,
                            "#7201a8"
                          ],
                          [
                            0.3333333333333333,
                            "#9c179e"
                          ],
                          [
                            0.4444444444444444,
                            "#bd3786"
                          ],
                          [
                            0.5555555555555556,
                            "#d8576b"
                          ],
                          [
                            0.6666666666666666,
                            "#ed7953"
                          ],
                          [
                            0.7777777777777778,
                            "#fb9f3a"
                          ],
                          [
                            0.8888888888888888,
                            "#fdca26"
                          ],
                          [
                            1,
                            "#f0f921"
                          ]
                        ],
                        "type": "heatmapgl"
                      }
                    ],
                    "histogram": [
                      {
                        "marker": {
                          "pattern": {
                            "fillmode": "overlay",
                            "size": 10,
                            "solidity": 0.2
                          }
                        },
                        "type": "histogram"
                      }
                    ],
                    "histogram2d": [
                      {
                        "colorbar": {
                          "outlinewidth": 0,
                          "ticks": ""
                        },
                        "colorscale": [
                          [
                            0,
                            "#0d0887"
                          ],
                          [
                            0.1111111111111111,
                            "#46039f"
                          ],
                          [
                            0.2222222222222222,
                            "#7201a8"
                          ],
                          [
                            0.3333333333333333,
                            "#9c179e"
                          ],
                          [
                            0.4444444444444444,
                            "#bd3786"
                          ],
                          [
                            0.5555555555555556,
                            "#d8576b"
                          ],
                          [
                            0.6666666666666666,
                            "#ed7953"
                          ],
                          [
                            0.7777777777777778,
                            "#fb9f3a"
                          ],
                          [
                            0.8888888888888888,
                            "#fdca26"
                          ],
                          [
                            1,
                            "#f0f921"
                          ]
                        ],
                        "type": "histogram2d"
                      }
                    ],
                    "histogram2dcontour": [
                      {
                        "colorbar": {
                          "outlinewidth": 0,
                          "ticks": ""
                        },
                        "colorscale": [
                          [
                            0,
                            "#0d0887"
                          ],
                          [
                            0.1111111111111111,
                            "#46039f"
                          ],
                          [
                            0.2222222222222222,
                            "#7201a8"
                          ],
                          [
                            0.3333333333333333,
                            "#9c179e"
                          ],
                          [
                            0.4444444444444444,
                            "#bd3786"
                          ],
                          [
                            0.5555555555555556,
                            "#d8576b"
                          ],
                          [
                            0.6666666666666666,
                            "#ed7953"
                          ],
                          [
                            0.7777777777777778,
                            "#fb9f3a"
                          ],
                          [
                            0.8888888888888888,
                            "#fdca26"
                          ],
                          [
                            1,
                            "#f0f921"
                          ]
                        ],
                        "type": "histogram2dcontour"
                      }
                    ],
                    "mesh3d": [
                      {
                        "colorbar": {
                          "outlinewidth": 0,
                          "ticks": ""
                        },
                        "type": "mesh3d"
                      }
                    ],
                    "parcoords": [
                      {
                        "line": {
                          "colorbar": {
                            "outlinewidth": 0,
                            "ticks": ""
                          }
                        },
                        "type": "parcoords"
                      }
                    ],
                    "pie": [
                      {
                        "automargin": true,
                        "type": "pie"
                      }
                    ],
                    "scatter": [
                      {
                        "fillpattern": {
                          "fillmode": "overlay",
                          "size": 10,
                          "solidity": 0.2
                        },
                        "type": "scatter"
                      }
                    ],
                    "scatter3d": [
                      {
                        "line": {
                          "colorbar": {
                            "outlinewidth": 0,
                            "ticks": ""
                          }
                        },
                        "marker": {
                          "colorbar": {
                            "outlinewidth": 0,
                            "ticks": ""
                          }
                        },
                        "type": "scatter3d"
                      }
                    ],
                    "scattercarpet": [
                      {
                        "marker": {
                          "colorbar": {
                            "outlinewidth": 0,
                            "ticks": ""
                          }
                        },
                        "type": "scattercarpet"
                      }
                    ],
                    "scattergeo": [
                      {
                        "marker": {
                          "colorbar": {
                            "outlinewidth": 0,
                            "ticks": ""
                          }
                        },
                        "type": "scattergeo"
                      }
                    ],
                    "scattergl": [
                      {
                        "marker": {
                          "colorbar": {
                            "outlinewidth": 0,
                            "ticks": ""
                          }
                        },
                        "type": "scattergl"
                      }
                    ],
                    "scattermapbox": [
                      {
                        "marker": {
                          "colorbar": {
                            "outlinewidth": 0,
                            "ticks": ""
                          }
                        },
                        "type": "scattermapbox"
                      }
                    ],
                    "scatterpolar": [
                      {
                        "marker": {
                          "colorbar": {
                            "outlinewidth": 0,
                            "ticks": ""
                          }
                        },
                        "type": "scatterpolar"
                      }
                    ],
                    "scatterpolargl": [
                      {
                        "marker": {
                          "colorbar": {
                            "outlinewidth": 0,
                            "ticks": ""
                          }
                        },
                        "type": "scatterpolargl"
                      }
                    ],
                    "scatterternary": [
                      {
                        "marker": {
                          "colorbar": {
                            "outlinewidth": 0,
                            "ticks": ""
                          }
                        },
                        "type": "scatterternary"
                      }
                    ],
                    "surface": [
                      {
                        "colorbar": {
                          "outlinewidth": 0,
                          "ticks": ""
                        },
                        "colorscale": [
                          [
                            0,
                            "#0d0887"
                          ],
                          [
                            0.1111111111111111,
                            "#46039f"
                          ],
                          [
                            0.2222222222222222,
                            "#7201a8"
                          ],
                          [
                            0.3333333333333333,
                            "#9c179e"
                          ],
                          [
                            0.4444444444444444,
                            "#bd3786"
                          ],
                          [
                            0.5555555555555556,
                            "#d8576b"
                          ],
                          [
                            0.6666666666666666,
                            "#ed7953"
                          ],
                          [
                            0.7777777777777778,
                            "#fb9f3a"
                          ],
                          [
                            0.8888888888888888,
                            "#fdca26"
                          ],
                          [
                            1,
                            "#f0f921"
                          ]
                        ],
                        "type": "surface"
                      }
                    ],
                    "table": [
                      {
                        "cells": {
                          "fill": {
                            "color": "#EBF0F8"
                          },
                          "line": {
                            "color": "white"
                          }
                        },
                        "header": {
                          "fill": {
                            "color": "#C8D4E3"
                          },
                          "line": {
                            "color": "white"
                          }
                        },
                        "type": "table"
                      }
                    ]
                  },
                  "layout": {
                    "annotationdefaults": {
                      "arrowcolor": "#2a3f5f",
                      "arrowhead": 0,
                      "arrowwidth": 1
                    },
                    "autotypenumbers": "strict",
                    "coloraxis": {
                      "colorbar": {
                        "outlinewidth": 0,
                        "ticks": ""
                      }
                    },
                    "colorscale": {
                      "diverging": [
                        [
                          0,
                          "#8e0152"
                        ],
                        [
                          0.1,
                          "#c51b7d"
                        ],
                        [
                          0.2,
                          "#de77ae"
                        ],
                        [
                          0.3,
                          "#f1b6da"
                        ],
                        [
                          0.4,
                          "#fde0ef"
                        ],
                        [
                          0.5,
                          "#f7f7f7"
                        ],
                        [
                          0.6,
                          "#e6f5d0"
                        ],
                        [
                          0.7,
                          "#b8e186"
                        ],
                        [
                          0.8,
                          "#7fbc41"
                        ],
                        [
                          0.9,
                          "#4d9221"
                        ],
                        [
                          1,
                          "#276419"
                        ]
                      ],
                      "sequential": [
                        [
                          0,
                          "#0d0887"
                        ],
                        [
                          0.1111111111111111,
                          "#46039f"
                        ],
                        [
                          0.2222222222222222,
                          "#7201a8"
                        ],
                        [
                          0.3333333333333333,
                          "#9c179e"
                        ],
                        [
                          0.4444444444444444,
                          "#bd3786"
                        ],
                        [
                          0.5555555555555556,
                          "#d8576b"
                        ],
                        [
                          0.6666666666666666,
                          "#ed7953"
                        ],
                        [
                          0.7777777777777778,
                          "#fb9f3a"
                        ],
                        [
                          0.8888888888888888,
                          "#fdca26"
                        ],
                        [
                          1,
                          "#f0f921"
                        ]
                      ],
                      "sequentialminus": [
                        [
                          0,
                          "#0d0887"
                        ],
                        [
                          0.1111111111111111,
                          "#46039f"
                        ],
                        [
                          0.2222222222222222,
                          "#7201a8"
                        ],
                        [
                          0.3333333333333333,
                          "#9c179e"
                        ],
                        [
                          0.4444444444444444,
                          "#bd3786"
                        ],
                        [
                          0.5555555555555556,
                          "#d8576b"
                        ],
                        [
                          0.6666666666666666,
                          "#ed7953"
                        ],
                        [
                          0.7777777777777778,
                          "#fb9f3a"
                        ],
                        [
                          0.8888888888888888,
                          "#fdca26"
                        ],
                        [
                          1,
                          "#f0f921"
                        ]
                      ]
                    },
                    "colorway": [
                      "#636efa",
                      "#EF553B",
                      "#00cc96",
                      "#ab63fa",
                      "#FFA15A",
                      "#19d3f3",
                      "#FF6692",
                      "#B6E880",
                      "#FF97FF",
                      "#FECB52"
                    ],
                    "font": {
                      "color": "#2a3f5f"
                    },
                    "geo": {
                      "bgcolor": "white",
                      "lakecolor": "white",
                      "landcolor": "#E5ECF6",
                      "showlakes": true,
                      "showland": true,
                      "subunitcolor": "white"
                    },
                    "hoverlabel": {
                      "align": "left"
                    },
                    "hovermode": "closest",
                    "mapbox": {
                      "style": "light"
                    },
                    "paper_bgcolor": "white",
                    "plot_bgcolor": "#E5ECF6",
                    "polar": {
                      "angularaxis": {
                        "gridcolor": "white",
                        "linecolor": "white",
                        "ticks": ""
                      },
                      "bgcolor": "#E5ECF6",
                      "radialaxis": {
                        "gridcolor": "white",
                        "linecolor": "white",
                        "ticks": ""
                      }
                    },
                    "scene": {
                      "xaxis": {
                        "backgroundcolor": "#E5ECF6",
                        "gridcolor": "white",
                        "gridwidth": 2,
                        "linecolor": "white",
                        "showbackground": true,
                        "ticks": "",
                        "zerolinecolor": "white"
                      },
                      "yaxis": {
                        "backgroundcolor": "#E5ECF6",
                        "gridcolor": "white",
                        "gridwidth": 2,
                        "linecolor": "white",
                        "showbackground": true,
                        "ticks": "",
                        "zerolinecolor": "white"
                      },
                      "zaxis": {
                        "backgroundcolor": "#E5ECF6",
                        "gridcolor": "white",
                        "gridwidth": 2,
                        "linecolor": "white",
                        "showbackground": true,
                        "ticks": "",
                        "zerolinecolor": "white"
                      }
                    },
                    "shapedefaults": {
                      "line": {
                        "color": "#2a3f5f"
                      }
                    },
                    "ternary": {
                      "aaxis": {
                        "gridcolor": "white",
                        "linecolor": "white",
                        "ticks": ""
                      },
                      "baxis": {
                        "gridcolor": "white",
                        "linecolor": "white",
                        "ticks": ""
                      },
                      "bgcolor": "#E5ECF6",
                      "caxis": {
                        "gridcolor": "white",
                        "linecolor": "white",
                        "ticks": ""
                      }
                    },
                    "title": {
                      "x": 0.05
                    },
                    "xaxis": {
                      "automargin": true,
                      "gridcolor": "white",
                      "linecolor": "white",
                      "ticks": "",
                      "title": {
                        "standoff": 15
                      },
                      "zerolinecolor": "white",
                      "zerolinewidth": 2
                    },
                    "yaxis": {
                      "automargin": true,
                      "gridcolor": "white",
                      "linecolor": "white",
                      "ticks": "",
                      "title": {
                        "standoff": 15
                      },
                      "zerolinecolor": "white",
                      "zerolinewidth": 2
                    }
                  }
                },
                "title": {
                  "text": "Labour Force Participation Rate at the National Level by Gender over the years"
                },
                "xaxis": {
                  "anchor": "y",
                  "domain": [
                    0,
                    1
                  ],
                  "title": {
                    "text": "Year"
                  }
                },
                "yaxis": {
                  "anchor": "x",
                  "domain": [
                    0,
                    1
                  ],
                  "title": {
                    "text": "Labour Force Participation Rate in %"
                  }
                }
              }
            }
          },
          "metadata": {},
          "output_type": "display_data"
        }
      ],
      "source": [
        "\n",
        "# Line Chart - Analyse LFPR for Male/Female(by Gender) over the Years\n",
        "fig_line = px.line(data.loc[((data.Gender == \"Male\") | (data.Gender == \"Female\")) & (data.Education == \"Aggregate levels: Total\") & (data.Sector == \"Area type: National\")], x=\"Year\", y=\"Value\", color=\"Gender\", title=\"Labour Force Participation Rate at the National Level by Gender over the years\", labels={\"Value\": \"Labour Force Participation Rate in %\"})\n",
        "fig_line.show()\n",
        "\n"
      ]
    },
    {
      "cell_type": "markdown",
      "metadata": {
        "id": "lRRvYBIQDQ7B"
      },
      "source": [
        "## Analyse LFPR by Education over the years"
      ]
    },
    {
      "cell_type": "code",
      "execution_count": 53,
      "metadata": {
        "colab": {
          "base_uri": "https://localhost:8080/",
          "height": 562
        },
        "id": "w9xL5bJW5eNq",
        "outputId": "3bf9e9e2-835b-4606-de5b-67a99c9d8084"
      },
      "outputs": [
        {
          "data": {
            "application/vnd.plotly.v1+json": {
              "config": {
                "plotlyServerURL": "https://plot.ly"
              },
              "data": [
                {
                  "hovertemplate": "Education=Aggregate levels: Total<br>Year=%{x}<br>Labour Force Participation Rate in %=%{y}<extra></extra>",
                  "legendgroup": "Aggregate levels: Total",
                  "line": {
                    "color": "#636efa",
                    "dash": "solid"
                  },
                  "marker": {
                    "symbol": "circle"
                  },
                  "mode": "lines",
                  "name": "Aggregate levels: Total",
                  "orientation": "v",
                  "showlegend": true,
                  "type": "scatter",
                  "x": [
                    2020,
                    2019,
                    2018,
                    2017,
                    2016,
                    2015,
                    2014,
                    2013,
                    2011,
                    2010
                  ],
                  "xaxis": "x",
                  "y": [
                    50.5,
                    52.2,
                    51.7,
                    54,
                    53.7,
                    53.7,
                    51.6,
                    52.1,
                    52.9,
                    53.3
                  ],
                  "yaxis": "y"
                },
                {
                  "hovertemplate": "Education=Aggregate levels: Less than basic<br>Year=%{x}<br>Labour Force Participation Rate in %=%{y}<extra></extra>",
                  "legendgroup": "Aggregate levels: Less than basic",
                  "line": {
                    "color": "#EF553B",
                    "dash": "solid"
                  },
                  "marker": {
                    "symbol": "circle"
                  },
                  "mode": "lines",
                  "name": "Aggregate levels: Less than basic",
                  "orientation": "v",
                  "showlegend": true,
                  "type": "scatter",
                  "x": [
                    2020,
                    2019,
                    2018,
                    2017,
                    2016,
                    2015,
                    2014,
                    2013,
                    2011,
                    2010
                  ],
                  "xaxis": "x",
                  "y": [
                    40.8,
                    43.9,
                    43.5,
                    47.3,
                    46.5,
                    46.8,
                    43.7,
                    46.7,
                    49,
                    48.4
                  ],
                  "yaxis": "y"
                },
                {
                  "hovertemplate": "Education=Aggregate levels: Basic<br>Year=%{x}<br>Labour Force Participation Rate in %=%{y}<extra></extra>",
                  "legendgroup": "Aggregate levels: Basic",
                  "line": {
                    "color": "#00cc96",
                    "dash": "solid"
                  },
                  "marker": {
                    "symbol": "circle"
                  },
                  "mode": "lines",
                  "name": "Aggregate levels: Basic",
                  "orientation": "v",
                  "showlegend": true,
                  "type": "scatter",
                  "x": [
                    2020,
                    2019,
                    2018,
                    2017,
                    2016,
                    2015,
                    2014,
                    2013,
                    2011,
                    2010
                  ],
                  "xaxis": "x",
                  "y": [
                    51.6,
                    52.8,
                    52.3,
                    54.1,
                    53.8,
                    54.6,
                    52.5,
                    52.7,
                    53.4,
                    53.9
                  ],
                  "yaxis": "y"
                },
                {
                  "hovertemplate": "Education=Aggregate levels: Intermediate<br>Year=%{x}<br>Labour Force Participation Rate in %=%{y}<extra></extra>",
                  "legendgroup": "Aggregate levels: Intermediate",
                  "line": {
                    "color": "#ab63fa",
                    "dash": "solid"
                  },
                  "marker": {
                    "symbol": "circle"
                  },
                  "mode": "lines",
                  "name": "Aggregate levels: Intermediate",
                  "orientation": "v",
                  "showlegend": true,
                  "type": "scatter",
                  "x": [
                    2020,
                    2019,
                    2018,
                    2017,
                    2016,
                    2015,
                    2014,
                    2013,
                    2011,
                    2010
                  ],
                  "xaxis": "x",
                  "y": [
                    48.8,
                    50.8,
                    50.5,
                    53.2,
                    53.3,
                    52.1,
                    50.6,
                    50.7,
                    51.4,
                    52.4
                  ],
                  "yaxis": "y"
                },
                {
                  "hovertemplate": "Education=Aggregate levels: Advanced<br>Year=%{x}<br>Labour Force Participation Rate in %=%{y}<extra></extra>",
                  "legendgroup": "Aggregate levels: Advanced",
                  "line": {
                    "color": "#FFA15A",
                    "dash": "solid"
                  },
                  "marker": {
                    "symbol": "circle"
                  },
                  "mode": "lines",
                  "name": "Aggregate levels: Advanced",
                  "orientation": "v",
                  "showlegend": true,
                  "type": "scatter",
                  "x": [
                    2020,
                    2019,
                    2018,
                    2017,
                    2016,
                    2015,
                    2014,
                    2013,
                    2011,
                    2010
                  ],
                  "xaxis": "x",
                  "y": [
                    81.1,
                    84.5,
                    83.3,
                    84.1,
                    84.7,
                    84.1,
                    81.3,
                    82.2,
                    82.8,
                    82.9
                  ],
                  "yaxis": "y"
                },
                {
                  "hovertemplate": "Education=Aggregate levels: Level not stated<br>Year=%{x}<br>Labour Force Participation Rate in %=%{y}<extra></extra>",
                  "legendgroup": "Aggregate levels: Level not stated",
                  "line": {
                    "color": "#19d3f3",
                    "dash": "solid"
                  },
                  "marker": {
                    "symbol": "circle"
                  },
                  "mode": "lines",
                  "name": "Aggregate levels: Level not stated",
                  "orientation": "v",
                  "showlegend": true,
                  "type": "scatter",
                  "x": [
                    2020,
                    2019,
                    2018,
                    2017,
                    2016,
                    2015,
                    2014,
                    2013
                  ],
                  "xaxis": "x",
                  "y": [
                    21.3,
                    19.1,
                    29.8,
                    36.1,
                    43,
                    39.3,
                    45.1,
                    40.8
                  ],
                  "yaxis": "y"
                },
                {
                  "hovertemplate": "Education=ISCED-11: Total<br>Year=%{x}<br>Labour Force Participation Rate in %=%{y}<extra></extra>",
                  "legendgroup": "ISCED-11: Total",
                  "line": {
                    "color": "#FF6692",
                    "dash": "solid"
                  },
                  "marker": {
                    "symbol": "circle"
                  },
                  "mode": "lines",
                  "name": "ISCED-11: Total",
                  "orientation": "v",
                  "showlegend": true,
                  "type": "scatter",
                  "x": [
                    2020,
                    2019,
                    2018,
                    2017,
                    2016,
                    2015,
                    2014,
                    2013,
                    2011,
                    2010
                  ],
                  "xaxis": "x",
                  "y": [
                    50.5,
                    52.2,
                    51.7,
                    54,
                    53.7,
                    53.7,
                    51.6,
                    52.1,
                    52.9,
                    53.3
                  ],
                  "yaxis": "y"
                },
                {
                  "hovertemplate": "Education=ISCED-11: X. No schooling<br>Year=%{x}<br>Labour Force Participation Rate in %=%{y}<extra></extra>",
                  "legendgroup": "ISCED-11: X. No schooling",
                  "line": {
                    "color": "#B6E880",
                    "dash": "solid"
                  },
                  "marker": {
                    "symbol": "circle"
                  },
                  "mode": "lines",
                  "name": "ISCED-11: X. No schooling",
                  "orientation": "v",
                  "showlegend": true,
                  "type": "scatter",
                  "x": [
                    2020,
                    2019,
                    2018,
                    2017,
                    2016,
                    2015,
                    2014,
                    2013,
                    2011,
                    2010
                  ],
                  "xaxis": "x",
                  "y": [
                    31.6,
                    34.1,
                    34.7,
                    36.8,
                    36.9,
                    35.8,
                    33.3,
                    36.1,
                    38.4,
                    37.5
                  ],
                  "yaxis": "y"
                },
                {
                  "hovertemplate": "Education=ISCED-11: 0. Early childhood education<br>Year=%{x}<br>Labour Force Participation Rate in %=%{y}<extra></extra>",
                  "legendgroup": "ISCED-11: 0. Early childhood education",
                  "line": {
                    "color": "#FF97FF",
                    "dash": "solid"
                  },
                  "marker": {
                    "symbol": "circle"
                  },
                  "mode": "lines",
                  "name": "ISCED-11: 0. Early childhood education",
                  "orientation": "v",
                  "showlegend": true,
                  "type": "scatter",
                  "x": [
                    2020,
                    2019,
                    2018,
                    2017,
                    2016,
                    2015,
                    2014,
                    2013,
                    2011,
                    2010
                  ],
                  "xaxis": "x",
                  "y": [
                    44.1,
                    47.3,
                    46.4,
                    50.8,
                    49.3,
                    50,
                    47.3,
                    50.1,
                    53,
                    52.6
                  ],
                  "yaxis": "y"
                },
                {
                  "hovertemplate": "Education=ISCED-11: 1. Primary education<br>Year=%{x}<br>Labour Force Participation Rate in %=%{y}<extra></extra>",
                  "legendgroup": "ISCED-11: 1. Primary education",
                  "line": {
                    "color": "#FECB52",
                    "dash": "solid"
                  },
                  "marker": {
                    "symbol": "circle"
                  },
                  "mode": "lines",
                  "name": "ISCED-11: 1. Primary education",
                  "orientation": "v",
                  "showlegend": true,
                  "type": "scatter",
                  "x": [
                    2020,
                    2019,
                    2018,
                    2017,
                    2016,
                    2015,
                    2014,
                    2013,
                    2011,
                    2010
                  ],
                  "xaxis": "x",
                  "y": [
                    51.7,
                    52.6,
                    53.2,
                    54.4,
                    54,
                    55.2,
                    52.9,
                    53.4,
                    55.6,
                    56.6
                  ],
                  "yaxis": "y"
                },
                {
                  "hovertemplate": "Education=ISCED-11: 2. Lower secondary education<br>Year=%{x}<br>Labour Force Participation Rate in %=%{y}<extra></extra>",
                  "legendgroup": "ISCED-11: 2. Lower secondary education",
                  "line": {
                    "color": "#636efa",
                    "dash": "solid"
                  },
                  "marker": {
                    "symbol": "circle"
                  },
                  "mode": "lines",
                  "name": "ISCED-11: 2. Lower secondary education",
                  "orientation": "v",
                  "showlegend": true,
                  "type": "scatter",
                  "x": [
                    2020,
                    2019,
                    2018,
                    2017,
                    2016,
                    2015,
                    2014,
                    2013,
                    2011,
                    2010
                  ],
                  "xaxis": "x",
                  "y": [
                    51.5,
                    52.9,
                    51.9,
                    53.9,
                    53.7,
                    54.2,
                    52.2,
                    52.3,
                    51.9,
                    52.1
                  ],
                  "yaxis": "y"
                },
                {
                  "hovertemplate": "Education=ISCED-11: 3. Upper secondary education<br>Year=%{x}<br>Labour Force Participation Rate in %=%{y}<extra></extra>",
                  "legendgroup": "ISCED-11: 3. Upper secondary education",
                  "line": {
                    "color": "#EF553B",
                    "dash": "solid"
                  },
                  "marker": {
                    "symbol": "circle"
                  },
                  "mode": "lines",
                  "name": "ISCED-11: 3. Upper secondary education",
                  "orientation": "v",
                  "showlegend": true,
                  "type": "scatter",
                  "x": [
                    2020,
                    2019,
                    2018,
                    2017,
                    2016,
                    2015,
                    2014,
                    2013,
                    2011,
                    2010
                  ],
                  "xaxis": "x",
                  "y": [
                    48.8,
                    50.8,
                    50.5,
                    53.2,
                    53.3,
                    52.1,
                    50.6,
                    50.7,
                    51.4,
                    52.4
                  ],
                  "yaxis": "y"
                },
                {
                  "hovertemplate": "Education=ISCED-11: 5. Short-cycle tertiary education<br>Year=%{x}<br>Labour Force Participation Rate in %=%{y}<extra></extra>",
                  "legendgroup": "ISCED-11: 5. Short-cycle tertiary education",
                  "line": {
                    "color": "#00cc96",
                    "dash": "solid"
                  },
                  "marker": {
                    "symbol": "circle"
                  },
                  "mode": "lines",
                  "name": "ISCED-11: 5. Short-cycle tertiary education",
                  "orientation": "v",
                  "showlegend": true,
                  "type": "scatter",
                  "x": [
                    2020,
                    2019,
                    2018,
                    2017,
                    2016,
                    2015,
                    2014,
                    2013,
                    2011,
                    2010
                  ],
                  "xaxis": "x",
                  "y": [
                    81.1,
                    84.8,
                    84.6,
                    84.4,
                    85.8,
                    84,
                    82.6,
                    83,
                    82.5,
                    83.5
                  ],
                  "yaxis": "y"
                },
                {
                  "hovertemplate": "Education=ISCED-11: 6. Bachelor's or equivalent level<br>Year=%{x}<br>Labour Force Participation Rate in %=%{y}<extra></extra>",
                  "legendgroup": "ISCED-11: 6. Bachelor's or equivalent level",
                  "line": {
                    "color": "#ab63fa",
                    "dash": "solid"
                  },
                  "marker": {
                    "symbol": "circle"
                  },
                  "mode": "lines",
                  "name": "ISCED-11: 6. Bachelor's or equivalent level",
                  "orientation": "v",
                  "showlegend": true,
                  "type": "scatter",
                  "x": [
                    2020,
                    2019,
                    2018,
                    2017,
                    2016,
                    2015,
                    2014,
                    2013,
                    2011,
                    2010
                  ],
                  "xaxis": "x",
                  "y": [
                    81,
                    82.7,
                    76.5,
                    82.7,
                    80.6,
                    84.5,
                    75.5,
                    79.4,
                    84.4,
                    80.2
                  ],
                  "yaxis": "y"
                },
                {
                  "hovertemplate": "Education=ISCED-11: 9. Not elsewhere classified<br>Year=%{x}<br>Labour Force Participation Rate in %=%{y}<extra></extra>",
                  "legendgroup": "ISCED-11: 9. Not elsewhere classified",
                  "line": {
                    "color": "#FFA15A",
                    "dash": "solid"
                  },
                  "marker": {
                    "symbol": "circle"
                  },
                  "mode": "lines",
                  "name": "ISCED-11: 9. Not elsewhere classified",
                  "orientation": "v",
                  "showlegend": true,
                  "type": "scatter",
                  "x": [
                    2020,
                    2019,
                    2018,
                    2017,
                    2016,
                    2015,
                    2014,
                    2013
                  ],
                  "xaxis": "x",
                  "y": [
                    21.3,
                    19.1,
                    29.8,
                    36.1,
                    43,
                    39.3,
                    45.1,
                    40.8
                  ],
                  "yaxis": "y"
                }
              ],
              "layout": {
                "legend": {
                  "title": {
                    "text": "Education"
                  },
                  "tracegroupgap": 0
                },
                "template": {
                  "data": {
                    "bar": [
                      {
                        "error_x": {
                          "color": "#2a3f5f"
                        },
                        "error_y": {
                          "color": "#2a3f5f"
                        },
                        "marker": {
                          "line": {
                            "color": "#E5ECF6",
                            "width": 0.5
                          },
                          "pattern": {
                            "fillmode": "overlay",
                            "size": 10,
                            "solidity": 0.2
                          }
                        },
                        "type": "bar"
                      }
                    ],
                    "barpolar": [
                      {
                        "marker": {
                          "line": {
                            "color": "#E5ECF6",
                            "width": 0.5
                          },
                          "pattern": {
                            "fillmode": "overlay",
                            "size": 10,
                            "solidity": 0.2
                          }
                        },
                        "type": "barpolar"
                      }
                    ],
                    "carpet": [
                      {
                        "aaxis": {
                          "endlinecolor": "#2a3f5f",
                          "gridcolor": "white",
                          "linecolor": "white",
                          "minorgridcolor": "white",
                          "startlinecolor": "#2a3f5f"
                        },
                        "baxis": {
                          "endlinecolor": "#2a3f5f",
                          "gridcolor": "white",
                          "linecolor": "white",
                          "minorgridcolor": "white",
                          "startlinecolor": "#2a3f5f"
                        },
                        "type": "carpet"
                      }
                    ],
                    "choropleth": [
                      {
                        "colorbar": {
                          "outlinewidth": 0,
                          "ticks": ""
                        },
                        "type": "choropleth"
                      }
                    ],
                    "contour": [
                      {
                        "colorbar": {
                          "outlinewidth": 0,
                          "ticks": ""
                        },
                        "colorscale": [
                          [
                            0,
                            "#0d0887"
                          ],
                          [
                            0.1111111111111111,
                            "#46039f"
                          ],
                          [
                            0.2222222222222222,
                            "#7201a8"
                          ],
                          [
                            0.3333333333333333,
                            "#9c179e"
                          ],
                          [
                            0.4444444444444444,
                            "#bd3786"
                          ],
                          [
                            0.5555555555555556,
                            "#d8576b"
                          ],
                          [
                            0.6666666666666666,
                            "#ed7953"
                          ],
                          [
                            0.7777777777777778,
                            "#fb9f3a"
                          ],
                          [
                            0.8888888888888888,
                            "#fdca26"
                          ],
                          [
                            1,
                            "#f0f921"
                          ]
                        ],
                        "type": "contour"
                      }
                    ],
                    "contourcarpet": [
                      {
                        "colorbar": {
                          "outlinewidth": 0,
                          "ticks": ""
                        },
                        "type": "contourcarpet"
                      }
                    ],
                    "heatmap": [
                      {
                        "colorbar": {
                          "outlinewidth": 0,
                          "ticks": ""
                        },
                        "colorscale": [
                          [
                            0,
                            "#0d0887"
                          ],
                          [
                            0.1111111111111111,
                            "#46039f"
                          ],
                          [
                            0.2222222222222222,
                            "#7201a8"
                          ],
                          [
                            0.3333333333333333,
                            "#9c179e"
                          ],
                          [
                            0.4444444444444444,
                            "#bd3786"
                          ],
                          [
                            0.5555555555555556,
                            "#d8576b"
                          ],
                          [
                            0.6666666666666666,
                            "#ed7953"
                          ],
                          [
                            0.7777777777777778,
                            "#fb9f3a"
                          ],
                          [
                            0.8888888888888888,
                            "#fdca26"
                          ],
                          [
                            1,
                            "#f0f921"
                          ]
                        ],
                        "type": "heatmap"
                      }
                    ],
                    "heatmapgl": [
                      {
                        "colorbar": {
                          "outlinewidth": 0,
                          "ticks": ""
                        },
                        "colorscale": [
                          [
                            0,
                            "#0d0887"
                          ],
                          [
                            0.1111111111111111,
                            "#46039f"
                          ],
                          [
                            0.2222222222222222,
                            "#7201a8"
                          ],
                          [
                            0.3333333333333333,
                            "#9c179e"
                          ],
                          [
                            0.4444444444444444,
                            "#bd3786"
                          ],
                          [
                            0.5555555555555556,
                            "#d8576b"
                          ],
                          [
                            0.6666666666666666,
                            "#ed7953"
                          ],
                          [
                            0.7777777777777778,
                            "#fb9f3a"
                          ],
                          [
                            0.8888888888888888,
                            "#fdca26"
                          ],
                          [
                            1,
                            "#f0f921"
                          ]
                        ],
                        "type": "heatmapgl"
                      }
                    ],
                    "histogram": [
                      {
                        "marker": {
                          "pattern": {
                            "fillmode": "overlay",
                            "size": 10,
                            "solidity": 0.2
                          }
                        },
                        "type": "histogram"
                      }
                    ],
                    "histogram2d": [
                      {
                        "colorbar": {
                          "outlinewidth": 0,
                          "ticks": ""
                        },
                        "colorscale": [
                          [
                            0,
                            "#0d0887"
                          ],
                          [
                            0.1111111111111111,
                            "#46039f"
                          ],
                          [
                            0.2222222222222222,
                            "#7201a8"
                          ],
                          [
                            0.3333333333333333,
                            "#9c179e"
                          ],
                          [
                            0.4444444444444444,
                            "#bd3786"
                          ],
                          [
                            0.5555555555555556,
                            "#d8576b"
                          ],
                          [
                            0.6666666666666666,
                            "#ed7953"
                          ],
                          [
                            0.7777777777777778,
                            "#fb9f3a"
                          ],
                          [
                            0.8888888888888888,
                            "#fdca26"
                          ],
                          [
                            1,
                            "#f0f921"
                          ]
                        ],
                        "type": "histogram2d"
                      }
                    ],
                    "histogram2dcontour": [
                      {
                        "colorbar": {
                          "outlinewidth": 0,
                          "ticks": ""
                        },
                        "colorscale": [
                          [
                            0,
                            "#0d0887"
                          ],
                          [
                            0.1111111111111111,
                            "#46039f"
                          ],
                          [
                            0.2222222222222222,
                            "#7201a8"
                          ],
                          [
                            0.3333333333333333,
                            "#9c179e"
                          ],
                          [
                            0.4444444444444444,
                            "#bd3786"
                          ],
                          [
                            0.5555555555555556,
                            "#d8576b"
                          ],
                          [
                            0.6666666666666666,
                            "#ed7953"
                          ],
                          [
                            0.7777777777777778,
                            "#fb9f3a"
                          ],
                          [
                            0.8888888888888888,
                            "#fdca26"
                          ],
                          [
                            1,
                            "#f0f921"
                          ]
                        ],
                        "type": "histogram2dcontour"
                      }
                    ],
                    "mesh3d": [
                      {
                        "colorbar": {
                          "outlinewidth": 0,
                          "ticks": ""
                        },
                        "type": "mesh3d"
                      }
                    ],
                    "parcoords": [
                      {
                        "line": {
                          "colorbar": {
                            "outlinewidth": 0,
                            "ticks": ""
                          }
                        },
                        "type": "parcoords"
                      }
                    ],
                    "pie": [
                      {
                        "automargin": true,
                        "type": "pie"
                      }
                    ],
                    "scatter": [
                      {
                        "fillpattern": {
                          "fillmode": "overlay",
                          "size": 10,
                          "solidity": 0.2
                        },
                        "type": "scatter"
                      }
                    ],
                    "scatter3d": [
                      {
                        "line": {
                          "colorbar": {
                            "outlinewidth": 0,
                            "ticks": ""
                          }
                        },
                        "marker": {
                          "colorbar": {
                            "outlinewidth": 0,
                            "ticks": ""
                          }
                        },
                        "type": "scatter3d"
                      }
                    ],
                    "scattercarpet": [
                      {
                        "marker": {
                          "colorbar": {
                            "outlinewidth": 0,
                            "ticks": ""
                          }
                        },
                        "type": "scattercarpet"
                      }
                    ],
                    "scattergeo": [
                      {
                        "marker": {
                          "colorbar": {
                            "outlinewidth": 0,
                            "ticks": ""
                          }
                        },
                        "type": "scattergeo"
                      }
                    ],
                    "scattergl": [
                      {
                        "marker": {
                          "colorbar": {
                            "outlinewidth": 0,
                            "ticks": ""
                          }
                        },
                        "type": "scattergl"
                      }
                    ],
                    "scattermapbox": [
                      {
                        "marker": {
                          "colorbar": {
                            "outlinewidth": 0,
                            "ticks": ""
                          }
                        },
                        "type": "scattermapbox"
                      }
                    ],
                    "scatterpolar": [
                      {
                        "marker": {
                          "colorbar": {
                            "outlinewidth": 0,
                            "ticks": ""
                          }
                        },
                        "type": "scatterpolar"
                      }
                    ],
                    "scatterpolargl": [
                      {
                        "marker": {
                          "colorbar": {
                            "outlinewidth": 0,
                            "ticks": ""
                          }
                        },
                        "type": "scatterpolargl"
                      }
                    ],
                    "scatterternary": [
                      {
                        "marker": {
                          "colorbar": {
                            "outlinewidth": 0,
                            "ticks": ""
                          }
                        },
                        "type": "scatterternary"
                      }
                    ],
                    "surface": [
                      {
                        "colorbar": {
                          "outlinewidth": 0,
                          "ticks": ""
                        },
                        "colorscale": [
                          [
                            0,
                            "#0d0887"
                          ],
                          [
                            0.1111111111111111,
                            "#46039f"
                          ],
                          [
                            0.2222222222222222,
                            "#7201a8"
                          ],
                          [
                            0.3333333333333333,
                            "#9c179e"
                          ],
                          [
                            0.4444444444444444,
                            "#bd3786"
                          ],
                          [
                            0.5555555555555556,
                            "#d8576b"
                          ],
                          [
                            0.6666666666666666,
                            "#ed7953"
                          ],
                          [
                            0.7777777777777778,
                            "#fb9f3a"
                          ],
                          [
                            0.8888888888888888,
                            "#fdca26"
                          ],
                          [
                            1,
                            "#f0f921"
                          ]
                        ],
                        "type": "surface"
                      }
                    ],
                    "table": [
                      {
                        "cells": {
                          "fill": {
                            "color": "#EBF0F8"
                          },
                          "line": {
                            "color": "white"
                          }
                        },
                        "header": {
                          "fill": {
                            "color": "#C8D4E3"
                          },
                          "line": {
                            "color": "white"
                          }
                        },
                        "type": "table"
                      }
                    ]
                  },
                  "layout": {
                    "annotationdefaults": {
                      "arrowcolor": "#2a3f5f",
                      "arrowhead": 0,
                      "arrowwidth": 1
                    },
                    "autotypenumbers": "strict",
                    "coloraxis": {
                      "colorbar": {
                        "outlinewidth": 0,
                        "ticks": ""
                      }
                    },
                    "colorscale": {
                      "diverging": [
                        [
                          0,
                          "#8e0152"
                        ],
                        [
                          0.1,
                          "#c51b7d"
                        ],
                        [
                          0.2,
                          "#de77ae"
                        ],
                        [
                          0.3,
                          "#f1b6da"
                        ],
                        [
                          0.4,
                          "#fde0ef"
                        ],
                        [
                          0.5,
                          "#f7f7f7"
                        ],
                        [
                          0.6,
                          "#e6f5d0"
                        ],
                        [
                          0.7,
                          "#b8e186"
                        ],
                        [
                          0.8,
                          "#7fbc41"
                        ],
                        [
                          0.9,
                          "#4d9221"
                        ],
                        [
                          1,
                          "#276419"
                        ]
                      ],
                      "sequential": [
                        [
                          0,
                          "#0d0887"
                        ],
                        [
                          0.1111111111111111,
                          "#46039f"
                        ],
                        [
                          0.2222222222222222,
                          "#7201a8"
                        ],
                        [
                          0.3333333333333333,
                          "#9c179e"
                        ],
                        [
                          0.4444444444444444,
                          "#bd3786"
                        ],
                        [
                          0.5555555555555556,
                          "#d8576b"
                        ],
                        [
                          0.6666666666666666,
                          "#ed7953"
                        ],
                        [
                          0.7777777777777778,
                          "#fb9f3a"
                        ],
                        [
                          0.8888888888888888,
                          "#fdca26"
                        ],
                        [
                          1,
                          "#f0f921"
                        ]
                      ],
                      "sequentialminus": [
                        [
                          0,
                          "#0d0887"
                        ],
                        [
                          0.1111111111111111,
                          "#46039f"
                        ],
                        [
                          0.2222222222222222,
                          "#7201a8"
                        ],
                        [
                          0.3333333333333333,
                          "#9c179e"
                        ],
                        [
                          0.4444444444444444,
                          "#bd3786"
                        ],
                        [
                          0.5555555555555556,
                          "#d8576b"
                        ],
                        [
                          0.6666666666666666,
                          "#ed7953"
                        ],
                        [
                          0.7777777777777778,
                          "#fb9f3a"
                        ],
                        [
                          0.8888888888888888,
                          "#fdca26"
                        ],
                        [
                          1,
                          "#f0f921"
                        ]
                      ]
                    },
                    "colorway": [
                      "#636efa",
                      "#EF553B",
                      "#00cc96",
                      "#ab63fa",
                      "#FFA15A",
                      "#19d3f3",
                      "#FF6692",
                      "#B6E880",
                      "#FF97FF",
                      "#FECB52"
                    ],
                    "font": {
                      "color": "#2a3f5f"
                    },
                    "geo": {
                      "bgcolor": "white",
                      "lakecolor": "white",
                      "landcolor": "#E5ECF6",
                      "showlakes": true,
                      "showland": true,
                      "subunitcolor": "white"
                    },
                    "hoverlabel": {
                      "align": "left"
                    },
                    "hovermode": "closest",
                    "mapbox": {
                      "style": "light"
                    },
                    "paper_bgcolor": "white",
                    "plot_bgcolor": "#E5ECF6",
                    "polar": {
                      "angularaxis": {
                        "gridcolor": "white",
                        "linecolor": "white",
                        "ticks": ""
                      },
                      "bgcolor": "#E5ECF6",
                      "radialaxis": {
                        "gridcolor": "white",
                        "linecolor": "white",
                        "ticks": ""
                      }
                    },
                    "scene": {
                      "xaxis": {
                        "backgroundcolor": "#E5ECF6",
                        "gridcolor": "white",
                        "gridwidth": 2,
                        "linecolor": "white",
                        "showbackground": true,
                        "ticks": "",
                        "zerolinecolor": "white"
                      },
                      "yaxis": {
                        "backgroundcolor": "#E5ECF6",
                        "gridcolor": "white",
                        "gridwidth": 2,
                        "linecolor": "white",
                        "showbackground": true,
                        "ticks": "",
                        "zerolinecolor": "white"
                      },
                      "zaxis": {
                        "backgroundcolor": "#E5ECF6",
                        "gridcolor": "white",
                        "gridwidth": 2,
                        "linecolor": "white",
                        "showbackground": true,
                        "ticks": "",
                        "zerolinecolor": "white"
                      }
                    },
                    "shapedefaults": {
                      "line": {
                        "color": "#2a3f5f"
                      }
                    },
                    "ternary": {
                      "aaxis": {
                        "gridcolor": "white",
                        "linecolor": "white",
                        "ticks": ""
                      },
                      "baxis": {
                        "gridcolor": "white",
                        "linecolor": "white",
                        "ticks": ""
                      },
                      "bgcolor": "#E5ECF6",
                      "caxis": {
                        "gridcolor": "white",
                        "linecolor": "white",
                        "ticks": ""
                      }
                    },
                    "title": {
                      "x": 0.05
                    },
                    "xaxis": {
                      "automargin": true,
                      "gridcolor": "white",
                      "linecolor": "white",
                      "ticks": "",
                      "title": {
                        "standoff": 15
                      },
                      "zerolinecolor": "white",
                      "zerolinewidth": 2
                    },
                    "yaxis": {
                      "automargin": true,
                      "gridcolor": "white",
                      "linecolor": "white",
                      "ticks": "",
                      "title": {
                        "standoff": 15
                      },
                      "zerolinecolor": "white",
                      "zerolinewidth": 2
                    }
                  }
                },
                "title": {
                  "text": "Labour Force Participation Rate by Education Level over the years"
                },
                "xaxis": {
                  "anchor": "y",
                  "domain": [
                    0,
                    1
                  ],
                  "title": {
                    "text": "Year"
                  }
                },
                "yaxis": {
                  "anchor": "x",
                  "domain": [
                    0,
                    1
                  ],
                  "title": {
                    "text": "Labour Force Participation Rate in %"
                  }
                }
              }
            }
          },
          "metadata": {},
          "output_type": "display_data"
        }
      ],
      "source": [
        "# Line Chart - Analyse LFPR for Male/Female(by Gender) over the Years\n",
        "fig_line = px.line(data.loc[(data.Gender == \"Total\")  & (data.Sector == \"Area type: National\")], x=\"Year\", y=\"Value\", color=\"Education\", title=\"Labour Force Participation Rate by Education Level over the years\", labels={\"Value\": \"Labour Force Participation Rate in %\"})\n",
        "fig_line.show()\n"
      ]
    },
    {
      "cell_type": "markdown",
      "metadata": {
        "id": "Xipo38dNg7uU"
      },
      "source": [
        "## Analyse the Labour Force Participation rate by Sector over the Years"
      ]
    },
    {
      "cell_type": "code",
      "execution_count": 54,
      "metadata": {
        "colab": {
          "base_uri": "https://localhost:8080/",
          "height": 562
        },
        "id": "VIa2gta3VJLl",
        "outputId": "c6214ad9-0fc3-4993-c886-6282b17c048f"
      },
      "outputs": [
        {
          "data": {
            "application/vnd.plotly.v1+json": {
              "config": {
                "plotlyServerURL": "https://plot.ly"
              },
              "data": [
                {
                  "hovertemplate": "Sector=Area type: National<br>Year=%{x}<br>Labour Force Participation Rate in %=%{y}<extra></extra>",
                  "legendgroup": "Area type: National",
                  "line": {
                    "color": "#636efa",
                    "dash": "solid"
                  },
                  "marker": {
                    "symbol": "circle"
                  },
                  "mode": "lines",
                  "name": "Area type: National",
                  "orientation": "v",
                  "showlegend": true,
                  "type": "scatter",
                  "x": [
                    2020,
                    2019,
                    2018,
                    2017,
                    2016,
                    2015,
                    2014,
                    2013,
                    2011,
                    2010
                  ],
                  "xaxis": "x",
                  "y": [
                    50.5,
                    52.2,
                    51.7,
                    54,
                    53.7,
                    53.7,
                    51.6,
                    52.1,
                    52.9,
                    53.3
                  ],
                  "yaxis": "y"
                },
                {
                  "hovertemplate": "Sector=Area type: Rural<br>Year=%{x}<br>Labour Force Participation Rate in %=%{y}<extra></extra>",
                  "legendgroup": "Area type: Rural",
                  "line": {
                    "color": "#EF553B",
                    "dash": "solid"
                  },
                  "marker": {
                    "symbol": "circle"
                  },
                  "mode": "lines",
                  "name": "Area type: Rural",
                  "orientation": "v",
                  "showlegend": true,
                  "type": "scatter",
                  "x": [
                    2020,
                    2019,
                    2018,
                    2017,
                    2016,
                    2015,
                    2014,
                    2013,
                    2011,
                    2010
                  ],
                  "xaxis": "x",
                  "y": [
                    51.3,
                    52.7,
                    52.2,
                    54.8,
                    54.5,
                    54.7,
                    52.4,
                    53.1,
                    53.7,
                    54.3
                  ],
                  "yaxis": "y"
                },
                {
                  "hovertemplate": "Sector=Area type: Urban<br>Year=%{x}<br>Labour Force Participation Rate in %=%{y}<extra></extra>",
                  "legendgroup": "Area type: Urban",
                  "line": {
                    "color": "#00cc96",
                    "dash": "solid"
                  },
                  "marker": {
                    "symbol": "circle"
                  },
                  "mode": "lines",
                  "name": "Area type: Urban",
                  "orientation": "v",
                  "showlegend": true,
                  "type": "scatter",
                  "x": [
                    2020,
                    2019,
                    2018,
                    2017,
                    2016,
                    2015,
                    2014,
                    2013,
                    2011,
                    2010
                  ],
                  "xaxis": "x",
                  "y": [
                    46.9,
                    50.2,
                    49.6,
                    50.4,
                    49.7,
                    48.5,
                    47.8,
                    46.9,
                    47.6,
                    46.7
                  ],
                  "yaxis": "y"
                }
              ],
              "layout": {
                "legend": {
                  "title": {
                    "text": "Sector"
                  },
                  "tracegroupgap": 0
                },
                "template": {
                  "data": {
                    "bar": [
                      {
                        "error_x": {
                          "color": "#2a3f5f"
                        },
                        "error_y": {
                          "color": "#2a3f5f"
                        },
                        "marker": {
                          "line": {
                            "color": "#E5ECF6",
                            "width": 0.5
                          },
                          "pattern": {
                            "fillmode": "overlay",
                            "size": 10,
                            "solidity": 0.2
                          }
                        },
                        "type": "bar"
                      }
                    ],
                    "barpolar": [
                      {
                        "marker": {
                          "line": {
                            "color": "#E5ECF6",
                            "width": 0.5
                          },
                          "pattern": {
                            "fillmode": "overlay",
                            "size": 10,
                            "solidity": 0.2
                          }
                        },
                        "type": "barpolar"
                      }
                    ],
                    "carpet": [
                      {
                        "aaxis": {
                          "endlinecolor": "#2a3f5f",
                          "gridcolor": "white",
                          "linecolor": "white",
                          "minorgridcolor": "white",
                          "startlinecolor": "#2a3f5f"
                        },
                        "baxis": {
                          "endlinecolor": "#2a3f5f",
                          "gridcolor": "white",
                          "linecolor": "white",
                          "minorgridcolor": "white",
                          "startlinecolor": "#2a3f5f"
                        },
                        "type": "carpet"
                      }
                    ],
                    "choropleth": [
                      {
                        "colorbar": {
                          "outlinewidth": 0,
                          "ticks": ""
                        },
                        "type": "choropleth"
                      }
                    ],
                    "contour": [
                      {
                        "colorbar": {
                          "outlinewidth": 0,
                          "ticks": ""
                        },
                        "colorscale": [
                          [
                            0,
                            "#0d0887"
                          ],
                          [
                            0.1111111111111111,
                            "#46039f"
                          ],
                          [
                            0.2222222222222222,
                            "#7201a8"
                          ],
                          [
                            0.3333333333333333,
                            "#9c179e"
                          ],
                          [
                            0.4444444444444444,
                            "#bd3786"
                          ],
                          [
                            0.5555555555555556,
                            "#d8576b"
                          ],
                          [
                            0.6666666666666666,
                            "#ed7953"
                          ],
                          [
                            0.7777777777777778,
                            "#fb9f3a"
                          ],
                          [
                            0.8888888888888888,
                            "#fdca26"
                          ],
                          [
                            1,
                            "#f0f921"
                          ]
                        ],
                        "type": "contour"
                      }
                    ],
                    "contourcarpet": [
                      {
                        "colorbar": {
                          "outlinewidth": 0,
                          "ticks": ""
                        },
                        "type": "contourcarpet"
                      }
                    ],
                    "heatmap": [
                      {
                        "colorbar": {
                          "outlinewidth": 0,
                          "ticks": ""
                        },
                        "colorscale": [
                          [
                            0,
                            "#0d0887"
                          ],
                          [
                            0.1111111111111111,
                            "#46039f"
                          ],
                          [
                            0.2222222222222222,
                            "#7201a8"
                          ],
                          [
                            0.3333333333333333,
                            "#9c179e"
                          ],
                          [
                            0.4444444444444444,
                            "#bd3786"
                          ],
                          [
                            0.5555555555555556,
                            "#d8576b"
                          ],
                          [
                            0.6666666666666666,
                            "#ed7953"
                          ],
                          [
                            0.7777777777777778,
                            "#fb9f3a"
                          ],
                          [
                            0.8888888888888888,
                            "#fdca26"
                          ],
                          [
                            1,
                            "#f0f921"
                          ]
                        ],
                        "type": "heatmap"
                      }
                    ],
                    "heatmapgl": [
                      {
                        "colorbar": {
                          "outlinewidth": 0,
                          "ticks": ""
                        },
                        "colorscale": [
                          [
                            0,
                            "#0d0887"
                          ],
                          [
                            0.1111111111111111,
                            "#46039f"
                          ],
                          [
                            0.2222222222222222,
                            "#7201a8"
                          ],
                          [
                            0.3333333333333333,
                            "#9c179e"
                          ],
                          [
                            0.4444444444444444,
                            "#bd3786"
                          ],
                          [
                            0.5555555555555556,
                            "#d8576b"
                          ],
                          [
                            0.6666666666666666,
                            "#ed7953"
                          ],
                          [
                            0.7777777777777778,
                            "#fb9f3a"
                          ],
                          [
                            0.8888888888888888,
                            "#fdca26"
                          ],
                          [
                            1,
                            "#f0f921"
                          ]
                        ],
                        "type": "heatmapgl"
                      }
                    ],
                    "histogram": [
                      {
                        "marker": {
                          "pattern": {
                            "fillmode": "overlay",
                            "size": 10,
                            "solidity": 0.2
                          }
                        },
                        "type": "histogram"
                      }
                    ],
                    "histogram2d": [
                      {
                        "colorbar": {
                          "outlinewidth": 0,
                          "ticks": ""
                        },
                        "colorscale": [
                          [
                            0,
                            "#0d0887"
                          ],
                          [
                            0.1111111111111111,
                            "#46039f"
                          ],
                          [
                            0.2222222222222222,
                            "#7201a8"
                          ],
                          [
                            0.3333333333333333,
                            "#9c179e"
                          ],
                          [
                            0.4444444444444444,
                            "#bd3786"
                          ],
                          [
                            0.5555555555555556,
                            "#d8576b"
                          ],
                          [
                            0.6666666666666666,
                            "#ed7953"
                          ],
                          [
                            0.7777777777777778,
                            "#fb9f3a"
                          ],
                          [
                            0.8888888888888888,
                            "#fdca26"
                          ],
                          [
                            1,
                            "#f0f921"
                          ]
                        ],
                        "type": "histogram2d"
                      }
                    ],
                    "histogram2dcontour": [
                      {
                        "colorbar": {
                          "outlinewidth": 0,
                          "ticks": ""
                        },
                        "colorscale": [
                          [
                            0,
                            "#0d0887"
                          ],
                          [
                            0.1111111111111111,
                            "#46039f"
                          ],
                          [
                            0.2222222222222222,
                            "#7201a8"
                          ],
                          [
                            0.3333333333333333,
                            "#9c179e"
                          ],
                          [
                            0.4444444444444444,
                            "#bd3786"
                          ],
                          [
                            0.5555555555555556,
                            "#d8576b"
                          ],
                          [
                            0.6666666666666666,
                            "#ed7953"
                          ],
                          [
                            0.7777777777777778,
                            "#fb9f3a"
                          ],
                          [
                            0.8888888888888888,
                            "#fdca26"
                          ],
                          [
                            1,
                            "#f0f921"
                          ]
                        ],
                        "type": "histogram2dcontour"
                      }
                    ],
                    "mesh3d": [
                      {
                        "colorbar": {
                          "outlinewidth": 0,
                          "ticks": ""
                        },
                        "type": "mesh3d"
                      }
                    ],
                    "parcoords": [
                      {
                        "line": {
                          "colorbar": {
                            "outlinewidth": 0,
                            "ticks": ""
                          }
                        },
                        "type": "parcoords"
                      }
                    ],
                    "pie": [
                      {
                        "automargin": true,
                        "type": "pie"
                      }
                    ],
                    "scatter": [
                      {
                        "fillpattern": {
                          "fillmode": "overlay",
                          "size": 10,
                          "solidity": 0.2
                        },
                        "type": "scatter"
                      }
                    ],
                    "scatter3d": [
                      {
                        "line": {
                          "colorbar": {
                            "outlinewidth": 0,
                            "ticks": ""
                          }
                        },
                        "marker": {
                          "colorbar": {
                            "outlinewidth": 0,
                            "ticks": ""
                          }
                        },
                        "type": "scatter3d"
                      }
                    ],
                    "scattercarpet": [
                      {
                        "marker": {
                          "colorbar": {
                            "outlinewidth": 0,
                            "ticks": ""
                          }
                        },
                        "type": "scattercarpet"
                      }
                    ],
                    "scattergeo": [
                      {
                        "marker": {
                          "colorbar": {
                            "outlinewidth": 0,
                            "ticks": ""
                          }
                        },
                        "type": "scattergeo"
                      }
                    ],
                    "scattergl": [
                      {
                        "marker": {
                          "colorbar": {
                            "outlinewidth": 0,
                            "ticks": ""
                          }
                        },
                        "type": "scattergl"
                      }
                    ],
                    "scattermapbox": [
                      {
                        "marker": {
                          "colorbar": {
                            "outlinewidth": 0,
                            "ticks": ""
                          }
                        },
                        "type": "scattermapbox"
                      }
                    ],
                    "scatterpolar": [
                      {
                        "marker": {
                          "colorbar": {
                            "outlinewidth": 0,
                            "ticks": ""
                          }
                        },
                        "type": "scatterpolar"
                      }
                    ],
                    "scatterpolargl": [
                      {
                        "marker": {
                          "colorbar": {
                            "outlinewidth": 0,
                            "ticks": ""
                          }
                        },
                        "type": "scatterpolargl"
                      }
                    ],
                    "scatterternary": [
                      {
                        "marker": {
                          "colorbar": {
                            "outlinewidth": 0,
                            "ticks": ""
                          }
                        },
                        "type": "scatterternary"
                      }
                    ],
                    "surface": [
                      {
                        "colorbar": {
                          "outlinewidth": 0,
                          "ticks": ""
                        },
                        "colorscale": [
                          [
                            0,
                            "#0d0887"
                          ],
                          [
                            0.1111111111111111,
                            "#46039f"
                          ],
                          [
                            0.2222222222222222,
                            "#7201a8"
                          ],
                          [
                            0.3333333333333333,
                            "#9c179e"
                          ],
                          [
                            0.4444444444444444,
                            "#bd3786"
                          ],
                          [
                            0.5555555555555556,
                            "#d8576b"
                          ],
                          [
                            0.6666666666666666,
                            "#ed7953"
                          ],
                          [
                            0.7777777777777778,
                            "#fb9f3a"
                          ],
                          [
                            0.8888888888888888,
                            "#fdca26"
                          ],
                          [
                            1,
                            "#f0f921"
                          ]
                        ],
                        "type": "surface"
                      }
                    ],
                    "table": [
                      {
                        "cells": {
                          "fill": {
                            "color": "#EBF0F8"
                          },
                          "line": {
                            "color": "white"
                          }
                        },
                        "header": {
                          "fill": {
                            "color": "#C8D4E3"
                          },
                          "line": {
                            "color": "white"
                          }
                        },
                        "type": "table"
                      }
                    ]
                  },
                  "layout": {
                    "annotationdefaults": {
                      "arrowcolor": "#2a3f5f",
                      "arrowhead": 0,
                      "arrowwidth": 1
                    },
                    "autotypenumbers": "strict",
                    "coloraxis": {
                      "colorbar": {
                        "outlinewidth": 0,
                        "ticks": ""
                      }
                    },
                    "colorscale": {
                      "diverging": [
                        [
                          0,
                          "#8e0152"
                        ],
                        [
                          0.1,
                          "#c51b7d"
                        ],
                        [
                          0.2,
                          "#de77ae"
                        ],
                        [
                          0.3,
                          "#f1b6da"
                        ],
                        [
                          0.4,
                          "#fde0ef"
                        ],
                        [
                          0.5,
                          "#f7f7f7"
                        ],
                        [
                          0.6,
                          "#e6f5d0"
                        ],
                        [
                          0.7,
                          "#b8e186"
                        ],
                        [
                          0.8,
                          "#7fbc41"
                        ],
                        [
                          0.9,
                          "#4d9221"
                        ],
                        [
                          1,
                          "#276419"
                        ]
                      ],
                      "sequential": [
                        [
                          0,
                          "#0d0887"
                        ],
                        [
                          0.1111111111111111,
                          "#46039f"
                        ],
                        [
                          0.2222222222222222,
                          "#7201a8"
                        ],
                        [
                          0.3333333333333333,
                          "#9c179e"
                        ],
                        [
                          0.4444444444444444,
                          "#bd3786"
                        ],
                        [
                          0.5555555555555556,
                          "#d8576b"
                        ],
                        [
                          0.6666666666666666,
                          "#ed7953"
                        ],
                        [
                          0.7777777777777778,
                          "#fb9f3a"
                        ],
                        [
                          0.8888888888888888,
                          "#fdca26"
                        ],
                        [
                          1,
                          "#f0f921"
                        ]
                      ],
                      "sequentialminus": [
                        [
                          0,
                          "#0d0887"
                        ],
                        [
                          0.1111111111111111,
                          "#46039f"
                        ],
                        [
                          0.2222222222222222,
                          "#7201a8"
                        ],
                        [
                          0.3333333333333333,
                          "#9c179e"
                        ],
                        [
                          0.4444444444444444,
                          "#bd3786"
                        ],
                        [
                          0.5555555555555556,
                          "#d8576b"
                        ],
                        [
                          0.6666666666666666,
                          "#ed7953"
                        ],
                        [
                          0.7777777777777778,
                          "#fb9f3a"
                        ],
                        [
                          0.8888888888888888,
                          "#fdca26"
                        ],
                        [
                          1,
                          "#f0f921"
                        ]
                      ]
                    },
                    "colorway": [
                      "#636efa",
                      "#EF553B",
                      "#00cc96",
                      "#ab63fa",
                      "#FFA15A",
                      "#19d3f3",
                      "#FF6692",
                      "#B6E880",
                      "#FF97FF",
                      "#FECB52"
                    ],
                    "font": {
                      "color": "#2a3f5f"
                    },
                    "geo": {
                      "bgcolor": "white",
                      "lakecolor": "white",
                      "landcolor": "#E5ECF6",
                      "showlakes": true,
                      "showland": true,
                      "subunitcolor": "white"
                    },
                    "hoverlabel": {
                      "align": "left"
                    },
                    "hovermode": "closest",
                    "mapbox": {
                      "style": "light"
                    },
                    "paper_bgcolor": "white",
                    "plot_bgcolor": "#E5ECF6",
                    "polar": {
                      "angularaxis": {
                        "gridcolor": "white",
                        "linecolor": "white",
                        "ticks": ""
                      },
                      "bgcolor": "#E5ECF6",
                      "radialaxis": {
                        "gridcolor": "white",
                        "linecolor": "white",
                        "ticks": ""
                      }
                    },
                    "scene": {
                      "xaxis": {
                        "backgroundcolor": "#E5ECF6",
                        "gridcolor": "white",
                        "gridwidth": 2,
                        "linecolor": "white",
                        "showbackground": true,
                        "ticks": "",
                        "zerolinecolor": "white"
                      },
                      "yaxis": {
                        "backgroundcolor": "#E5ECF6",
                        "gridcolor": "white",
                        "gridwidth": 2,
                        "linecolor": "white",
                        "showbackground": true,
                        "ticks": "",
                        "zerolinecolor": "white"
                      },
                      "zaxis": {
                        "backgroundcolor": "#E5ECF6",
                        "gridcolor": "white",
                        "gridwidth": 2,
                        "linecolor": "white",
                        "showbackground": true,
                        "ticks": "",
                        "zerolinecolor": "white"
                      }
                    },
                    "shapedefaults": {
                      "line": {
                        "color": "#2a3f5f"
                      }
                    },
                    "ternary": {
                      "aaxis": {
                        "gridcolor": "white",
                        "linecolor": "white",
                        "ticks": ""
                      },
                      "baxis": {
                        "gridcolor": "white",
                        "linecolor": "white",
                        "ticks": ""
                      },
                      "bgcolor": "#E5ECF6",
                      "caxis": {
                        "gridcolor": "white",
                        "linecolor": "white",
                        "ticks": ""
                      }
                    },
                    "title": {
                      "x": 0.05
                    },
                    "xaxis": {
                      "automargin": true,
                      "gridcolor": "white",
                      "linecolor": "white",
                      "ticks": "",
                      "title": {
                        "standoff": 15
                      },
                      "zerolinecolor": "white",
                      "zerolinewidth": 2
                    },
                    "yaxis": {
                      "automargin": true,
                      "gridcolor": "white",
                      "linecolor": "white",
                      "ticks": "",
                      "title": {
                        "standoff": 15
                      },
                      "zerolinecolor": "white",
                      "zerolinewidth": 2
                    }
                  }
                },
                "title": {
                  "text": "Labour Force Participation Rate by Sector over the years"
                },
                "xaxis": {
                  "anchor": "y",
                  "domain": [
                    0,
                    1
                  ],
                  "title": {
                    "text": "Year"
                  }
                },
                "yaxis": {
                  "anchor": "x",
                  "domain": [
                    0,
                    1
                  ],
                  "title": {
                    "text": "Labour Force Participation Rate in %"
                  }
                }
              }
            }
          },
          "metadata": {},
          "output_type": "display_data"
        }
      ],
      "source": [
        "# Line Chart - Analyse LFPR for Male/Female(by Sector) over the Years\n",
        "fig_line = px.line(data.loc[(data.Gender == \"Total\")  & (data.Education == \"Aggregate levels: Total\")], x=\"Year\", y=\"Value\", color=\"Sector\", title=\"Labour Force Participation Rate by Sector over the years\", labels={\"Value\": \"Labour Force Participation Rate in %\"})\n",
        "fig_line.show()"
      ]
    },
    {
      "cell_type": "markdown",
      "metadata": {
        "id": "rL44H4WMhGsi"
      },
      "source": [
        "## Analyse the Labour Force Participation rate by Gender and Sector over the Years"
      ]
    },
    {
      "cell_type": "code",
      "execution_count": 55,
      "metadata": {
        "colab": {
          "base_uri": "https://localhost:8080/",
          "height": 562
        },
        "id": "QajL22-_R25u",
        "outputId": "9bae4414-f54d-422b-dc6f-dc2d87d373a4"
      },
      "outputs": [
        {
          "data": {
            "application/vnd.plotly.v1+json": {
              "config": {
                "plotlyServerURL": "https://plot.ly"
              },
              "data": [
                {
                  "alignmentgroup": "True",
                  "bingroup": "x",
                  "histfunc": "sum",
                  "hoverinfo": "all",
                  "hovertemplate": "Gender=Total<br>Sector=Area type: National<br>Year=%{x}<br>sum of Labour Force Participation Rate by %=%{y}<extra></extra>",
                  "legendgroup": "Total, Area type: National",
                  "marker": {
                    "color": "blue",
                    "pattern": {
                      "shape": ""
                    }
                  },
                  "name": "Total, Area type: National",
                  "offsetgroup": "Total, Area type: National",
                  "orientation": "v",
                  "showlegend": true,
                  "texttemplate": "%{value}",
                  "type": "histogram",
                  "x": [
                    2020,
                    2019,
                    2018,
                    2017,
                    2016,
                    2015,
                    2014,
                    2013,
                    2011,
                    2010
                  ],
                  "xaxis": "x",
                  "y": [
                    50.5,
                    52.2,
                    51.7,
                    54,
                    53.7,
                    53.7,
                    51.6,
                    52.1,
                    52.9,
                    53.3
                  ],
                  "yaxis": "y"
                },
                {
                  "alignmentgroup": "True",
                  "bingroup": "x",
                  "histfunc": "sum",
                  "hoverinfo": "all",
                  "hovertemplate": "Gender=Total<br>Sector=Area type: Rural<br>Year=%{x}<br>sum of Labour Force Participation Rate by %=%{y}<extra></extra>",
                  "legendgroup": "Total, Area type: Rural",
                  "marker": {
                    "color": "blue",
                    "pattern": {
                      "shape": "/"
                    }
                  },
                  "name": "Total, Area type: Rural",
                  "offsetgroup": "Total, Area type: Rural",
                  "orientation": "v",
                  "showlegend": true,
                  "texttemplate": "%{value}",
                  "type": "histogram",
                  "x": [
                    2020,
                    2019,
                    2018,
                    2017,
                    2016,
                    2015,
                    2014,
                    2013,
                    2011,
                    2010
                  ],
                  "xaxis": "x",
                  "y": [
                    51.3,
                    52.7,
                    52.2,
                    54.8,
                    54.5,
                    54.7,
                    52.4,
                    53.1,
                    53.7,
                    54.3
                  ],
                  "yaxis": "y"
                },
                {
                  "alignmentgroup": "True",
                  "bingroup": "x",
                  "histfunc": "sum",
                  "hoverinfo": "all",
                  "hovertemplate": "Gender=Total<br>Sector=Area type: Urban<br>Year=%{x}<br>sum of Labour Force Participation Rate by %=%{y}<extra></extra>",
                  "legendgroup": "Total, Area type: Urban",
                  "marker": {
                    "color": "blue",
                    "pattern": {
                      "shape": "\\"
                    }
                  },
                  "name": "Total, Area type: Urban",
                  "offsetgroup": "Total, Area type: Urban",
                  "orientation": "v",
                  "showlegend": true,
                  "texttemplate": "%{value}",
                  "type": "histogram",
                  "x": [
                    2020,
                    2019,
                    2018,
                    2017,
                    2016,
                    2015,
                    2014,
                    2013,
                    2011,
                    2010
                  ],
                  "xaxis": "x",
                  "y": [
                    46.9,
                    50.2,
                    49.6,
                    50.4,
                    49.7,
                    48.5,
                    47.8,
                    46.9,
                    47.6,
                    46.7
                  ],
                  "yaxis": "y"
                },
                {
                  "alignmentgroup": "True",
                  "bingroup": "x",
                  "histfunc": "sum",
                  "hoverinfo": "all",
                  "hovertemplate": "Gender=Male<br>Sector=Area type: National<br>Year=%{x}<br>sum of Labour Force Participation Rate by %=%{y}<extra></extra>",
                  "legendgroup": "Male, Area type: National",
                  "marker": {
                    "color": "pink",
                    "pattern": {
                      "shape": ""
                    }
                  },
                  "name": "Male, Area type: National",
                  "offsetgroup": "Male, Area type: National",
                  "orientation": "v",
                  "showlegend": true,
                  "texttemplate": "%{value}",
                  "type": "histogram",
                  "x": [
                    2020,
                    2019,
                    2018,
                    2017,
                    2016,
                    2015,
                    2014,
                    2013,
                    2011,
                    2010
                  ],
                  "xaxis": "x",
                  "y": [
                    71.8,
                    72.9,
                    72.9,
                    74.5,
                    75,
                    74.6,
                    72.4,
                    72.7,
                    74,
                    75
                  ],
                  "yaxis": "y"
                },
                {
                  "alignmentgroup": "True",
                  "bingroup": "x",
                  "histfunc": "sum",
                  "hoverinfo": "all",
                  "hovertemplate": "Gender=Male<br>Sector=Area type: Rural<br>Year=%{x}<br>sum of Labour Force Participation Rate by %=%{y}<extra></extra>",
                  "legendgroup": "Male, Area type: Rural",
                  "marker": {
                    "color": "pink",
                    "pattern": {
                      "shape": "/"
                    }
                  },
                  "name": "Male, Area type: Rural",
                  "offsetgroup": "Male, Area type: Rural",
                  "orientation": "v",
                  "showlegend": true,
                  "texttemplate": "%{value}",
                  "type": "histogram",
                  "x": [
                    2020,
                    2019,
                    2018,
                    2017,
                    2016,
                    2015,
                    2014,
                    2013,
                    2011,
                    2010
                  ],
                  "xaxis": "x",
                  "y": [
                    72.5,
                    73.4,
                    73.1,
                    74.9,
                    75.5,
                    75.6,
                    73.1,
                    73.5,
                    74.7,
                    75.5
                  ],
                  "yaxis": "y"
                },
                {
                  "alignmentgroup": "True",
                  "bingroup": "x",
                  "histfunc": "sum",
                  "hoverinfo": "all",
                  "hovertemplate": "Gender=Male<br>Sector=Area type: Urban<br>Year=%{x}<br>sum of Labour Force Participation Rate by %=%{y}<extra></extra>",
                  "legendgroup": "Male, Area type: Urban",
                  "marker": {
                    "color": "pink",
                    "pattern": {
                      "shape": "\\"
                    }
                  },
                  "name": "Male, Area type: Urban",
                  "offsetgroup": "Male, Area type: Urban",
                  "orientation": "v",
                  "showlegend": true,
                  "texttemplate": "%{value}",
                  "type": "histogram",
                  "x": [
                    2020,
                    2019,
                    2018,
                    2017,
                    2016,
                    2015,
                    2014,
                    2013,
                    2011,
                    2010
                  ],
                  "xaxis": "x",
                  "y": [
                    68.4,
                    70.7,
                    72,
                    72.5,
                    72.6,
                    70,
                    69.1,
                    68.9,
                    69.7,
                    71.2
                  ],
                  "yaxis": "y"
                },
                {
                  "alignmentgroup": "True",
                  "bingroup": "x",
                  "histfunc": "sum",
                  "hoverinfo": "all",
                  "hovertemplate": "Gender=Female<br>Sector=Area type: National<br>Year=%{x}<br>sum of Labour Force Participation Rate by %=%{y}<extra></extra>",
                  "legendgroup": "Female, Area type: National",
                  "marker": {
                    "color": "green",
                    "pattern": {
                      "shape": ""
                    }
                  },
                  "name": "Female, Area type: National",
                  "offsetgroup": "Female, Area type: National",
                  "orientation": "v",
                  "showlegend": true,
                  "texttemplate": "%{value}",
                  "type": "histogram",
                  "x": [
                    2020,
                    2019,
                    2018,
                    2017,
                    2016,
                    2015,
                    2014,
                    2013,
                    2011,
                    2010
                  ],
                  "xaxis": "x",
                  "y": [
                    32,
                    34.4,
                    33.5,
                    36.5,
                    35.8,
                    35.8,
                    33.6,
                    34.2,
                    34.2,
                    34.3
                  ],
                  "yaxis": "y"
                },
                {
                  "alignmentgroup": "True",
                  "bingroup": "x",
                  "histfunc": "sum",
                  "hoverinfo": "all",
                  "hovertemplate": "Gender=Female<br>Sector=Area type: Rural<br>Year=%{x}<br>sum of Labour Force Participation Rate by %=%{y}<extra></extra>",
                  "legendgroup": "Female, Area type: Rural",
                  "marker": {
                    "color": "green",
                    "pattern": {
                      "shape": "/"
                    }
                  },
                  "name": "Female, Area type: Rural",
                  "offsetgroup": "Female, Area type: Rural",
                  "orientation": "v",
                  "showlegend": true,
                  "texttemplate": "%{value}",
                  "type": "histogram",
                  "x": [
                    2020,
                    2019,
                    2018,
                    2017,
                    2016,
                    2015,
                    2014,
                    2013,
                    2011,
                    2010
                  ],
                  "xaxis": "x",
                  "y": [
                    32.8,
                    34.8,
                    34.2,
                    37.6,
                    36.9,
                    36.9,
                    34.5,
                    35.7,
                    35.2,
                    35.6
                  ],
                  "yaxis": "y"
                },
                {
                  "alignmentgroup": "True",
                  "bingroup": "x",
                  "histfunc": "sum",
                  "hoverinfo": "all",
                  "hovertemplate": "Gender=Female<br>Sector=Area type: Urban<br>Year=%{x}<br>sum of Labour Force Participation Rate by %=%{y}<extra></extra>",
                  "legendgroup": "Female, Area type: Urban",
                  "marker": {
                    "color": "green",
                    "pattern": {
                      "shape": "\\"
                    }
                  },
                  "name": "Female, Area type: Urban",
                  "offsetgroup": "Female, Area type: Urban",
                  "orientation": "v",
                  "showlegend": true,
                  "texttemplate": "%{value}",
                  "type": "histogram",
                  "x": [
                    2020,
                    2019,
                    2018,
                    2017,
                    2016,
                    2015,
                    2014,
                    2013,
                    2011,
                    2010
                  ],
                  "xaxis": "x",
                  "y": [
                    27.9,
                    32.7,
                    29.9,
                    31.5,
                    30.2,
                    29.9,
                    28.9,
                    27.1,
                    27.9,
                    26.3
                  ],
                  "yaxis": "y"
                }
              ],
              "layout": {
                "barmode": "relative",
                "legend": {
                  "title": {
                    "text": "Gender, Sector"
                  },
                  "tracegroupgap": 0
                },
                "margin": {
                  "t": 60
                },
                "template": {
                  "data": {
                    "bar": [
                      {
                        "error_x": {
                          "color": "#2a3f5f"
                        },
                        "error_y": {
                          "color": "#2a3f5f"
                        },
                        "marker": {
                          "line": {
                            "color": "#E5ECF6",
                            "width": 0.5
                          },
                          "pattern": {
                            "fillmode": "overlay",
                            "size": 10,
                            "solidity": 0.2
                          }
                        },
                        "type": "bar"
                      }
                    ],
                    "barpolar": [
                      {
                        "marker": {
                          "line": {
                            "color": "#E5ECF6",
                            "width": 0.5
                          },
                          "pattern": {
                            "fillmode": "overlay",
                            "size": 10,
                            "solidity": 0.2
                          }
                        },
                        "type": "barpolar"
                      }
                    ],
                    "carpet": [
                      {
                        "aaxis": {
                          "endlinecolor": "#2a3f5f",
                          "gridcolor": "white",
                          "linecolor": "white",
                          "minorgridcolor": "white",
                          "startlinecolor": "#2a3f5f"
                        },
                        "baxis": {
                          "endlinecolor": "#2a3f5f",
                          "gridcolor": "white",
                          "linecolor": "white",
                          "minorgridcolor": "white",
                          "startlinecolor": "#2a3f5f"
                        },
                        "type": "carpet"
                      }
                    ],
                    "choropleth": [
                      {
                        "colorbar": {
                          "outlinewidth": 0,
                          "ticks": ""
                        },
                        "type": "choropleth"
                      }
                    ],
                    "contour": [
                      {
                        "colorbar": {
                          "outlinewidth": 0,
                          "ticks": ""
                        },
                        "colorscale": [
                          [
                            0,
                            "#0d0887"
                          ],
                          [
                            0.1111111111111111,
                            "#46039f"
                          ],
                          [
                            0.2222222222222222,
                            "#7201a8"
                          ],
                          [
                            0.3333333333333333,
                            "#9c179e"
                          ],
                          [
                            0.4444444444444444,
                            "#bd3786"
                          ],
                          [
                            0.5555555555555556,
                            "#d8576b"
                          ],
                          [
                            0.6666666666666666,
                            "#ed7953"
                          ],
                          [
                            0.7777777777777778,
                            "#fb9f3a"
                          ],
                          [
                            0.8888888888888888,
                            "#fdca26"
                          ],
                          [
                            1,
                            "#f0f921"
                          ]
                        ],
                        "type": "contour"
                      }
                    ],
                    "contourcarpet": [
                      {
                        "colorbar": {
                          "outlinewidth": 0,
                          "ticks": ""
                        },
                        "type": "contourcarpet"
                      }
                    ],
                    "heatmap": [
                      {
                        "colorbar": {
                          "outlinewidth": 0,
                          "ticks": ""
                        },
                        "colorscale": [
                          [
                            0,
                            "#0d0887"
                          ],
                          [
                            0.1111111111111111,
                            "#46039f"
                          ],
                          [
                            0.2222222222222222,
                            "#7201a8"
                          ],
                          [
                            0.3333333333333333,
                            "#9c179e"
                          ],
                          [
                            0.4444444444444444,
                            "#bd3786"
                          ],
                          [
                            0.5555555555555556,
                            "#d8576b"
                          ],
                          [
                            0.6666666666666666,
                            "#ed7953"
                          ],
                          [
                            0.7777777777777778,
                            "#fb9f3a"
                          ],
                          [
                            0.8888888888888888,
                            "#fdca26"
                          ],
                          [
                            1,
                            "#f0f921"
                          ]
                        ],
                        "type": "heatmap"
                      }
                    ],
                    "heatmapgl": [
                      {
                        "colorbar": {
                          "outlinewidth": 0,
                          "ticks": ""
                        },
                        "colorscale": [
                          [
                            0,
                            "#0d0887"
                          ],
                          [
                            0.1111111111111111,
                            "#46039f"
                          ],
                          [
                            0.2222222222222222,
                            "#7201a8"
                          ],
                          [
                            0.3333333333333333,
                            "#9c179e"
                          ],
                          [
                            0.4444444444444444,
                            "#bd3786"
                          ],
                          [
                            0.5555555555555556,
                            "#d8576b"
                          ],
                          [
                            0.6666666666666666,
                            "#ed7953"
                          ],
                          [
                            0.7777777777777778,
                            "#fb9f3a"
                          ],
                          [
                            0.8888888888888888,
                            "#fdca26"
                          ],
                          [
                            1,
                            "#f0f921"
                          ]
                        ],
                        "type": "heatmapgl"
                      }
                    ],
                    "histogram": [
                      {
                        "marker": {
                          "pattern": {
                            "fillmode": "overlay",
                            "size": 10,
                            "solidity": 0.2
                          }
                        },
                        "type": "histogram"
                      }
                    ],
                    "histogram2d": [
                      {
                        "colorbar": {
                          "outlinewidth": 0,
                          "ticks": ""
                        },
                        "colorscale": [
                          [
                            0,
                            "#0d0887"
                          ],
                          [
                            0.1111111111111111,
                            "#46039f"
                          ],
                          [
                            0.2222222222222222,
                            "#7201a8"
                          ],
                          [
                            0.3333333333333333,
                            "#9c179e"
                          ],
                          [
                            0.4444444444444444,
                            "#bd3786"
                          ],
                          [
                            0.5555555555555556,
                            "#d8576b"
                          ],
                          [
                            0.6666666666666666,
                            "#ed7953"
                          ],
                          [
                            0.7777777777777778,
                            "#fb9f3a"
                          ],
                          [
                            0.8888888888888888,
                            "#fdca26"
                          ],
                          [
                            1,
                            "#f0f921"
                          ]
                        ],
                        "type": "histogram2d"
                      }
                    ],
                    "histogram2dcontour": [
                      {
                        "colorbar": {
                          "outlinewidth": 0,
                          "ticks": ""
                        },
                        "colorscale": [
                          [
                            0,
                            "#0d0887"
                          ],
                          [
                            0.1111111111111111,
                            "#46039f"
                          ],
                          [
                            0.2222222222222222,
                            "#7201a8"
                          ],
                          [
                            0.3333333333333333,
                            "#9c179e"
                          ],
                          [
                            0.4444444444444444,
                            "#bd3786"
                          ],
                          [
                            0.5555555555555556,
                            "#d8576b"
                          ],
                          [
                            0.6666666666666666,
                            "#ed7953"
                          ],
                          [
                            0.7777777777777778,
                            "#fb9f3a"
                          ],
                          [
                            0.8888888888888888,
                            "#fdca26"
                          ],
                          [
                            1,
                            "#f0f921"
                          ]
                        ],
                        "type": "histogram2dcontour"
                      }
                    ],
                    "mesh3d": [
                      {
                        "colorbar": {
                          "outlinewidth": 0,
                          "ticks": ""
                        },
                        "type": "mesh3d"
                      }
                    ],
                    "parcoords": [
                      {
                        "line": {
                          "colorbar": {
                            "outlinewidth": 0,
                            "ticks": ""
                          }
                        },
                        "type": "parcoords"
                      }
                    ],
                    "pie": [
                      {
                        "automargin": true,
                        "type": "pie"
                      }
                    ],
                    "scatter": [
                      {
                        "fillpattern": {
                          "fillmode": "overlay",
                          "size": 10,
                          "solidity": 0.2
                        },
                        "type": "scatter"
                      }
                    ],
                    "scatter3d": [
                      {
                        "line": {
                          "colorbar": {
                            "outlinewidth": 0,
                            "ticks": ""
                          }
                        },
                        "marker": {
                          "colorbar": {
                            "outlinewidth": 0,
                            "ticks": ""
                          }
                        },
                        "type": "scatter3d"
                      }
                    ],
                    "scattercarpet": [
                      {
                        "marker": {
                          "colorbar": {
                            "outlinewidth": 0,
                            "ticks": ""
                          }
                        },
                        "type": "scattercarpet"
                      }
                    ],
                    "scattergeo": [
                      {
                        "marker": {
                          "colorbar": {
                            "outlinewidth": 0,
                            "ticks": ""
                          }
                        },
                        "type": "scattergeo"
                      }
                    ],
                    "scattergl": [
                      {
                        "marker": {
                          "colorbar": {
                            "outlinewidth": 0,
                            "ticks": ""
                          }
                        },
                        "type": "scattergl"
                      }
                    ],
                    "scattermapbox": [
                      {
                        "marker": {
                          "colorbar": {
                            "outlinewidth": 0,
                            "ticks": ""
                          }
                        },
                        "type": "scattermapbox"
                      }
                    ],
                    "scatterpolar": [
                      {
                        "marker": {
                          "colorbar": {
                            "outlinewidth": 0,
                            "ticks": ""
                          }
                        },
                        "type": "scatterpolar"
                      }
                    ],
                    "scatterpolargl": [
                      {
                        "marker": {
                          "colorbar": {
                            "outlinewidth": 0,
                            "ticks": ""
                          }
                        },
                        "type": "scatterpolargl"
                      }
                    ],
                    "scatterternary": [
                      {
                        "marker": {
                          "colorbar": {
                            "outlinewidth": 0,
                            "ticks": ""
                          }
                        },
                        "type": "scatterternary"
                      }
                    ],
                    "surface": [
                      {
                        "colorbar": {
                          "outlinewidth": 0,
                          "ticks": ""
                        },
                        "colorscale": [
                          [
                            0,
                            "#0d0887"
                          ],
                          [
                            0.1111111111111111,
                            "#46039f"
                          ],
                          [
                            0.2222222222222222,
                            "#7201a8"
                          ],
                          [
                            0.3333333333333333,
                            "#9c179e"
                          ],
                          [
                            0.4444444444444444,
                            "#bd3786"
                          ],
                          [
                            0.5555555555555556,
                            "#d8576b"
                          ],
                          [
                            0.6666666666666666,
                            "#ed7953"
                          ],
                          [
                            0.7777777777777778,
                            "#fb9f3a"
                          ],
                          [
                            0.8888888888888888,
                            "#fdca26"
                          ],
                          [
                            1,
                            "#f0f921"
                          ]
                        ],
                        "type": "surface"
                      }
                    ],
                    "table": [
                      {
                        "cells": {
                          "fill": {
                            "color": "#EBF0F8"
                          },
                          "line": {
                            "color": "white"
                          }
                        },
                        "header": {
                          "fill": {
                            "color": "#C8D4E3"
                          },
                          "line": {
                            "color": "white"
                          }
                        },
                        "type": "table"
                      }
                    ]
                  },
                  "layout": {
                    "annotationdefaults": {
                      "arrowcolor": "#2a3f5f",
                      "arrowhead": 0,
                      "arrowwidth": 1
                    },
                    "autotypenumbers": "strict",
                    "coloraxis": {
                      "colorbar": {
                        "outlinewidth": 0,
                        "ticks": ""
                      }
                    },
                    "colorscale": {
                      "diverging": [
                        [
                          0,
                          "#8e0152"
                        ],
                        [
                          0.1,
                          "#c51b7d"
                        ],
                        [
                          0.2,
                          "#de77ae"
                        ],
                        [
                          0.3,
                          "#f1b6da"
                        ],
                        [
                          0.4,
                          "#fde0ef"
                        ],
                        [
                          0.5,
                          "#f7f7f7"
                        ],
                        [
                          0.6,
                          "#e6f5d0"
                        ],
                        [
                          0.7,
                          "#b8e186"
                        ],
                        [
                          0.8,
                          "#7fbc41"
                        ],
                        [
                          0.9,
                          "#4d9221"
                        ],
                        [
                          1,
                          "#276419"
                        ]
                      ],
                      "sequential": [
                        [
                          0,
                          "#0d0887"
                        ],
                        [
                          0.1111111111111111,
                          "#46039f"
                        ],
                        [
                          0.2222222222222222,
                          "#7201a8"
                        ],
                        [
                          0.3333333333333333,
                          "#9c179e"
                        ],
                        [
                          0.4444444444444444,
                          "#bd3786"
                        ],
                        [
                          0.5555555555555556,
                          "#d8576b"
                        ],
                        [
                          0.6666666666666666,
                          "#ed7953"
                        ],
                        [
                          0.7777777777777778,
                          "#fb9f3a"
                        ],
                        [
                          0.8888888888888888,
                          "#fdca26"
                        ],
                        [
                          1,
                          "#f0f921"
                        ]
                      ],
                      "sequentialminus": [
                        [
                          0,
                          "#0d0887"
                        ],
                        [
                          0.1111111111111111,
                          "#46039f"
                        ],
                        [
                          0.2222222222222222,
                          "#7201a8"
                        ],
                        [
                          0.3333333333333333,
                          "#9c179e"
                        ],
                        [
                          0.4444444444444444,
                          "#bd3786"
                        ],
                        [
                          0.5555555555555556,
                          "#d8576b"
                        ],
                        [
                          0.6666666666666666,
                          "#ed7953"
                        ],
                        [
                          0.7777777777777778,
                          "#fb9f3a"
                        ],
                        [
                          0.8888888888888888,
                          "#fdca26"
                        ],
                        [
                          1,
                          "#f0f921"
                        ]
                      ]
                    },
                    "colorway": [
                      "#636efa",
                      "#EF553B",
                      "#00cc96",
                      "#ab63fa",
                      "#FFA15A",
                      "#19d3f3",
                      "#FF6692",
                      "#B6E880",
                      "#FF97FF",
                      "#FECB52"
                    ],
                    "font": {
                      "color": "#2a3f5f"
                    },
                    "geo": {
                      "bgcolor": "white",
                      "lakecolor": "white",
                      "landcolor": "#E5ECF6",
                      "showlakes": true,
                      "showland": true,
                      "subunitcolor": "white"
                    },
                    "hoverlabel": {
                      "align": "left"
                    },
                    "hovermode": "closest",
                    "mapbox": {
                      "style": "light"
                    },
                    "paper_bgcolor": "white",
                    "plot_bgcolor": "#E5ECF6",
                    "polar": {
                      "angularaxis": {
                        "gridcolor": "white",
                        "linecolor": "white",
                        "ticks": ""
                      },
                      "bgcolor": "#E5ECF6",
                      "radialaxis": {
                        "gridcolor": "white",
                        "linecolor": "white",
                        "ticks": ""
                      }
                    },
                    "scene": {
                      "xaxis": {
                        "backgroundcolor": "#E5ECF6",
                        "gridcolor": "white",
                        "gridwidth": 2,
                        "linecolor": "white",
                        "showbackground": true,
                        "ticks": "",
                        "zerolinecolor": "white"
                      },
                      "yaxis": {
                        "backgroundcolor": "#E5ECF6",
                        "gridcolor": "white",
                        "gridwidth": 2,
                        "linecolor": "white",
                        "showbackground": true,
                        "ticks": "",
                        "zerolinecolor": "white"
                      },
                      "zaxis": {
                        "backgroundcolor": "#E5ECF6",
                        "gridcolor": "white",
                        "gridwidth": 2,
                        "linecolor": "white",
                        "showbackground": true,
                        "ticks": "",
                        "zerolinecolor": "white"
                      }
                    },
                    "shapedefaults": {
                      "line": {
                        "color": "#2a3f5f"
                      }
                    },
                    "ternary": {
                      "aaxis": {
                        "gridcolor": "white",
                        "linecolor": "white",
                        "ticks": ""
                      },
                      "baxis": {
                        "gridcolor": "white",
                        "linecolor": "white",
                        "ticks": ""
                      },
                      "bgcolor": "#E5ECF6",
                      "caxis": {
                        "gridcolor": "white",
                        "linecolor": "white",
                        "ticks": ""
                      }
                    },
                    "title": {
                      "x": 0.05
                    },
                    "xaxis": {
                      "automargin": true,
                      "gridcolor": "white",
                      "linecolor": "white",
                      "ticks": "",
                      "title": {
                        "standoff": 15
                      },
                      "zerolinecolor": "white",
                      "zerolinewidth": 2
                    },
                    "yaxis": {
                      "automargin": true,
                      "gridcolor": "white",
                      "linecolor": "white",
                      "ticks": "",
                      "title": {
                        "standoff": 15
                      },
                      "zerolinecolor": "white",
                      "zerolinewidth": 2
                    }
                  }
                },
                "title": {
                  "text": "Labour Force Participation Rate by Gender and Sector",
                  "x": 0.5
                },
                "xaxis": {
                  "anchor": "y",
                  "categoryorder": "category ascending",
                  "domain": [
                    0,
                    1
                  ],
                  "title": {
                    "text": "Year"
                  }
                },
                "yaxis": {
                  "anchor": "x",
                  "domain": [
                    0,
                    1
                  ],
                  "title": {
                    "text": "Labour Force Participation Rate by %"
                  }
                }
              }
            }
          },
          "metadata": {},
          "output_type": "display_data"
        }
      ],
      "source": [
        "# Analyse LFPR by Gender and Sector\n",
        "\n",
        "\n",
        "# Graph Objects\n",
        "\n",
        "import plotly.graph_objects as go\n",
        "\n",
        "# define figure element\n",
        "fig = go.Figure()\n",
        "# define histogram properties\n",
        "fig = (\n",
        "    px.histogram(\n",
        "        data.loc[((data.Education == \"Aggregate levels: Total\"))],\n",
        "        x=\"Year\",\n",
        "        y=\"Value\",\n",
        "        color=\"Gender\",\n",
        "        pattern_shape=\"Sector\",\n",
        "        color_discrete_sequence=['blue', 'pink', 'green'],\n",
        "        barmode=\"relative\",\n",
        "        # barnorm = \"percent\",\n",
        "        # histnorm = \"probability\",\n",
        "        text_auto=True,\n",
        "        labels={\"Value\": \"Labour Force Participation Rate by %\",},\n",
        "    )\n",
        "    .update_traces(hoverinfo=\"all\")\n",
        "    .update_layout(\n",
        "        # update layout with titles\n",
        "        title={\n",
        "            \"text\": \"Labour Force Participation Rate by Gender and Sector\",\n",
        "            \"x\": 0.5,\n",
        "        },\n",
        "        yaxis_title=\"Labour Force Participation Rate by %\",\n",
        "    )\n",
        "    .update_xaxes(categoryorder=\"category ascending\")\n",
        ")\n",
        "# display the figure\n",
        "fig.show()\n"
      ]
    },
    {
      "cell_type": "markdown",
      "metadata": {
        "id": "9349YC1ShM_R"
      },
      "source": [
        "## Analyse the Labour Force Participation rate by Gender and Education Level over the Years"
      ]
    },
    {
      "cell_type": "code",
      "execution_count": 56,
      "metadata": {
        "colab": {
          "base_uri": "https://localhost:8080/",
          "height": 562
        },
        "id": "slg2xlkxq1iw",
        "outputId": "8fddd532-1428-4236-db8c-9ec3e8a46f6c"
      },
      "outputs": [
        {
          "data": {
            "application/vnd.plotly.v1+json": {
              "config": {
                "plotlyServerURL": "https://plot.ly"
              },
              "data": [
                {
                  "hovertemplate": "Gender=Male<br>Education=Aggregate levels: Total<br>Year=%{x}<br>Value=%{y}<extra></extra>",
                  "legendgroup": "Male",
                  "marker": {
                    "color": "#636efa",
                    "symbol": "circle"
                  },
                  "mode": "markers",
                  "name": "Male",
                  "orientation": "v",
                  "showlegend": true,
                  "type": "scatter",
                  "x": [
                    2020,
                    2019,
                    2018,
                    2017,
                    2016,
                    2015,
                    2014,
                    2013,
                    2011,
                    2010
                  ],
                  "xaxis": "x13",
                  "y": [
                    71.8,
                    72.9,
                    72.9,
                    74.5,
                    75,
                    74.6,
                    72.4,
                    72.7,
                    74,
                    75
                  ],
                  "yaxis": "y13"
                },
                {
                  "hovertemplate": "Gender=Male<br>Education=Aggregate levels: Less than basic<br>Year=%{x}<br>Value=%{y}<extra></extra>",
                  "legendgroup": "Male",
                  "marker": {
                    "color": "#636efa",
                    "symbol": "circle"
                  },
                  "mode": "markers",
                  "name": "Male",
                  "orientation": "v",
                  "showlegend": false,
                  "type": "scatter",
                  "x": [
                    2020,
                    2019,
                    2018,
                    2017,
                    2016,
                    2015,
                    2014,
                    2013,
                    2011,
                    2010
                  ],
                  "xaxis": "x14",
                  "y": [
                    64.4,
                    67.7,
                    65.7,
                    69.6,
                    69.4,
                    69.7,
                    65.4,
                    67.4,
                    70.7,
                    70.7
                  ],
                  "yaxis": "y14"
                },
                {
                  "hovertemplate": "Gender=Male<br>Education=Aggregate levels: Basic<br>Year=%{x}<br>Value=%{y}<extra></extra>",
                  "legendgroup": "Male",
                  "marker": {
                    "color": "#636efa",
                    "symbol": "circle"
                  },
                  "mode": "markers",
                  "name": "Male",
                  "orientation": "v",
                  "showlegend": false,
                  "type": "scatter",
                  "x": [
                    2020,
                    2019,
                    2018,
                    2017,
                    2016,
                    2015,
                    2014,
                    2013,
                    2011,
                    2010
                  ],
                  "xaxis": "x15",
                  "y": [
                    75.5,
                    75.7,
                    75.8,
                    76.6,
                    77.1,
                    77.5,
                    75.3,
                    75.4,
                    76.4,
                    76.9
                  ],
                  "yaxis": "y15"
                },
                {
                  "hovertemplate": "Gender=Male<br>Education=Aggregate levels: Intermediate<br>Year=%{x}<br>Value=%{y}<extra></extra>",
                  "legendgroup": "Male",
                  "marker": {
                    "color": "#636efa",
                    "symbol": "circle"
                  },
                  "mode": "markers",
                  "name": "Male",
                  "orientation": "v",
                  "showlegend": false,
                  "type": "scatter",
                  "x": [
                    2020,
                    2019,
                    2018,
                    2017,
                    2016,
                    2015,
                    2014,
                    2013,
                    2011,
                    2010
                  ],
                  "xaxis": "x10",
                  "y": [
                    67.5,
                    69.2,
                    69.7,
                    71.6,
                    72.4,
                    70.6,
                    69.2,
                    69,
                    70.1,
                    72.2
                  ],
                  "yaxis": "y10"
                },
                {
                  "hovertemplate": "Gender=Male<br>Education=Aggregate levels: Advanced<br>Year=%{x}<br>Value=%{y}<extra></extra>",
                  "legendgroup": "Male",
                  "marker": {
                    "color": "#636efa",
                    "symbol": "circle"
                  },
                  "mode": "markers",
                  "name": "Male",
                  "orientation": "v",
                  "showlegend": false,
                  "type": "scatter",
                  "x": [
                    2020,
                    2019,
                    2018,
                    2017,
                    2016,
                    2015,
                    2014,
                    2013,
                    2011,
                    2010
                  ],
                  "xaxis": "x11",
                  "y": [
                    82.8,
                    85.4,
                    86.4,
                    86.8,
                    87,
                    85.8,
                    80.6,
                    84.6,
                    85.6,
                    86.7
                  ],
                  "yaxis": "y11"
                },
                {
                  "hovertemplate": "Gender=Male<br>Education=Aggregate levels: Level not stated<br>Year=%{x}<br>Value=%{y}<extra></extra>",
                  "legendgroup": "Male",
                  "marker": {
                    "color": "#636efa",
                    "symbol": "circle"
                  },
                  "mode": "markers",
                  "name": "Male",
                  "orientation": "v",
                  "showlegend": false,
                  "type": "scatter",
                  "x": [
                    2020,
                    2019,
                    2018,
                    2017,
                    2016,
                    2015,
                    2014,
                    2013
                  ],
                  "xaxis": "x12",
                  "y": [
                    27,
                    18.5,
                    30.2,
                    28.9,
                    43.3,
                    29.1,
                    49,
                    46.8
                  ],
                  "yaxis": "y12"
                },
                {
                  "hovertemplate": "Gender=Male<br>Education=ISCED-11: Total<br>Year=%{x}<br>Value=%{y}<extra></extra>",
                  "legendgroup": "Male",
                  "marker": {
                    "color": "#636efa",
                    "symbol": "circle"
                  },
                  "mode": "markers",
                  "name": "Male",
                  "orientation": "v",
                  "showlegend": false,
                  "type": "scatter",
                  "x": [
                    2020,
                    2019,
                    2018,
                    2017,
                    2016,
                    2015,
                    2014,
                    2013,
                    2011,
                    2010
                  ],
                  "xaxis": "x7",
                  "y": [
                    71.8,
                    72.9,
                    72.9,
                    74.5,
                    75,
                    74.6,
                    72.4,
                    72.7,
                    74,
                    75
                  ],
                  "yaxis": "y7"
                },
                {
                  "hovertemplate": "Gender=Male<br>Education=ISCED-11: X. No schooling<br>Year=%{x}<br>Value=%{y}<extra></extra>",
                  "legendgroup": "Male",
                  "marker": {
                    "color": "#636efa",
                    "symbol": "circle"
                  },
                  "mode": "markers",
                  "name": "Male",
                  "orientation": "v",
                  "showlegend": false,
                  "type": "scatter",
                  "x": [
                    2020,
                    2019,
                    2018,
                    2017,
                    2016,
                    2015,
                    2014,
                    2013,
                    2011,
                    2010
                  ],
                  "xaxis": "x8",
                  "y": [
                    54.2,
                    56.5,
                    56.7,
                    57.8,
                    57.8,
                    60,
                    54,
                    57.6,
                    60.3,
                    60
                  ],
                  "yaxis": "y8"
                },
                {
                  "hovertemplate": "Gender=Male<br>Education=ISCED-11: 0. Early childhood education<br>Year=%{x}<br>Value=%{y}<extra></extra>",
                  "legendgroup": "Male",
                  "marker": {
                    "color": "#636efa",
                    "symbol": "circle"
                  },
                  "mode": "markers",
                  "name": "Male",
                  "orientation": "v",
                  "showlegend": false,
                  "type": "scatter",
                  "x": [
                    2020,
                    2019,
                    2018,
                    2017,
                    2016,
                    2015,
                    2014,
                    2013,
                    2011,
                    2010
                  ],
                  "xaxis": "x9",
                  "y": [
                    66.9,
                    70.3,
                    67.6,
                    72.3,
                    71.6,
                    71.6,
                    67.9,
                    69.5,
                    73.1,
                    73.3
                  ],
                  "yaxis": "y9"
                },
                {
                  "hovertemplate": "Gender=Male<br>Education=ISCED-11: 1. Primary education<br>Year=%{x}<br>Value=%{y}<extra></extra>",
                  "legendgroup": "Male",
                  "marker": {
                    "color": "#636efa",
                    "symbol": "circle"
                  },
                  "mode": "markers",
                  "name": "Male",
                  "orientation": "v",
                  "showlegend": false,
                  "type": "scatter",
                  "x": [
                    2020,
                    2019,
                    2018,
                    2017,
                    2016,
                    2015,
                    2014,
                    2013,
                    2011,
                    2010
                  ],
                  "xaxis": "x4",
                  "y": [
                    74.9,
                    75.1,
                    76.2,
                    76.9,
                    77.3,
                    77.7,
                    75,
                    75.3,
                    78.4,
                    79.1
                  ],
                  "yaxis": "y4"
                },
                {
                  "hovertemplate": "Gender=Male<br>Education=ISCED-11: 2. Lower secondary education<br>Year=%{x}<br>Value=%{y}<extra></extra>",
                  "legendgroup": "Male",
                  "marker": {
                    "color": "#636efa",
                    "symbol": "circle"
                  },
                  "mode": "markers",
                  "name": "Male",
                  "orientation": "v",
                  "showlegend": false,
                  "type": "scatter",
                  "x": [
                    2020,
                    2019,
                    2018,
                    2017,
                    2016,
                    2015,
                    2014,
                    2013,
                    2011,
                    2010
                  ],
                  "xaxis": "x5",
                  "y": [
                    75.9,
                    76,
                    75.5,
                    76.3,
                    76.9,
                    77.4,
                    75.4,
                    75.4,
                    75,
                    75.4
                  ],
                  "yaxis": "y5"
                },
                {
                  "hovertemplate": "Gender=Male<br>Education=ISCED-11: 3. Upper secondary education<br>Year=%{x}<br>Value=%{y}<extra></extra>",
                  "legendgroup": "Male",
                  "marker": {
                    "color": "#636efa",
                    "symbol": "circle"
                  },
                  "mode": "markers",
                  "name": "Male",
                  "orientation": "v",
                  "showlegend": false,
                  "type": "scatter",
                  "x": [
                    2020,
                    2019,
                    2018,
                    2017,
                    2016,
                    2015,
                    2014,
                    2013,
                    2011,
                    2010
                  ],
                  "xaxis": "x6",
                  "y": [
                    67.5,
                    69.2,
                    69.7,
                    71.6,
                    72.4,
                    70.6,
                    69.2,
                    69,
                    70.1,
                    72.2
                  ],
                  "yaxis": "y6"
                },
                {
                  "hovertemplate": "Gender=Male<br>Education=ISCED-11: 5. Short-cycle tertiary education<br>Year=%{x}<br>Value=%{y}<extra></extra>",
                  "legendgroup": "Male",
                  "marker": {
                    "color": "#636efa",
                    "symbol": "circle"
                  },
                  "mode": "markers",
                  "name": "Male",
                  "orientation": "v",
                  "showlegend": false,
                  "type": "scatter",
                  "x": [
                    2020,
                    2019,
                    2018,
                    2017,
                    2016,
                    2015,
                    2014,
                    2013,
                    2011,
                    2010
                  ],
                  "xaxis": "x",
                  "y": [
                    83.3,
                    86.1,
                    88.3,
                    86.8,
                    87.7,
                    85,
                    80.2,
                    86.2,
                    85.7,
                    87.6
                  ],
                  "yaxis": "y"
                },
                {
                  "hovertemplate": "Gender=Male<br>Education=ISCED-11: 6. Bachelor's or equivalent level<br>Year=%{x}<br>Value=%{y}<extra></extra>",
                  "legendgroup": "Male",
                  "marker": {
                    "color": "#636efa",
                    "symbol": "circle"
                  },
                  "mode": "markers",
                  "name": "Male",
                  "orientation": "v",
                  "showlegend": false,
                  "type": "scatter",
                  "x": [
                    2020,
                    2019,
                    2018,
                    2017,
                    2016,
                    2015,
                    2014,
                    2013,
                    2011,
                    2010
                  ],
                  "xaxis": "x2",
                  "y": [
                    80.6,
                    82.6,
                    78.6,
                    86.6,
                    84.6,
                    88,
                    82,
                    80.4,
                    85,
                    82.4
                  ],
                  "yaxis": "y2"
                },
                {
                  "hovertemplate": "Gender=Male<br>Education=ISCED-11: 9. Not elsewhere classified<br>Year=%{x}<br>Value=%{y}<extra></extra>",
                  "legendgroup": "Male",
                  "marker": {
                    "color": "#636efa",
                    "symbol": "circle"
                  },
                  "mode": "markers",
                  "name": "Male",
                  "orientation": "v",
                  "showlegend": false,
                  "type": "scatter",
                  "x": [
                    2020,
                    2019,
                    2018,
                    2017,
                    2016,
                    2015,
                    2014,
                    2013
                  ],
                  "xaxis": "x3",
                  "y": [
                    27,
                    18.5,
                    30.2,
                    28.9,
                    43.3,
                    29.1,
                    49,
                    46.8
                  ],
                  "yaxis": "y3"
                },
                {
                  "hovertemplate": "Gender=Female<br>Education=Aggregate levels: Total<br>Year=%{x}<br>Value=%{y}<extra></extra>",
                  "legendgroup": "Female",
                  "marker": {
                    "color": "#EF553B",
                    "symbol": "circle"
                  },
                  "mode": "markers",
                  "name": "Female",
                  "orientation": "v",
                  "showlegend": true,
                  "type": "scatter",
                  "x": [
                    2020,
                    2019,
                    2018,
                    2017,
                    2016,
                    2015,
                    2014,
                    2013,
                    2011,
                    2010
                  ],
                  "xaxis": "x13",
                  "y": [
                    32,
                    34.4,
                    33.5,
                    36.5,
                    35.8,
                    35.8,
                    33.6,
                    34.2,
                    34.2,
                    34.3
                  ],
                  "yaxis": "y13"
                },
                {
                  "hovertemplate": "Gender=Female<br>Education=Aggregate levels: Less than basic<br>Year=%{x}<br>Value=%{y}<extra></extra>",
                  "legendgroup": "Female",
                  "marker": {
                    "color": "#EF553B",
                    "symbol": "circle"
                  },
                  "mode": "markers",
                  "name": "Female",
                  "orientation": "v",
                  "showlegend": false,
                  "type": "scatter",
                  "x": [
                    2020,
                    2019,
                    2018,
                    2017,
                    2016,
                    2015,
                    2014,
                    2013,
                    2011,
                    2010
                  ],
                  "xaxis": "x14",
                  "y": [
                    23.5,
                    26.7,
                    27.3,
                    31.2,
                    29.8,
                    29.8,
                    27.8,
                    31.2,
                    32.4,
                    32
                  ],
                  "yaxis": "y14"
                },
                {
                  "hovertemplate": "Gender=Female<br>Education=Aggregate levels: Basic<br>Year=%{x}<br>Value=%{y}<extra></extra>",
                  "legendgroup": "Female",
                  "marker": {
                    "color": "#EF553B",
                    "symbol": "circle"
                  },
                  "mode": "markers",
                  "name": "Female",
                  "orientation": "v",
                  "showlegend": false,
                  "type": "scatter",
                  "x": [
                    2020,
                    2019,
                    2018,
                    2017,
                    2016,
                    2015,
                    2014,
                    2013,
                    2011,
                    2010
                  ],
                  "xaxis": "x15",
                  "y": [
                    28.3,
                    30.5,
                    29.7,
                    32.8,
                    32,
                    32.5,
                    30.4,
                    30.9,
                    31.3,
                    31.6
                  ],
                  "yaxis": "y15"
                },
                {
                  "hovertemplate": "Gender=Female<br>Education=Aggregate levels: Intermediate<br>Year=%{x}<br>Value=%{y}<extra></extra>",
                  "legendgroup": "Female",
                  "marker": {
                    "color": "#EF553B",
                    "symbol": "circle"
                  },
                  "mode": "markers",
                  "name": "Female",
                  "orientation": "v",
                  "showlegend": false,
                  "type": "scatter",
                  "x": [
                    2020,
                    2019,
                    2018,
                    2017,
                    2016,
                    2015,
                    2014,
                    2013,
                    2011,
                    2010
                  ],
                  "xaxis": "x10",
                  "y": [
                    33.6,
                    36.3,
                    35.5,
                    38.9,
                    38.8,
                    38,
                    36.1,
                    36.5,
                    36.1,
                    36.7
                  ],
                  "yaxis": "y10"
                },
                {
                  "hovertemplate": "Gender=Female<br>Education=Aggregate levels: Advanced<br>Year=%{x}<br>Value=%{y}<extra></extra>",
                  "legendgroup": "Female",
                  "marker": {
                    "color": "#EF553B",
                    "symbol": "circle"
                  },
                  "mode": "markers",
                  "name": "Female",
                  "orientation": "v",
                  "showlegend": false,
                  "type": "scatter",
                  "x": [
                    2020,
                    2019,
                    2018,
                    2017,
                    2016,
                    2015,
                    2014,
                    2013,
                    2011,
                    2010
                  ],
                  "xaxis": "x11",
                  "y": [
                    79.9,
                    83.8,
                    81,
                    81.9,
                    82.9,
                    82.9,
                    81.9,
                    80.2,
                    80.2,
                    79.3
                  ],
                  "yaxis": "y11"
                },
                {
                  "hovertemplate": "Gender=Female<br>Education=Aggregate levels: Level not stated<br>Year=%{x}<br>Value=%{y}<extra></extra>",
                  "legendgroup": "Female",
                  "marker": {
                    "color": "#EF553B",
                    "symbol": "circle"
                  },
                  "mode": "markers",
                  "name": "Female",
                  "orientation": "v",
                  "showlegend": false,
                  "type": "scatter",
                  "x": [
                    2019,
                    2018,
                    2017,
                    2016,
                    2015,
                    2014,
                    2013
                  ],
                  "xaxis": "x12",
                  "y": [
                    20,
                    29.5,
                    45.8,
                    42.8,
                    55.2,
                    41.9,
                    26.6
                  ],
                  "yaxis": "y12"
                },
                {
                  "hovertemplate": "Gender=Female<br>Education=ISCED-11: Total<br>Year=%{x}<br>Value=%{y}<extra></extra>",
                  "legendgroup": "Female",
                  "marker": {
                    "color": "#EF553B",
                    "symbol": "circle"
                  },
                  "mode": "markers",
                  "name": "Female",
                  "orientation": "v",
                  "showlegend": false,
                  "type": "scatter",
                  "x": [
                    2020,
                    2019,
                    2018,
                    2017,
                    2016,
                    2015,
                    2014,
                    2013,
                    2011,
                    2010
                  ],
                  "xaxis": "x7",
                  "y": [
                    32,
                    34.4,
                    33.5,
                    36.5,
                    35.8,
                    35.8,
                    33.6,
                    34.2,
                    34.2,
                    34.3
                  ],
                  "yaxis": "y7"
                },
                {
                  "hovertemplate": "Gender=Female<br>Education=ISCED-11: X. No schooling<br>Year=%{x}<br>Value=%{y}<extra></extra>",
                  "legendgroup": "Female",
                  "marker": {
                    "color": "#EF553B",
                    "symbol": "circle"
                  },
                  "mode": "markers",
                  "name": "Female",
                  "orientation": "v",
                  "showlegend": false,
                  "type": "scatter",
                  "x": [
                    2020,
                    2019,
                    2018,
                    2017,
                    2016,
                    2015,
                    2014,
                    2013,
                    2011,
                    2010
                  ],
                  "xaxis": "x8",
                  "y": [
                    21.1,
                    24.1,
                    24.8,
                    27.2,
                    28.4,
                    25.8,
                    24.6,
                    26.7,
                    28.8,
                    27.9
                  ],
                  "yaxis": "y8"
                },
                {
                  "hovertemplate": "Gender=Female<br>Education=ISCED-11: 0. Early childhood education<br>Year=%{x}<br>Value=%{y}<extra></extra>",
                  "legendgroup": "Female",
                  "marker": {
                    "color": "#EF553B",
                    "symbol": "circle"
                  },
                  "mode": "markers",
                  "name": "Female",
                  "orientation": "v",
                  "showlegend": false,
                  "type": "scatter",
                  "x": [
                    2020,
                    2019,
                    2018,
                    2017,
                    2016,
                    2015,
                    2014,
                    2013,
                    2011,
                    2010
                  ],
                  "xaxis": "x9",
                  "y": [
                    24.6,
                    27.9,
                    28.4,
                    32.9,
                    30.4,
                    31.4,
                    29.2,
                    33.1,
                    34.1,
                    34.2
                  ],
                  "yaxis": "y9"
                },
                {
                  "hovertemplate": "Gender=Female<br>Education=ISCED-11: 1. Primary education<br>Year=%{x}<br>Value=%{y}<extra></extra>",
                  "legendgroup": "Female",
                  "marker": {
                    "color": "#EF553B",
                    "symbol": "circle"
                  },
                  "mode": "markers",
                  "name": "Female",
                  "orientation": "v",
                  "showlegend": false,
                  "type": "scatter",
                  "x": [
                    2020,
                    2019,
                    2018,
                    2017,
                    2016,
                    2015,
                    2014,
                    2013,
                    2011,
                    2010
                  ],
                  "xaxis": "x4",
                  "y": [
                    28.3,
                    30.4,
                    30.2,
                    32.3,
                    31.2,
                    32.1,
                    30.1,
                    30.6,
                    32.4,
                    33.4
                  ],
                  "yaxis": "y4"
                },
                {
                  "hovertemplate": "Gender=Female<br>Education=ISCED-11: 2. Lower secondary education<br>Year=%{x}<br>Value=%{y}<extra></extra>",
                  "legendgroup": "Female",
                  "marker": {
                    "color": "#EF553B",
                    "symbol": "circle"
                  },
                  "mode": "markers",
                  "name": "Female",
                  "orientation": "v",
                  "showlegend": false,
                  "type": "scatter",
                  "x": [
                    2020,
                    2019,
                    2018,
                    2017,
                    2016,
                    2015,
                    2014,
                    2013,
                    2011,
                    2010
                  ],
                  "xaxis": "x5",
                  "y": [
                    28.3,
                    30.6,
                    29.4,
                    33.1,
                    32.4,
                    32.8,
                    30.5,
                    31.1,
                    30.6,
                    30.5
                  ],
                  "yaxis": "y5"
                },
                {
                  "hovertemplate": "Gender=Female<br>Education=ISCED-11: 3. Upper secondary education<br>Year=%{x}<br>Value=%{y}<extra></extra>",
                  "legendgroup": "Female",
                  "marker": {
                    "color": "#EF553B",
                    "symbol": "circle"
                  },
                  "mode": "markers",
                  "name": "Female",
                  "orientation": "v",
                  "showlegend": false,
                  "type": "scatter",
                  "x": [
                    2020,
                    2019,
                    2018,
                    2017,
                    2016,
                    2015,
                    2014,
                    2013,
                    2011,
                    2010
                  ],
                  "xaxis": "x6",
                  "y": [
                    33.6,
                    36.3,
                    35.5,
                    38.9,
                    38.8,
                    38,
                    36.1,
                    36.5,
                    36.1,
                    36.7
                  ],
                  "yaxis": "y6"
                },
                {
                  "hovertemplate": "Gender=Female<br>Education=ISCED-11: 5. Short-cycle tertiary education<br>Year=%{x}<br>Value=%{y}<extra></extra>",
                  "legendgroup": "Female",
                  "marker": {
                    "color": "#EF553B",
                    "symbol": "circle"
                  },
                  "mode": "markers",
                  "name": "Female",
                  "orientation": "v",
                  "showlegend": false,
                  "type": "scatter",
                  "x": [
                    2020,
                    2019,
                    2018,
                    2017,
                    2016,
                    2015,
                    2014,
                    2013,
                    2011,
                    2010
                  ],
                  "xaxis": "x",
                  "y": [
                    79.7,
                    84,
                    82.1,
                    82.5,
                    84.3,
                    83.3,
                    84.4,
                    80.7,
                    79.6,
                    79.6
                  ],
                  "yaxis": "y"
                },
                {
                  "hovertemplate": "Gender=Female<br>Education=ISCED-11: 6. Bachelor's or equivalent level<br>Year=%{x}<br>Value=%{y}<extra></extra>",
                  "legendgroup": "Female",
                  "marker": {
                    "color": "#EF553B",
                    "symbol": "circle"
                  },
                  "mode": "markers",
                  "name": "Female",
                  "orientation": "v",
                  "showlegend": false,
                  "type": "scatter",
                  "x": [
                    2020,
                    2019,
                    2018,
                    2017,
                    2016,
                    2015,
                    2014,
                    2013,
                    2011,
                    2010
                  ],
                  "xaxis": "x2",
                  "y": [
                    81.4,
                    83,
                    74.2,
                    78.6,
                    76.4,
                    81,
                    68,
                    78.2,
                    83.7,
                    77.5
                  ],
                  "yaxis": "y2"
                },
                {
                  "hovertemplate": "Gender=Female<br>Education=ISCED-11: 9. Not elsewhere classified<br>Year=%{x}<br>Value=%{y}<extra></extra>",
                  "legendgroup": "Female",
                  "marker": {
                    "color": "#EF553B",
                    "symbol": "circle"
                  },
                  "mode": "markers",
                  "name": "Female",
                  "orientation": "v",
                  "showlegend": false,
                  "type": "scatter",
                  "x": [
                    2019,
                    2018,
                    2017,
                    2016,
                    2015,
                    2014,
                    2013
                  ],
                  "xaxis": "x3",
                  "y": [
                    20,
                    29.5,
                    45.8,
                    42.8,
                    55.2,
                    41.9,
                    26.6
                  ],
                  "yaxis": "y3"
                }
              ],
              "layout": {
                "annotations": [
                  {
                    "font": {},
                    "showarrow": false,
                    "text": "Education=ISCED-11: 5. Short-cycle tertiary education",
                    "x": 0.15999999999999998,
                    "xanchor": "center",
                    "xref": "paper",
                    "y": 0.144,
                    "yanchor": "bottom",
                    "yref": "paper"
                  },
                  {
                    "font": {},
                    "showarrow": false,
                    "text": "Education=ISCED-11: 6. Bachelor's or equivalent level",
                    "x": 0.49999999999999994,
                    "xanchor": "center",
                    "xref": "paper",
                    "y": 0.144,
                    "yanchor": "bottom",
                    "yref": "paper"
                  },
                  {
                    "font": {},
                    "showarrow": false,
                    "text": "Education=ISCED-11: 9. Not elsewhere classified",
                    "x": 0.8399999999999999,
                    "xanchor": "center",
                    "xref": "paper",
                    "y": 0.144,
                    "yanchor": "bottom",
                    "yref": "paper"
                  },
                  {
                    "font": {},
                    "showarrow": false,
                    "text": "Education=ISCED-11: 1. Primary education",
                    "x": 0.15999999999999998,
                    "xanchor": "center",
                    "xref": "paper",
                    "y": 0.358,
                    "yanchor": "bottom",
                    "yref": "paper"
                  },
                  {
                    "font": {},
                    "showarrow": false,
                    "text": "Education=ISCED-11: 2. Lower secondary education",
                    "x": 0.49999999999999994,
                    "xanchor": "center",
                    "xref": "paper",
                    "y": 0.358,
                    "yanchor": "bottom",
                    "yref": "paper"
                  },
                  {
                    "font": {},
                    "showarrow": false,
                    "text": "Education=ISCED-11: 3. Upper secondary education",
                    "x": 0.8399999999999999,
                    "xanchor": "center",
                    "xref": "paper",
                    "y": 0.358,
                    "yanchor": "bottom",
                    "yref": "paper"
                  },
                  {
                    "font": {},
                    "showarrow": false,
                    "text": "Education=ISCED-11: Total",
                    "x": 0.15999999999999998,
                    "xanchor": "center",
                    "xref": "paper",
                    "y": 0.572,
                    "yanchor": "bottom",
                    "yref": "paper"
                  },
                  {
                    "font": {},
                    "showarrow": false,
                    "text": "Education=ISCED-11: X. No schooling",
                    "x": 0.49999999999999994,
                    "xanchor": "center",
                    "xref": "paper",
                    "y": 0.572,
                    "yanchor": "bottom",
                    "yref": "paper"
                  },
                  {
                    "font": {},
                    "showarrow": false,
                    "text": "Education=ISCED-11: 0. Early childhood education",
                    "x": 0.8399999999999999,
                    "xanchor": "center",
                    "xref": "paper",
                    "y": 0.572,
                    "yanchor": "bottom",
                    "yref": "paper"
                  },
                  {
                    "font": {},
                    "showarrow": false,
                    "text": "Education=Aggregate levels: Intermediate",
                    "x": 0.15999999999999998,
                    "xanchor": "center",
                    "xref": "paper",
                    "y": 0.7859999999999999,
                    "yanchor": "bottom",
                    "yref": "paper"
                  },
                  {
                    "font": {},
                    "showarrow": false,
                    "text": "Education=Aggregate levels: Advanced",
                    "x": 0.49999999999999994,
                    "xanchor": "center",
                    "xref": "paper",
                    "y": 0.7859999999999999,
                    "yanchor": "bottom",
                    "yref": "paper"
                  },
                  {
                    "font": {},
                    "showarrow": false,
                    "text": "Education=Aggregate levels: Level not stated",
                    "x": 0.8399999999999999,
                    "xanchor": "center",
                    "xref": "paper",
                    "y": 0.7859999999999999,
                    "yanchor": "bottom",
                    "yref": "paper"
                  },
                  {
                    "font": {},
                    "showarrow": false,
                    "text": "Education=Aggregate levels: Total",
                    "x": 0.15999999999999998,
                    "xanchor": "center",
                    "xref": "paper",
                    "y": 1,
                    "yanchor": "bottom",
                    "yref": "paper"
                  },
                  {
                    "font": {},
                    "showarrow": false,
                    "text": "Education=Aggregate levels: Less than basic",
                    "x": 0.49999999999999994,
                    "xanchor": "center",
                    "xref": "paper",
                    "y": 1,
                    "yanchor": "bottom",
                    "yref": "paper"
                  },
                  {
                    "font": {},
                    "showarrow": false,
                    "text": "Education=Aggregate levels: Basic",
                    "x": 0.8399999999999999,
                    "xanchor": "center",
                    "xref": "paper",
                    "y": 1,
                    "yanchor": "bottom",
                    "yref": "paper"
                  }
                ],
                "legend": {
                  "title": {
                    "text": "Gender"
                  },
                  "tracegroupgap": 0
                },
                "margin": {
                  "t": 60
                },
                "template": {
                  "data": {
                    "bar": [
                      {
                        "error_x": {
                          "color": "#2a3f5f"
                        },
                        "error_y": {
                          "color": "#2a3f5f"
                        },
                        "marker": {
                          "line": {
                            "color": "#E5ECF6",
                            "width": 0.5
                          },
                          "pattern": {
                            "fillmode": "overlay",
                            "size": 10,
                            "solidity": 0.2
                          }
                        },
                        "type": "bar"
                      }
                    ],
                    "barpolar": [
                      {
                        "marker": {
                          "line": {
                            "color": "#E5ECF6",
                            "width": 0.5
                          },
                          "pattern": {
                            "fillmode": "overlay",
                            "size": 10,
                            "solidity": 0.2
                          }
                        },
                        "type": "barpolar"
                      }
                    ],
                    "carpet": [
                      {
                        "aaxis": {
                          "endlinecolor": "#2a3f5f",
                          "gridcolor": "white",
                          "linecolor": "white",
                          "minorgridcolor": "white",
                          "startlinecolor": "#2a3f5f"
                        },
                        "baxis": {
                          "endlinecolor": "#2a3f5f",
                          "gridcolor": "white",
                          "linecolor": "white",
                          "minorgridcolor": "white",
                          "startlinecolor": "#2a3f5f"
                        },
                        "type": "carpet"
                      }
                    ],
                    "choropleth": [
                      {
                        "colorbar": {
                          "outlinewidth": 0,
                          "ticks": ""
                        },
                        "type": "choropleth"
                      }
                    ],
                    "contour": [
                      {
                        "colorbar": {
                          "outlinewidth": 0,
                          "ticks": ""
                        },
                        "colorscale": [
                          [
                            0,
                            "#0d0887"
                          ],
                          [
                            0.1111111111111111,
                            "#46039f"
                          ],
                          [
                            0.2222222222222222,
                            "#7201a8"
                          ],
                          [
                            0.3333333333333333,
                            "#9c179e"
                          ],
                          [
                            0.4444444444444444,
                            "#bd3786"
                          ],
                          [
                            0.5555555555555556,
                            "#d8576b"
                          ],
                          [
                            0.6666666666666666,
                            "#ed7953"
                          ],
                          [
                            0.7777777777777778,
                            "#fb9f3a"
                          ],
                          [
                            0.8888888888888888,
                            "#fdca26"
                          ],
                          [
                            1,
                            "#f0f921"
                          ]
                        ],
                        "type": "contour"
                      }
                    ],
                    "contourcarpet": [
                      {
                        "colorbar": {
                          "outlinewidth": 0,
                          "ticks": ""
                        },
                        "type": "contourcarpet"
                      }
                    ],
                    "heatmap": [
                      {
                        "colorbar": {
                          "outlinewidth": 0,
                          "ticks": ""
                        },
                        "colorscale": [
                          [
                            0,
                            "#0d0887"
                          ],
                          [
                            0.1111111111111111,
                            "#46039f"
                          ],
                          [
                            0.2222222222222222,
                            "#7201a8"
                          ],
                          [
                            0.3333333333333333,
                            "#9c179e"
                          ],
                          [
                            0.4444444444444444,
                            "#bd3786"
                          ],
                          [
                            0.5555555555555556,
                            "#d8576b"
                          ],
                          [
                            0.6666666666666666,
                            "#ed7953"
                          ],
                          [
                            0.7777777777777778,
                            "#fb9f3a"
                          ],
                          [
                            0.8888888888888888,
                            "#fdca26"
                          ],
                          [
                            1,
                            "#f0f921"
                          ]
                        ],
                        "type": "heatmap"
                      }
                    ],
                    "heatmapgl": [
                      {
                        "colorbar": {
                          "outlinewidth": 0,
                          "ticks": ""
                        },
                        "colorscale": [
                          [
                            0,
                            "#0d0887"
                          ],
                          [
                            0.1111111111111111,
                            "#46039f"
                          ],
                          [
                            0.2222222222222222,
                            "#7201a8"
                          ],
                          [
                            0.3333333333333333,
                            "#9c179e"
                          ],
                          [
                            0.4444444444444444,
                            "#bd3786"
                          ],
                          [
                            0.5555555555555556,
                            "#d8576b"
                          ],
                          [
                            0.6666666666666666,
                            "#ed7953"
                          ],
                          [
                            0.7777777777777778,
                            "#fb9f3a"
                          ],
                          [
                            0.8888888888888888,
                            "#fdca26"
                          ],
                          [
                            1,
                            "#f0f921"
                          ]
                        ],
                        "type": "heatmapgl"
                      }
                    ],
                    "histogram": [
                      {
                        "marker": {
                          "pattern": {
                            "fillmode": "overlay",
                            "size": 10,
                            "solidity": 0.2
                          }
                        },
                        "type": "histogram"
                      }
                    ],
                    "histogram2d": [
                      {
                        "colorbar": {
                          "outlinewidth": 0,
                          "ticks": ""
                        },
                        "colorscale": [
                          [
                            0,
                            "#0d0887"
                          ],
                          [
                            0.1111111111111111,
                            "#46039f"
                          ],
                          [
                            0.2222222222222222,
                            "#7201a8"
                          ],
                          [
                            0.3333333333333333,
                            "#9c179e"
                          ],
                          [
                            0.4444444444444444,
                            "#bd3786"
                          ],
                          [
                            0.5555555555555556,
                            "#d8576b"
                          ],
                          [
                            0.6666666666666666,
                            "#ed7953"
                          ],
                          [
                            0.7777777777777778,
                            "#fb9f3a"
                          ],
                          [
                            0.8888888888888888,
                            "#fdca26"
                          ],
                          [
                            1,
                            "#f0f921"
                          ]
                        ],
                        "type": "histogram2d"
                      }
                    ],
                    "histogram2dcontour": [
                      {
                        "colorbar": {
                          "outlinewidth": 0,
                          "ticks": ""
                        },
                        "colorscale": [
                          [
                            0,
                            "#0d0887"
                          ],
                          [
                            0.1111111111111111,
                            "#46039f"
                          ],
                          [
                            0.2222222222222222,
                            "#7201a8"
                          ],
                          [
                            0.3333333333333333,
                            "#9c179e"
                          ],
                          [
                            0.4444444444444444,
                            "#bd3786"
                          ],
                          [
                            0.5555555555555556,
                            "#d8576b"
                          ],
                          [
                            0.6666666666666666,
                            "#ed7953"
                          ],
                          [
                            0.7777777777777778,
                            "#fb9f3a"
                          ],
                          [
                            0.8888888888888888,
                            "#fdca26"
                          ],
                          [
                            1,
                            "#f0f921"
                          ]
                        ],
                        "type": "histogram2dcontour"
                      }
                    ],
                    "mesh3d": [
                      {
                        "colorbar": {
                          "outlinewidth": 0,
                          "ticks": ""
                        },
                        "type": "mesh3d"
                      }
                    ],
                    "parcoords": [
                      {
                        "line": {
                          "colorbar": {
                            "outlinewidth": 0,
                            "ticks": ""
                          }
                        },
                        "type": "parcoords"
                      }
                    ],
                    "pie": [
                      {
                        "automargin": true,
                        "type": "pie"
                      }
                    ],
                    "scatter": [
                      {
                        "fillpattern": {
                          "fillmode": "overlay",
                          "size": 10,
                          "solidity": 0.2
                        },
                        "type": "scatter"
                      }
                    ],
                    "scatter3d": [
                      {
                        "line": {
                          "colorbar": {
                            "outlinewidth": 0,
                            "ticks": ""
                          }
                        },
                        "marker": {
                          "colorbar": {
                            "outlinewidth": 0,
                            "ticks": ""
                          }
                        },
                        "type": "scatter3d"
                      }
                    ],
                    "scattercarpet": [
                      {
                        "marker": {
                          "colorbar": {
                            "outlinewidth": 0,
                            "ticks": ""
                          }
                        },
                        "type": "scattercarpet"
                      }
                    ],
                    "scattergeo": [
                      {
                        "marker": {
                          "colorbar": {
                            "outlinewidth": 0,
                            "ticks": ""
                          }
                        },
                        "type": "scattergeo"
                      }
                    ],
                    "scattergl": [
                      {
                        "marker": {
                          "colorbar": {
                            "outlinewidth": 0,
                            "ticks": ""
                          }
                        },
                        "type": "scattergl"
                      }
                    ],
                    "scattermapbox": [
                      {
                        "marker": {
                          "colorbar": {
                            "outlinewidth": 0,
                            "ticks": ""
                          }
                        },
                        "type": "scattermapbox"
                      }
                    ],
                    "scatterpolar": [
                      {
                        "marker": {
                          "colorbar": {
                            "outlinewidth": 0,
                            "ticks": ""
                          }
                        },
                        "type": "scatterpolar"
                      }
                    ],
                    "scatterpolargl": [
                      {
                        "marker": {
                          "colorbar": {
                            "outlinewidth": 0,
                            "ticks": ""
                          }
                        },
                        "type": "scatterpolargl"
                      }
                    ],
                    "scatterternary": [
                      {
                        "marker": {
                          "colorbar": {
                            "outlinewidth": 0,
                            "ticks": ""
                          }
                        },
                        "type": "scatterternary"
                      }
                    ],
                    "surface": [
                      {
                        "colorbar": {
                          "outlinewidth": 0,
                          "ticks": ""
                        },
                        "colorscale": [
                          [
                            0,
                            "#0d0887"
                          ],
                          [
                            0.1111111111111111,
                            "#46039f"
                          ],
                          [
                            0.2222222222222222,
                            "#7201a8"
                          ],
                          [
                            0.3333333333333333,
                            "#9c179e"
                          ],
                          [
                            0.4444444444444444,
                            "#bd3786"
                          ],
                          [
                            0.5555555555555556,
                            "#d8576b"
                          ],
                          [
                            0.6666666666666666,
                            "#ed7953"
                          ],
                          [
                            0.7777777777777778,
                            "#fb9f3a"
                          ],
                          [
                            0.8888888888888888,
                            "#fdca26"
                          ],
                          [
                            1,
                            "#f0f921"
                          ]
                        ],
                        "type": "surface"
                      }
                    ],
                    "table": [
                      {
                        "cells": {
                          "fill": {
                            "color": "#EBF0F8"
                          },
                          "line": {
                            "color": "white"
                          }
                        },
                        "header": {
                          "fill": {
                            "color": "#C8D4E3"
                          },
                          "line": {
                            "color": "white"
                          }
                        },
                        "type": "table"
                      }
                    ]
                  },
                  "layout": {
                    "annotationdefaults": {
                      "arrowcolor": "#2a3f5f",
                      "arrowhead": 0,
                      "arrowwidth": 1
                    },
                    "autotypenumbers": "strict",
                    "coloraxis": {
                      "colorbar": {
                        "outlinewidth": 0,
                        "ticks": ""
                      }
                    },
                    "colorscale": {
                      "diverging": [
                        [
                          0,
                          "#8e0152"
                        ],
                        [
                          0.1,
                          "#c51b7d"
                        ],
                        [
                          0.2,
                          "#de77ae"
                        ],
                        [
                          0.3,
                          "#f1b6da"
                        ],
                        [
                          0.4,
                          "#fde0ef"
                        ],
                        [
                          0.5,
                          "#f7f7f7"
                        ],
                        [
                          0.6,
                          "#e6f5d0"
                        ],
                        [
                          0.7,
                          "#b8e186"
                        ],
                        [
                          0.8,
                          "#7fbc41"
                        ],
                        [
                          0.9,
                          "#4d9221"
                        ],
                        [
                          1,
                          "#276419"
                        ]
                      ],
                      "sequential": [
                        [
                          0,
                          "#0d0887"
                        ],
                        [
                          0.1111111111111111,
                          "#46039f"
                        ],
                        [
                          0.2222222222222222,
                          "#7201a8"
                        ],
                        [
                          0.3333333333333333,
                          "#9c179e"
                        ],
                        [
                          0.4444444444444444,
                          "#bd3786"
                        ],
                        [
                          0.5555555555555556,
                          "#d8576b"
                        ],
                        [
                          0.6666666666666666,
                          "#ed7953"
                        ],
                        [
                          0.7777777777777778,
                          "#fb9f3a"
                        ],
                        [
                          0.8888888888888888,
                          "#fdca26"
                        ],
                        [
                          1,
                          "#f0f921"
                        ]
                      ],
                      "sequentialminus": [
                        [
                          0,
                          "#0d0887"
                        ],
                        [
                          0.1111111111111111,
                          "#46039f"
                        ],
                        [
                          0.2222222222222222,
                          "#7201a8"
                        ],
                        [
                          0.3333333333333333,
                          "#9c179e"
                        ],
                        [
                          0.4444444444444444,
                          "#bd3786"
                        ],
                        [
                          0.5555555555555556,
                          "#d8576b"
                        ],
                        [
                          0.6666666666666666,
                          "#ed7953"
                        ],
                        [
                          0.7777777777777778,
                          "#fb9f3a"
                        ],
                        [
                          0.8888888888888888,
                          "#fdca26"
                        ],
                        [
                          1,
                          "#f0f921"
                        ]
                      ]
                    },
                    "colorway": [
                      "#636efa",
                      "#EF553B",
                      "#00cc96",
                      "#ab63fa",
                      "#FFA15A",
                      "#19d3f3",
                      "#FF6692",
                      "#B6E880",
                      "#FF97FF",
                      "#FECB52"
                    ],
                    "font": {
                      "color": "#2a3f5f"
                    },
                    "geo": {
                      "bgcolor": "white",
                      "lakecolor": "white",
                      "landcolor": "#E5ECF6",
                      "showlakes": true,
                      "showland": true,
                      "subunitcolor": "white"
                    },
                    "hoverlabel": {
                      "align": "left"
                    },
                    "hovermode": "closest",
                    "mapbox": {
                      "style": "light"
                    },
                    "paper_bgcolor": "white",
                    "plot_bgcolor": "#E5ECF6",
                    "polar": {
                      "angularaxis": {
                        "gridcolor": "white",
                        "linecolor": "white",
                        "ticks": ""
                      },
                      "bgcolor": "#E5ECF6",
                      "radialaxis": {
                        "gridcolor": "white",
                        "linecolor": "white",
                        "ticks": ""
                      }
                    },
                    "scene": {
                      "xaxis": {
                        "backgroundcolor": "#E5ECF6",
                        "gridcolor": "white",
                        "gridwidth": 2,
                        "linecolor": "white",
                        "showbackground": true,
                        "ticks": "",
                        "zerolinecolor": "white"
                      },
                      "yaxis": {
                        "backgroundcolor": "#E5ECF6",
                        "gridcolor": "white",
                        "gridwidth": 2,
                        "linecolor": "white",
                        "showbackground": true,
                        "ticks": "",
                        "zerolinecolor": "white"
                      },
                      "zaxis": {
                        "backgroundcolor": "#E5ECF6",
                        "gridcolor": "white",
                        "gridwidth": 2,
                        "linecolor": "white",
                        "showbackground": true,
                        "ticks": "",
                        "zerolinecolor": "white"
                      }
                    },
                    "shapedefaults": {
                      "line": {
                        "color": "#2a3f5f"
                      }
                    },
                    "ternary": {
                      "aaxis": {
                        "gridcolor": "white",
                        "linecolor": "white",
                        "ticks": ""
                      },
                      "baxis": {
                        "gridcolor": "white",
                        "linecolor": "white",
                        "ticks": ""
                      },
                      "bgcolor": "#E5ECF6",
                      "caxis": {
                        "gridcolor": "white",
                        "linecolor": "white",
                        "ticks": ""
                      }
                    },
                    "title": {
                      "x": 0.05
                    },
                    "xaxis": {
                      "automargin": true,
                      "gridcolor": "white",
                      "linecolor": "white",
                      "ticks": "",
                      "title": {
                        "standoff": 15
                      },
                      "zerolinecolor": "white",
                      "zerolinewidth": 2
                    },
                    "yaxis": {
                      "automargin": true,
                      "gridcolor": "white",
                      "linecolor": "white",
                      "ticks": "",
                      "title": {
                        "standoff": 15
                      },
                      "zerolinecolor": "white",
                      "zerolinewidth": 2
                    }
                  }
                },
                "title": {
                  "text": "Labour Force Participation rate(LFPR%) over the years by Gender and Education Level"
                },
                "xaxis": {
                  "anchor": "y",
                  "domain": [
                    0,
                    0.31999999999999995
                  ],
                  "title": {
                    "text": "Year"
                  }
                },
                "xaxis10": {
                  "anchor": "y10",
                  "domain": [
                    0,
                    0.31999999999999995
                  ],
                  "matches": "x",
                  "showticklabels": false
                },
                "xaxis11": {
                  "anchor": "y11",
                  "domain": [
                    0.33999999999999997,
                    0.6599999999999999
                  ],
                  "matches": "x",
                  "showticklabels": false
                },
                "xaxis12": {
                  "anchor": "y12",
                  "domain": [
                    0.6799999999999999,
                    0.9999999999999999
                  ],
                  "matches": "x",
                  "showticklabels": false
                },
                "xaxis13": {
                  "anchor": "y13",
                  "domain": [
                    0,
                    0.31999999999999995
                  ],
                  "matches": "x",
                  "showticklabels": false
                },
                "xaxis14": {
                  "anchor": "y14",
                  "domain": [
                    0.33999999999999997,
                    0.6599999999999999
                  ],
                  "matches": "x",
                  "showticklabels": false
                },
                "xaxis15": {
                  "anchor": "y15",
                  "domain": [
                    0.6799999999999999,
                    0.9999999999999999
                  ],
                  "matches": "x",
                  "showticklabels": false
                },
                "xaxis2": {
                  "anchor": "y2",
                  "domain": [
                    0.33999999999999997,
                    0.6599999999999999
                  ],
                  "matches": "x",
                  "title": {
                    "text": "Year"
                  }
                },
                "xaxis3": {
                  "anchor": "y3",
                  "domain": [
                    0.6799999999999999,
                    0.9999999999999999
                  ],
                  "matches": "x",
                  "title": {
                    "text": "Year"
                  }
                },
                "xaxis4": {
                  "anchor": "y4",
                  "domain": [
                    0,
                    0.31999999999999995
                  ],
                  "matches": "x",
                  "showticklabels": false
                },
                "xaxis5": {
                  "anchor": "y5",
                  "domain": [
                    0.33999999999999997,
                    0.6599999999999999
                  ],
                  "matches": "x",
                  "showticklabels": false
                },
                "xaxis6": {
                  "anchor": "y6",
                  "domain": [
                    0.6799999999999999,
                    0.9999999999999999
                  ],
                  "matches": "x",
                  "showticklabels": false
                },
                "xaxis7": {
                  "anchor": "y7",
                  "domain": [
                    0,
                    0.31999999999999995
                  ],
                  "matches": "x",
                  "showticklabels": false
                },
                "xaxis8": {
                  "anchor": "y8",
                  "domain": [
                    0.33999999999999997,
                    0.6599999999999999
                  ],
                  "matches": "x",
                  "showticklabels": false
                },
                "xaxis9": {
                  "anchor": "y9",
                  "domain": [
                    0.6799999999999999,
                    0.9999999999999999
                  ],
                  "matches": "x",
                  "showticklabels": false
                },
                "yaxis": {
                  "anchor": "x",
                  "domain": [
                    0,
                    0.144
                  ],
                  "title": {
                    "text": "LFPR %"
                  }
                },
                "yaxis10": {
                  "anchor": "x10",
                  "domain": [
                    0.6419999999999999,
                    0.7859999999999999
                  ],
                  "matches": "y",
                  "title": {
                    "text": "Value"
                  }
                },
                "yaxis11": {
                  "anchor": "x11",
                  "domain": [
                    0.6419999999999999,
                    0.7859999999999999
                  ],
                  "matches": "y",
                  "showticklabels": false
                },
                "yaxis12": {
                  "anchor": "x12",
                  "domain": [
                    0.6419999999999999,
                    0.7859999999999999
                  ],
                  "matches": "y",
                  "showticklabels": false
                },
                "yaxis13": {
                  "anchor": "x13",
                  "domain": [
                    0.856,
                    1
                  ],
                  "matches": "y",
                  "title": {
                    "text": "Value"
                  }
                },
                "yaxis14": {
                  "anchor": "x14",
                  "domain": [
                    0.856,
                    1
                  ],
                  "matches": "y",
                  "showticklabels": false
                },
                "yaxis15": {
                  "anchor": "x15",
                  "domain": [
                    0.856,
                    1
                  ],
                  "matches": "y",
                  "showticklabels": false
                },
                "yaxis2": {
                  "anchor": "x2",
                  "domain": [
                    0,
                    0.144
                  ],
                  "matches": "y",
                  "showticklabels": false
                },
                "yaxis3": {
                  "anchor": "x3",
                  "domain": [
                    0,
                    0.144
                  ],
                  "matches": "y",
                  "showticklabels": false
                },
                "yaxis4": {
                  "anchor": "x4",
                  "domain": [
                    0.214,
                    0.358
                  ],
                  "matches": "y",
                  "title": {
                    "text": "Value"
                  }
                },
                "yaxis5": {
                  "anchor": "x5",
                  "domain": [
                    0.214,
                    0.358
                  ],
                  "matches": "y",
                  "showticklabels": false
                },
                "yaxis6": {
                  "anchor": "x6",
                  "domain": [
                    0.214,
                    0.358
                  ],
                  "matches": "y",
                  "showticklabels": false
                },
                "yaxis7": {
                  "anchor": "x7",
                  "domain": [
                    0.428,
                    0.572
                  ],
                  "matches": "y",
                  "title": {
                    "text": "Value"
                  }
                },
                "yaxis8": {
                  "anchor": "x8",
                  "domain": [
                    0.428,
                    0.572
                  ],
                  "matches": "y",
                  "showticklabels": false
                },
                "yaxis9": {
                  "anchor": "x9",
                  "domain": [
                    0.428,
                    0.572
                  ],
                  "matches": "y",
                  "showticklabels": false
                }
              }
            }
          },
          "metadata": {},
          "output_type": "display_data"
        }
      ],
      "source": [
        "# Using Facet Plot - LFPR rate for different subsets of data\n",
        "\n",
        "fig = px.scatter(data.loc[(data.Gender != \"Total\") & (data.Sector.str.contains(\"National\"))], x='Year', y='Value',color='Gender', facet_col='Education', facet_col_wrap=3)\n",
        "fig.update_layout(title=\"Labour Force Participation rate(LFPR%) over the years by Gender and Education Level\",\n",
        "                  xaxis_title=\"Year\",\n",
        "                  yaxis_title=\"LFPR %\")\n",
        "\n",
        "fig.show()"
      ]
    },
    {
      "cell_type": "markdown",
      "metadata": {
        "id": "HUzUqHpzhSRW"
      },
      "source": [
        "## Analyse the Labour Force Participation rate by Gender, Sector and Education (at Aggregate Level)over the Years"
      ]
    },
    {
      "cell_type": "code",
      "execution_count": 57,
      "metadata": {
        "colab": {
          "base_uri": "https://localhost:8080/",
          "height": 562
        },
        "id": "AvR83sFNKNMc",
        "outputId": "9d191ced-775c-430b-e0f9-ef8b57db6f09"
      },
      "outputs": [
        {
          "data": {
            "application/vnd.plotly.v1+json": {
              "config": {
                "plotlyServerURL": "https://plot.ly"
              },
              "data": [
                {
                  "coloraxis": "coloraxis",
                  "histfunc": "avg",
                  "hovertemplate": "Gender=Male<br>Sector=Area type: Rural<br>Year=%{x}<br>Education=%{y}<br>avg of LFPR%=%{z}<extra></extra>",
                  "name": "",
                  "nbinsx": 10,
                  "texttemplate": "%{z}",
                  "type": "histogram2d",
                  "x": [
                    2020,
                    2020,
                    2020,
                    2020,
                    2020,
                    2020,
                    2019,
                    2019,
                    2019,
                    2019,
                    2019,
                    2019,
                    2018,
                    2018,
                    2018,
                    2018,
                    2018,
                    2018,
                    2017,
                    2017,
                    2017,
                    2017,
                    2017,
                    2017,
                    2016,
                    2016,
                    2016,
                    2016,
                    2016,
                    2015,
                    2015,
                    2015,
                    2015,
                    2015,
                    2015,
                    2014,
                    2014,
                    2014,
                    2014,
                    2014,
                    2014,
                    2013,
                    2013,
                    2013,
                    2013,
                    2013,
                    2013,
                    2011,
                    2011,
                    2011,
                    2011,
                    2011,
                    2010,
                    2010,
                    2010,
                    2010,
                    2010
                  ],
                  "xaxis": "x3",
                  "xbingroup": "x",
                  "y": [
                    "Aggregate levels: Total",
                    "Aggregate levels: Less than basic",
                    "Aggregate levels: Basic",
                    "Aggregate levels: Intermediate",
                    "Aggregate levels: Advanced",
                    "Aggregate levels: Level not stated",
                    "Aggregate levels: Total",
                    "Aggregate levels: Less than basic",
                    "Aggregate levels: Basic",
                    "Aggregate levels: Intermediate",
                    "Aggregate levels: Advanced",
                    "Aggregate levels: Level not stated",
                    "Aggregate levels: Total",
                    "Aggregate levels: Less than basic",
                    "Aggregate levels: Basic",
                    "Aggregate levels: Intermediate",
                    "Aggregate levels: Advanced",
                    "Aggregate levels: Level not stated",
                    "Aggregate levels: Total",
                    "Aggregate levels: Less than basic",
                    "Aggregate levels: Basic",
                    "Aggregate levels: Intermediate",
                    "Aggregate levels: Advanced",
                    "Aggregate levels: Level not stated",
                    "Aggregate levels: Total",
                    "Aggregate levels: Less than basic",
                    "Aggregate levels: Basic",
                    "Aggregate levels: Intermediate",
                    "Aggregate levels: Advanced",
                    "Aggregate levels: Total",
                    "Aggregate levels: Less than basic",
                    "Aggregate levels: Basic",
                    "Aggregate levels: Intermediate",
                    "Aggregate levels: Advanced",
                    "Aggregate levels: Level not stated",
                    "Aggregate levels: Total",
                    "Aggregate levels: Less than basic",
                    "Aggregate levels: Basic",
                    "Aggregate levels: Intermediate",
                    "Aggregate levels: Advanced",
                    "Aggregate levels: Level not stated",
                    "Aggregate levels: Total",
                    "Aggregate levels: Less than basic",
                    "Aggregate levels: Basic",
                    "Aggregate levels: Intermediate",
                    "Aggregate levels: Advanced",
                    "Aggregate levels: Level not stated",
                    "Aggregate levels: Total",
                    "Aggregate levels: Less than basic",
                    "Aggregate levels: Basic",
                    "Aggregate levels: Intermediate",
                    "Aggregate levels: Advanced",
                    "Aggregate levels: Total",
                    "Aggregate levels: Less than basic",
                    "Aggregate levels: Basic",
                    "Aggregate levels: Intermediate",
                    "Aggregate levels: Advanced"
                  ],
                  "yaxis": "y3",
                  "ybingroup": "y",
                  "z": [
                    72.5,
                    64.7,
                    76.3,
                    68,
                    85.6,
                    32,
                    73.4,
                    67.7,
                    76.3,
                    69.7,
                    85.8,
                    21.3,
                    73.1,
                    65.6,
                    76.3,
                    69.6,
                    86.5,
                    25,
                    74.9,
                    70,
                    77.2,
                    71.9,
                    87,
                    31.3,
                    75.5,
                    69.6,
                    78,
                    72.4,
                    86.2,
                    75.6,
                    69.9,
                    78.5,
                    71.6,
                    88,
                    29.2,
                    73.1,
                    65,
                    75.9,
                    70.4,
                    83,
                    48.7,
                    73.5,
                    68,
                    76.1,
                    70,
                    87.2,
                    48.9,
                    74.7,
                    70.8,
                    76.8,
                    71.3,
                    90.3,
                    75.5,
                    70.9,
                    77.4,
                    73.1,
                    88.5
                  ]
                },
                {
                  "coloraxis": "coloraxis",
                  "histfunc": "avg",
                  "hovertemplate": "Gender=Male<br>Sector=Area type: Urban<br>Year=%{x}<br>Education=%{y}<br>avg of LFPR%=%{z}<extra></extra>",
                  "name": "",
                  "nbinsx": 10,
                  "texttemplate": "%{z}",
                  "type": "histogram2d",
                  "x": [
                    2020,
                    2020,
                    2020,
                    2020,
                    2020,
                    2019,
                    2019,
                    2019,
                    2019,
                    2019,
                    2018,
                    2018,
                    2018,
                    2018,
                    2018,
                    2017,
                    2017,
                    2017,
                    2017,
                    2017,
                    2016,
                    2016,
                    2016,
                    2016,
                    2016,
                    2016,
                    2015,
                    2015,
                    2015,
                    2015,
                    2015,
                    2014,
                    2014,
                    2014,
                    2014,
                    2014,
                    2013,
                    2013,
                    2013,
                    2013,
                    2013,
                    2013,
                    2011,
                    2011,
                    2011,
                    2011,
                    2011,
                    2010,
                    2010,
                    2010,
                    2010,
                    2010
                  ],
                  "xaxis": "x4",
                  "xbingroup": "x",
                  "y": [
                    "Aggregate levels: Total",
                    "Aggregate levels: Less than basic",
                    "Aggregate levels: Basic",
                    "Aggregate levels: Intermediate",
                    "Aggregate levels: Advanced",
                    "Aggregate levels: Total",
                    "Aggregate levels: Less than basic",
                    "Aggregate levels: Basic",
                    "Aggregate levels: Intermediate",
                    "Aggregate levels: Advanced",
                    "Aggregate levels: Total",
                    "Aggregate levels: Less than basic",
                    "Aggregate levels: Basic",
                    "Aggregate levels: Intermediate",
                    "Aggregate levels: Advanced",
                    "Aggregate levels: Total",
                    "Aggregate levels: Less than basic",
                    "Aggregate levels: Basic",
                    "Aggregate levels: Intermediate",
                    "Aggregate levels: Advanced",
                    "Aggregate levels: Total",
                    "Aggregate levels: Less than basic",
                    "Aggregate levels: Basic",
                    "Aggregate levels: Intermediate",
                    "Aggregate levels: Advanced",
                    "Aggregate levels: Level not stated",
                    "Aggregate levels: Total",
                    "Aggregate levels: Less than basic",
                    "Aggregate levels: Basic",
                    "Aggregate levels: Intermediate",
                    "Aggregate levels: Advanced",
                    "Aggregate levels: Total",
                    "Aggregate levels: Less than basic",
                    "Aggregate levels: Basic",
                    "Aggregate levels: Intermediate",
                    "Aggregate levels: Advanced",
                    "Aggregate levels: Total",
                    "Aggregate levels: Less than basic",
                    "Aggregate levels: Basic",
                    "Aggregate levels: Intermediate",
                    "Aggregate levels: Advanced",
                    "Aggregate levels: Level not stated",
                    "Aggregate levels: Total",
                    "Aggregate levels: Less than basic",
                    "Aggregate levels: Basic",
                    "Aggregate levels: Intermediate",
                    "Aggregate levels: Advanced",
                    "Aggregate levels: Total",
                    "Aggregate levels: Less than basic",
                    "Aggregate levels: Basic",
                    "Aggregate levels: Intermediate",
                    "Aggregate levels: Advanced"
                  ],
                  "yaxis": "y4",
                  "ybingroup": "y",
                  "z": [
                    68.4,
                    60.7,
                    70.7,
                    66.1,
                    77.7,
                    70.7,
                    67.9,
                    71.7,
                    67.9,
                    84.9,
                    72,
                    66.1,
                    72.2,
                    70.2,
                    86.3,
                    72.5,
                    66.1,
                    72.9,
                    70.7,
                    86.5,
                    72.6,
                    67.7,
                    71.3,
                    72.4,
                    88.8,
                    68.2,
                    70,
                    68.5,
                    71.3,
                    67.3,
                    81.6,
                    69.1,
                    69.7,
                    71.3,
                    65.3,
                    76.8,
                    68.9,
                    59.9,
                    71.3,
                    66,
                    80.5,
                    43.1,
                    69.7,
                    68.8,
                    73.2,
                    65,
                    76.8,
                    71.2,
                    67.4,
                    73.3,
                    67.5,
                    82.1
                  ]
                },
                {
                  "coloraxis": "coloraxis",
                  "histfunc": "avg",
                  "hovertemplate": "Gender=Female<br>Sector=Area type: Rural<br>Year=%{x}<br>Education=%{y}<br>avg of LFPR%=%{z}<extra></extra>",
                  "name": "",
                  "nbinsx": 10,
                  "texttemplate": "%{z}",
                  "type": "histogram2d",
                  "x": [
                    2020,
                    2020,
                    2020,
                    2020,
                    2020,
                    2019,
                    2019,
                    2019,
                    2019,
                    2019,
                    2018,
                    2018,
                    2018,
                    2018,
                    2018,
                    2018,
                    2017,
                    2017,
                    2017,
                    2017,
                    2017,
                    2017,
                    2016,
                    2016,
                    2016,
                    2016,
                    2016,
                    2016,
                    2015,
                    2015,
                    2015,
                    2015,
                    2015,
                    2015,
                    2014,
                    2014,
                    2014,
                    2014,
                    2014,
                    2014,
                    2013,
                    2013,
                    2013,
                    2013,
                    2013,
                    2011,
                    2011,
                    2011,
                    2011,
                    2011,
                    2010,
                    2010,
                    2010,
                    2010,
                    2010
                  ],
                  "xaxis": "x",
                  "xbingroup": "x",
                  "y": [
                    "Aggregate levels: Total",
                    "Aggregate levels: Less than basic",
                    "Aggregate levels: Basic",
                    "Aggregate levels: Intermediate",
                    "Aggregate levels: Advanced",
                    "Aggregate levels: Total",
                    "Aggregate levels: Less than basic",
                    "Aggregate levels: Basic",
                    "Aggregate levels: Intermediate",
                    "Aggregate levels: Advanced",
                    "Aggregate levels: Total",
                    "Aggregate levels: Less than basic",
                    "Aggregate levels: Basic",
                    "Aggregate levels: Intermediate",
                    "Aggregate levels: Advanced",
                    "Aggregate levels: Level not stated",
                    "Aggregate levels: Total",
                    "Aggregate levels: Less than basic",
                    "Aggregate levels: Basic",
                    "Aggregate levels: Intermediate",
                    "Aggregate levels: Advanced",
                    "Aggregate levels: Level not stated",
                    "Aggregate levels: Total",
                    "Aggregate levels: Less than basic",
                    "Aggregate levels: Basic",
                    "Aggregate levels: Intermediate",
                    "Aggregate levels: Advanced",
                    "Aggregate levels: Level not stated",
                    "Aggregate levels: Total",
                    "Aggregate levels: Less than basic",
                    "Aggregate levels: Basic",
                    "Aggregate levels: Intermediate",
                    "Aggregate levels: Advanced",
                    "Aggregate levels: Level not stated",
                    "Aggregate levels: Total",
                    "Aggregate levels: Less than basic",
                    "Aggregate levels: Basic",
                    "Aggregate levels: Intermediate",
                    "Aggregate levels: Advanced",
                    "Aggregate levels: Level not stated",
                    "Aggregate levels: Total",
                    "Aggregate levels: Less than basic",
                    "Aggregate levels: Basic",
                    "Aggregate levels: Intermediate",
                    "Aggregate levels: Advanced",
                    "Aggregate levels: Total",
                    "Aggregate levels: Less than basic",
                    "Aggregate levels: Basic",
                    "Aggregate levels: Intermediate",
                    "Aggregate levels: Advanced",
                    "Aggregate levels: Total",
                    "Aggregate levels: Less than basic",
                    "Aggregate levels: Basic",
                    "Aggregate levels: Intermediate",
                    "Aggregate levels: Advanced"
                  ],
                  "yaxis": "y",
                  "ybingroup": "y",
                  "z": [
                    32.8,
                    24.3,
                    29.9,
                    34.4,
                    82.8,
                    34.8,
                    27,
                    31.7,
                    36.8,
                    86.1,
                    34.2,
                    28,
                    31.1,
                    36.5,
                    83.8,
                    27.2,
                    37.6,
                    32.2,
                    34.5,
                    40.2,
                    85,
                    41.6,
                    36.9,
                    31.3,
                    33.8,
                    39.6,
                    84.4,
                    35,
                    36.9,
                    30.9,
                    34.3,
                    39.2,
                    86.4,
                    53.6,
                    34.5,
                    28.5,
                    31.8,
                    37.3,
                    83.7,
                    41,
                    35.7,
                    32.2,
                    32.7,
                    38.3,
                    85.1,
                    35.2,
                    33.2,
                    32.8,
                    37,
                    82.2,
                    35.6,
                    32.9,
                    33.4,
                    37.8,
                    80.4
                  ]
                },
                {
                  "coloraxis": "coloraxis",
                  "histfunc": "avg",
                  "hovertemplate": "Gender=Female<br>Sector=Area type: Urban<br>Year=%{x}<br>Education=%{y}<br>avg of LFPR%=%{z}<extra></extra>",
                  "name": "",
                  "nbinsx": 10,
                  "texttemplate": "%{z}",
                  "type": "histogram2d",
                  "x": [
                    2020,
                    2020,
                    2020,
                    2020,
                    2020,
                    2019,
                    2019,
                    2019,
                    2019,
                    2019,
                    2018,
                    2018,
                    2018,
                    2018,
                    2018,
                    2017,
                    2017,
                    2017,
                    2017,
                    2017,
                    2017,
                    2016,
                    2016,
                    2016,
                    2016,
                    2016,
                    2016,
                    2015,
                    2015,
                    2015,
                    2015,
                    2015,
                    2014,
                    2014,
                    2014,
                    2014,
                    2014,
                    2013,
                    2013,
                    2013,
                    2013,
                    2013,
                    2011,
                    2011,
                    2011,
                    2011,
                    2011,
                    2010,
                    2010,
                    2010,
                    2010,
                    2010
                  ],
                  "xaxis": "x2",
                  "xbingroup": "x",
                  "y": [
                    "Aggregate levels: Total",
                    "Aggregate levels: Less than basic",
                    "Aggregate levels: Basic",
                    "Aggregate levels: Intermediate",
                    "Aggregate levels: Advanced",
                    "Aggregate levels: Total",
                    "Aggregate levels: Less than basic",
                    "Aggregate levels: Basic",
                    "Aggregate levels: Intermediate",
                    "Aggregate levels: Advanced",
                    "Aggregate levels: Total",
                    "Aggregate levels: Less than basic",
                    "Aggregate levels: Basic",
                    "Aggregate levels: Intermediate",
                    "Aggregate levels: Advanced",
                    "Aggregate levels: Total",
                    "Aggregate levels: Less than basic",
                    "Aggregate levels: Basic",
                    "Aggregate levels: Intermediate",
                    "Aggregate levels: Advanced",
                    "Aggregate levels: Level not stated",
                    "Aggregate levels: Total",
                    "Aggregate levels: Less than basic",
                    "Aggregate levels: Basic",
                    "Aggregate levels: Intermediate",
                    "Aggregate levels: Advanced",
                    "Aggregate levels: Level not stated",
                    "Aggregate levels: Total",
                    "Aggregate levels: Less than basic",
                    "Aggregate levels: Basic",
                    "Aggregate levels: Intermediate",
                    "Aggregate levels: Advanced",
                    "Aggregate levels: Total",
                    "Aggregate levels: Less than basic",
                    "Aggregate levels: Basic",
                    "Aggregate levels: Intermediate",
                    "Aggregate levels: Advanced",
                    "Aggregate levels: Total",
                    "Aggregate levels: Less than basic",
                    "Aggregate levels: Basic",
                    "Aggregate levels: Intermediate",
                    "Aggregate levels: Advanced",
                    "Aggregate levels: Total",
                    "Aggregate levels: Less than basic",
                    "Aggregate levels: Basic",
                    "Aggregate levels: Intermediate",
                    "Aggregate levels: Advanced",
                    "Aggregate levels: Total",
                    "Aggregate levels: Less than basic",
                    "Aggregate levels: Basic",
                    "Aggregate levels: Intermediate",
                    "Aggregate levels: Advanced"
                  ],
                  "yaxis": "y2",
                  "ybingroup": "y",
                  "z": [
                    27.9,
                    16.8,
                    18.7,
                    30.7,
                    72.2,
                    32.7,
                    24.6,
                    23.5,
                    34.4,
                    78.4,
                    29.9,
                    22.2,
                    21.7,
                    31.7,
                    74.8,
                    31.5,
                    23.5,
                    23.1,
                    34.3,
                    75.5,
                    52.6,
                    30.2,
                    19.5,
                    22.2,
                    35.7,
                    78.5,
                    53,
                    29.9,
                    20.2,
                    22.1,
                    33.6,
                    73.7,
                    28.9,
                    21.2,
                    22.1,
                    31.5,
                    77.3,
                    27.1,
                    21.1,
                    20.5,
                    30.1,
                    68.4,
                    27.9,
                    23.6,
                    19.9,
                    32,
                    74.7,
                    26.3,
                    22.6,
                    19.6,
                    30.8,
                    75.7
                  ]
                }
              ],
              "layout": {
                "annotations": [
                  {
                    "font": {},
                    "showarrow": false,
                    "text": "Sector=Area type: Rural",
                    "x": 0.24,
                    "xanchor": "center",
                    "xref": "paper",
                    "y": 1,
                    "yanchor": "bottom",
                    "yref": "paper"
                  },
                  {
                    "font": {},
                    "showarrow": false,
                    "text": "Sector=Area type: Urban",
                    "x": 0.74,
                    "xanchor": "center",
                    "xref": "paper",
                    "y": 1,
                    "yanchor": "bottom",
                    "yref": "paper"
                  },
                  {
                    "font": {},
                    "showarrow": false,
                    "text": "Gender=Female",
                    "textangle": 90,
                    "x": 0.98,
                    "xanchor": "left",
                    "xref": "paper",
                    "y": 0.2425,
                    "yanchor": "middle",
                    "yref": "paper"
                  },
                  {
                    "font": {},
                    "showarrow": false,
                    "text": "Gender=Male",
                    "textangle": 90,
                    "x": 0.98,
                    "xanchor": "left",
                    "xref": "paper",
                    "y": 0.7575000000000001,
                    "yanchor": "middle",
                    "yref": "paper"
                  }
                ],
                "coloraxis": {
                  "colorbar": {
                    "title": {
                      "text": "avg of LFPR%"
                    }
                  },
                  "colorscale": [
                    [
                      0,
                      "#0d0887"
                    ],
                    [
                      0.1111111111111111,
                      "#46039f"
                    ],
                    [
                      0.2222222222222222,
                      "#7201a8"
                    ],
                    [
                      0.3333333333333333,
                      "#9c179e"
                    ],
                    [
                      0.4444444444444444,
                      "#bd3786"
                    ],
                    [
                      0.5555555555555556,
                      "#d8576b"
                    ],
                    [
                      0.6666666666666666,
                      "#ed7953"
                    ],
                    [
                      0.7777777777777778,
                      "#fb9f3a"
                    ],
                    [
                      0.8888888888888888,
                      "#fdca26"
                    ],
                    [
                      1,
                      "#f0f921"
                    ]
                  ]
                },
                "legend": {
                  "tracegroupgap": 0
                },
                "margin": {
                  "t": 60
                },
                "template": {
                  "data": {
                    "bar": [
                      {
                        "error_x": {
                          "color": "#2a3f5f"
                        },
                        "error_y": {
                          "color": "#2a3f5f"
                        },
                        "marker": {
                          "line": {
                            "color": "#E5ECF6",
                            "width": 0.5
                          },
                          "pattern": {
                            "fillmode": "overlay",
                            "size": 10,
                            "solidity": 0.2
                          }
                        },
                        "type": "bar"
                      }
                    ],
                    "barpolar": [
                      {
                        "marker": {
                          "line": {
                            "color": "#E5ECF6",
                            "width": 0.5
                          },
                          "pattern": {
                            "fillmode": "overlay",
                            "size": 10,
                            "solidity": 0.2
                          }
                        },
                        "type": "barpolar"
                      }
                    ],
                    "carpet": [
                      {
                        "aaxis": {
                          "endlinecolor": "#2a3f5f",
                          "gridcolor": "white",
                          "linecolor": "white",
                          "minorgridcolor": "white",
                          "startlinecolor": "#2a3f5f"
                        },
                        "baxis": {
                          "endlinecolor": "#2a3f5f",
                          "gridcolor": "white",
                          "linecolor": "white",
                          "minorgridcolor": "white",
                          "startlinecolor": "#2a3f5f"
                        },
                        "type": "carpet"
                      }
                    ],
                    "choropleth": [
                      {
                        "colorbar": {
                          "outlinewidth": 0,
                          "ticks": ""
                        },
                        "type": "choropleth"
                      }
                    ],
                    "contour": [
                      {
                        "colorbar": {
                          "outlinewidth": 0,
                          "ticks": ""
                        },
                        "colorscale": [
                          [
                            0,
                            "#0d0887"
                          ],
                          [
                            0.1111111111111111,
                            "#46039f"
                          ],
                          [
                            0.2222222222222222,
                            "#7201a8"
                          ],
                          [
                            0.3333333333333333,
                            "#9c179e"
                          ],
                          [
                            0.4444444444444444,
                            "#bd3786"
                          ],
                          [
                            0.5555555555555556,
                            "#d8576b"
                          ],
                          [
                            0.6666666666666666,
                            "#ed7953"
                          ],
                          [
                            0.7777777777777778,
                            "#fb9f3a"
                          ],
                          [
                            0.8888888888888888,
                            "#fdca26"
                          ],
                          [
                            1,
                            "#f0f921"
                          ]
                        ],
                        "type": "contour"
                      }
                    ],
                    "contourcarpet": [
                      {
                        "colorbar": {
                          "outlinewidth": 0,
                          "ticks": ""
                        },
                        "type": "contourcarpet"
                      }
                    ],
                    "heatmap": [
                      {
                        "colorbar": {
                          "outlinewidth": 0,
                          "ticks": ""
                        },
                        "colorscale": [
                          [
                            0,
                            "#0d0887"
                          ],
                          [
                            0.1111111111111111,
                            "#46039f"
                          ],
                          [
                            0.2222222222222222,
                            "#7201a8"
                          ],
                          [
                            0.3333333333333333,
                            "#9c179e"
                          ],
                          [
                            0.4444444444444444,
                            "#bd3786"
                          ],
                          [
                            0.5555555555555556,
                            "#d8576b"
                          ],
                          [
                            0.6666666666666666,
                            "#ed7953"
                          ],
                          [
                            0.7777777777777778,
                            "#fb9f3a"
                          ],
                          [
                            0.8888888888888888,
                            "#fdca26"
                          ],
                          [
                            1,
                            "#f0f921"
                          ]
                        ],
                        "type": "heatmap"
                      }
                    ],
                    "heatmapgl": [
                      {
                        "colorbar": {
                          "outlinewidth": 0,
                          "ticks": ""
                        },
                        "colorscale": [
                          [
                            0,
                            "#0d0887"
                          ],
                          [
                            0.1111111111111111,
                            "#46039f"
                          ],
                          [
                            0.2222222222222222,
                            "#7201a8"
                          ],
                          [
                            0.3333333333333333,
                            "#9c179e"
                          ],
                          [
                            0.4444444444444444,
                            "#bd3786"
                          ],
                          [
                            0.5555555555555556,
                            "#d8576b"
                          ],
                          [
                            0.6666666666666666,
                            "#ed7953"
                          ],
                          [
                            0.7777777777777778,
                            "#fb9f3a"
                          ],
                          [
                            0.8888888888888888,
                            "#fdca26"
                          ],
                          [
                            1,
                            "#f0f921"
                          ]
                        ],
                        "type": "heatmapgl"
                      }
                    ],
                    "histogram": [
                      {
                        "marker": {
                          "pattern": {
                            "fillmode": "overlay",
                            "size": 10,
                            "solidity": 0.2
                          }
                        },
                        "type": "histogram"
                      }
                    ],
                    "histogram2d": [
                      {
                        "colorbar": {
                          "outlinewidth": 0,
                          "ticks": ""
                        },
                        "colorscale": [
                          [
                            0,
                            "#0d0887"
                          ],
                          [
                            0.1111111111111111,
                            "#46039f"
                          ],
                          [
                            0.2222222222222222,
                            "#7201a8"
                          ],
                          [
                            0.3333333333333333,
                            "#9c179e"
                          ],
                          [
                            0.4444444444444444,
                            "#bd3786"
                          ],
                          [
                            0.5555555555555556,
                            "#d8576b"
                          ],
                          [
                            0.6666666666666666,
                            "#ed7953"
                          ],
                          [
                            0.7777777777777778,
                            "#fb9f3a"
                          ],
                          [
                            0.8888888888888888,
                            "#fdca26"
                          ],
                          [
                            1,
                            "#f0f921"
                          ]
                        ],
                        "type": "histogram2d"
                      }
                    ],
                    "histogram2dcontour": [
                      {
                        "colorbar": {
                          "outlinewidth": 0,
                          "ticks": ""
                        },
                        "colorscale": [
                          [
                            0,
                            "#0d0887"
                          ],
                          [
                            0.1111111111111111,
                            "#46039f"
                          ],
                          [
                            0.2222222222222222,
                            "#7201a8"
                          ],
                          [
                            0.3333333333333333,
                            "#9c179e"
                          ],
                          [
                            0.4444444444444444,
                            "#bd3786"
                          ],
                          [
                            0.5555555555555556,
                            "#d8576b"
                          ],
                          [
                            0.6666666666666666,
                            "#ed7953"
                          ],
                          [
                            0.7777777777777778,
                            "#fb9f3a"
                          ],
                          [
                            0.8888888888888888,
                            "#fdca26"
                          ],
                          [
                            1,
                            "#f0f921"
                          ]
                        ],
                        "type": "histogram2dcontour"
                      }
                    ],
                    "mesh3d": [
                      {
                        "colorbar": {
                          "outlinewidth": 0,
                          "ticks": ""
                        },
                        "type": "mesh3d"
                      }
                    ],
                    "parcoords": [
                      {
                        "line": {
                          "colorbar": {
                            "outlinewidth": 0,
                            "ticks": ""
                          }
                        },
                        "type": "parcoords"
                      }
                    ],
                    "pie": [
                      {
                        "automargin": true,
                        "type": "pie"
                      }
                    ],
                    "scatter": [
                      {
                        "fillpattern": {
                          "fillmode": "overlay",
                          "size": 10,
                          "solidity": 0.2
                        },
                        "type": "scatter"
                      }
                    ],
                    "scatter3d": [
                      {
                        "line": {
                          "colorbar": {
                            "outlinewidth": 0,
                            "ticks": ""
                          }
                        },
                        "marker": {
                          "colorbar": {
                            "outlinewidth": 0,
                            "ticks": ""
                          }
                        },
                        "type": "scatter3d"
                      }
                    ],
                    "scattercarpet": [
                      {
                        "marker": {
                          "colorbar": {
                            "outlinewidth": 0,
                            "ticks": ""
                          }
                        },
                        "type": "scattercarpet"
                      }
                    ],
                    "scattergeo": [
                      {
                        "marker": {
                          "colorbar": {
                            "outlinewidth": 0,
                            "ticks": ""
                          }
                        },
                        "type": "scattergeo"
                      }
                    ],
                    "scattergl": [
                      {
                        "marker": {
                          "colorbar": {
                            "outlinewidth": 0,
                            "ticks": ""
                          }
                        },
                        "type": "scattergl"
                      }
                    ],
                    "scattermapbox": [
                      {
                        "marker": {
                          "colorbar": {
                            "outlinewidth": 0,
                            "ticks": ""
                          }
                        },
                        "type": "scattermapbox"
                      }
                    ],
                    "scatterpolar": [
                      {
                        "marker": {
                          "colorbar": {
                            "outlinewidth": 0,
                            "ticks": ""
                          }
                        },
                        "type": "scatterpolar"
                      }
                    ],
                    "scatterpolargl": [
                      {
                        "marker": {
                          "colorbar": {
                            "outlinewidth": 0,
                            "ticks": ""
                          }
                        },
                        "type": "scatterpolargl"
                      }
                    ],
                    "scatterternary": [
                      {
                        "marker": {
                          "colorbar": {
                            "outlinewidth": 0,
                            "ticks": ""
                          }
                        },
                        "type": "scatterternary"
                      }
                    ],
                    "surface": [
                      {
                        "colorbar": {
                          "outlinewidth": 0,
                          "ticks": ""
                        },
                        "colorscale": [
                          [
                            0,
                            "#0d0887"
                          ],
                          [
                            0.1111111111111111,
                            "#46039f"
                          ],
                          [
                            0.2222222222222222,
                            "#7201a8"
                          ],
                          [
                            0.3333333333333333,
                            "#9c179e"
                          ],
                          [
                            0.4444444444444444,
                            "#bd3786"
                          ],
                          [
                            0.5555555555555556,
                            "#d8576b"
                          ],
                          [
                            0.6666666666666666,
                            "#ed7953"
                          ],
                          [
                            0.7777777777777778,
                            "#fb9f3a"
                          ],
                          [
                            0.8888888888888888,
                            "#fdca26"
                          ],
                          [
                            1,
                            "#f0f921"
                          ]
                        ],
                        "type": "surface"
                      }
                    ],
                    "table": [
                      {
                        "cells": {
                          "fill": {
                            "color": "#EBF0F8"
                          },
                          "line": {
                            "color": "white"
                          }
                        },
                        "header": {
                          "fill": {
                            "color": "#C8D4E3"
                          },
                          "line": {
                            "color": "white"
                          }
                        },
                        "type": "table"
                      }
                    ]
                  },
                  "layout": {
                    "annotationdefaults": {
                      "arrowcolor": "#2a3f5f",
                      "arrowhead": 0,
                      "arrowwidth": 1
                    },
                    "autotypenumbers": "strict",
                    "coloraxis": {
                      "colorbar": {
                        "outlinewidth": 0,
                        "ticks": ""
                      }
                    },
                    "colorscale": {
                      "diverging": [
                        [
                          0,
                          "#8e0152"
                        ],
                        [
                          0.1,
                          "#c51b7d"
                        ],
                        [
                          0.2,
                          "#de77ae"
                        ],
                        [
                          0.3,
                          "#f1b6da"
                        ],
                        [
                          0.4,
                          "#fde0ef"
                        ],
                        [
                          0.5,
                          "#f7f7f7"
                        ],
                        [
                          0.6,
                          "#e6f5d0"
                        ],
                        [
                          0.7,
                          "#b8e186"
                        ],
                        [
                          0.8,
                          "#7fbc41"
                        ],
                        [
                          0.9,
                          "#4d9221"
                        ],
                        [
                          1,
                          "#276419"
                        ]
                      ],
                      "sequential": [
                        [
                          0,
                          "#0d0887"
                        ],
                        [
                          0.1111111111111111,
                          "#46039f"
                        ],
                        [
                          0.2222222222222222,
                          "#7201a8"
                        ],
                        [
                          0.3333333333333333,
                          "#9c179e"
                        ],
                        [
                          0.4444444444444444,
                          "#bd3786"
                        ],
                        [
                          0.5555555555555556,
                          "#d8576b"
                        ],
                        [
                          0.6666666666666666,
                          "#ed7953"
                        ],
                        [
                          0.7777777777777778,
                          "#fb9f3a"
                        ],
                        [
                          0.8888888888888888,
                          "#fdca26"
                        ],
                        [
                          1,
                          "#f0f921"
                        ]
                      ],
                      "sequentialminus": [
                        [
                          0,
                          "#0d0887"
                        ],
                        [
                          0.1111111111111111,
                          "#46039f"
                        ],
                        [
                          0.2222222222222222,
                          "#7201a8"
                        ],
                        [
                          0.3333333333333333,
                          "#9c179e"
                        ],
                        [
                          0.4444444444444444,
                          "#bd3786"
                        ],
                        [
                          0.5555555555555556,
                          "#d8576b"
                        ],
                        [
                          0.6666666666666666,
                          "#ed7953"
                        ],
                        [
                          0.7777777777777778,
                          "#fb9f3a"
                        ],
                        [
                          0.8888888888888888,
                          "#fdca26"
                        ],
                        [
                          1,
                          "#f0f921"
                        ]
                      ]
                    },
                    "colorway": [
                      "#636efa",
                      "#EF553B",
                      "#00cc96",
                      "#ab63fa",
                      "#FFA15A",
                      "#19d3f3",
                      "#FF6692",
                      "#B6E880",
                      "#FF97FF",
                      "#FECB52"
                    ],
                    "font": {
                      "color": "#2a3f5f"
                    },
                    "geo": {
                      "bgcolor": "white",
                      "lakecolor": "white",
                      "landcolor": "#E5ECF6",
                      "showlakes": true,
                      "showland": true,
                      "subunitcolor": "white"
                    },
                    "hoverlabel": {
                      "align": "left"
                    },
                    "hovermode": "closest",
                    "mapbox": {
                      "style": "light"
                    },
                    "paper_bgcolor": "white",
                    "plot_bgcolor": "#E5ECF6",
                    "polar": {
                      "angularaxis": {
                        "gridcolor": "white",
                        "linecolor": "white",
                        "ticks": ""
                      },
                      "bgcolor": "#E5ECF6",
                      "radialaxis": {
                        "gridcolor": "white",
                        "linecolor": "white",
                        "ticks": ""
                      }
                    },
                    "scene": {
                      "xaxis": {
                        "backgroundcolor": "#E5ECF6",
                        "gridcolor": "white",
                        "gridwidth": 2,
                        "linecolor": "white",
                        "showbackground": true,
                        "ticks": "",
                        "zerolinecolor": "white"
                      },
                      "yaxis": {
                        "backgroundcolor": "#E5ECF6",
                        "gridcolor": "white",
                        "gridwidth": 2,
                        "linecolor": "white",
                        "showbackground": true,
                        "ticks": "",
                        "zerolinecolor": "white"
                      },
                      "zaxis": {
                        "backgroundcolor": "#E5ECF6",
                        "gridcolor": "white",
                        "gridwidth": 2,
                        "linecolor": "white",
                        "showbackground": true,
                        "ticks": "",
                        "zerolinecolor": "white"
                      }
                    },
                    "shapedefaults": {
                      "line": {
                        "color": "#2a3f5f"
                      }
                    },
                    "ternary": {
                      "aaxis": {
                        "gridcolor": "white",
                        "linecolor": "white",
                        "ticks": ""
                      },
                      "baxis": {
                        "gridcolor": "white",
                        "linecolor": "white",
                        "ticks": ""
                      },
                      "bgcolor": "#E5ECF6",
                      "caxis": {
                        "gridcolor": "white",
                        "linecolor": "white",
                        "ticks": ""
                      }
                    },
                    "title": {
                      "x": 0.05
                    },
                    "xaxis": {
                      "automargin": true,
                      "gridcolor": "white",
                      "linecolor": "white",
                      "ticks": "",
                      "title": {
                        "standoff": 15
                      },
                      "zerolinecolor": "white",
                      "zerolinewidth": 2
                    },
                    "yaxis": {
                      "automargin": true,
                      "gridcolor": "white",
                      "linecolor": "white",
                      "ticks": "",
                      "title": {
                        "standoff": 15
                      },
                      "zerolinecolor": "white",
                      "zerolinewidth": 2
                    }
                  }
                },
                "title": {
                  "text": "Labour Force Participation rate(LFPR%) over the years by Gender and Sector at the Aggregate Education Level"
                },
                "xaxis": {
                  "anchor": "y",
                  "domain": [
                    0,
                    0.48
                  ],
                  "title": {
                    "text": "Year"
                  }
                },
                "xaxis2": {
                  "anchor": "y2",
                  "domain": [
                    0.5,
                    0.98
                  ],
                  "matches": "x",
                  "title": {
                    "text": "Year"
                  }
                },
                "xaxis3": {
                  "anchor": "y3",
                  "domain": [
                    0,
                    0.48
                  ],
                  "matches": "x",
                  "showticklabels": false
                },
                "xaxis4": {
                  "anchor": "y4",
                  "domain": [
                    0.5,
                    0.98
                  ],
                  "matches": "x",
                  "showticklabels": false
                },
                "yaxis": {
                  "anchor": "x",
                  "domain": [
                    0,
                    0.485
                  ],
                  "title": {
                    "text": "Aggregate Education level"
                  }
                },
                "yaxis2": {
                  "anchor": "x2",
                  "domain": [
                    0,
                    0.485
                  ],
                  "matches": "y",
                  "showticklabels": false
                },
                "yaxis3": {
                  "anchor": "x3",
                  "domain": [
                    0.515,
                    1
                  ],
                  "matches": "y",
                  "title": {
                    "text": "Education"
                  }
                },
                "yaxis4": {
                  "anchor": "x4",
                  "domain": [
                    0.515,
                    1
                  ],
                  "matches": "y",
                  "showticklabels": false
                }
              }
            }
          },
          "metadata": {},
          "output_type": "display_data"
        }
      ],
      "source": [
        "import numpy as np\n",
        "\n",
        "\n",
        "fig = px.density_heatmap(data.loc[(data.Gender != \"Total\") & ((data.Sector.str.contains(\"Rural\")) | (data.Sector.str.contains(\"Urban\"))) & (data.Education.str.contains(\"Aggregate levels\"))], x=\"Year\", y=\"Education\", nbinsx=10,  z=\"Value\", facet_row=\"Gender\", facet_col=\"Sector\", histfunc=\"avg\", labels={'Value': 'LFPR%'}, text_auto=True)\n",
        "fig.update_layout(title=\"Labour Force Participation rate(LFPR%) over the years by Gender and Sector at the Aggregate Education Level\",\n",
        "                  xaxis_title=\"Year\",\n",
        "                  yaxis_title=\"Aggregate Education level\")\n",
        "fig.show()"
      ]
    },
    {
      "cell_type": "markdown",
      "metadata": {
        "id": "gz3zemvxdIga"
      },
      "source": [
        "# 2. Data Preprocessing"
      ]
    },
    {
      "cell_type": "code",
      "execution_count": 58,
      "metadata": {
        "id": "DuoaDKM16Brl"
      },
      "outputs": [],
      "source": [
        "# Change Categorical columns to numerical columns\n",
        "from sklearn.model_selection import train_test_split\n",
        "from sklearn.preprocessing import LabelEncoder\n",
        "\n",
        "# Remove rows pertaining to Gender -> Total\n",
        "data = data[data['Gender'] != \"Total\"]\n",
        "\n",
        "#Separate Target from features\n",
        "y = data.Value\n",
        "x = data.drop(['Value'], axis=1)\n",
        "\n",
        "#Divide data into training and test sets\n",
        "X_train, X_test, Y_train, Y_test = train_test_split(x, y, train_size=0.8, test_size=0.2, random_state=0)\n",
        "\n",
        "#Divide training data further into training and validation set\n",
        "X_train, X_valid, Y_train, Y_valid = train_test_split(X_train, Y_train, train_size=0.8, test_size=0.2, random_state=0)\n",
        "\n",
        "#Get the categorical columns\n",
        "categorical_cols = [cname for cname in X_train.columns if\n",
        "                        X_train[cname].dtype == \"object\"]\n",
        "#Get the numerical columns\n",
        "numerical_cols = [cname for cname in X_train.columns if X_train[cname].dtype != \"object\"]\n",
        "\n",
        "# Define Preprocessing steps- Impute missing values and apply onehot encoding in adddition to impute for categ values\n",
        "from sklearn.compose import ColumnTransformer\n",
        "from sklearn.pipeline import Pipeline\n",
        "from sklearn.impute import SimpleImputer\n",
        "from sklearn.preprocessing import OneHotEncoder\n",
        "\n",
        "# Preprocessing for numerical data\n",
        "numerical_transformer = SimpleImputer(strategy='median')\n",
        "\n",
        "# Preprocessing for categorical data\n",
        "categorical_transformer = Pipeline(steps=[\n",
        "    ('imputer', SimpleImputer(strategy='most_frequent')),\n",
        "    ('onehot', OneHotEncoder(handle_unknown='ignore'))\n",
        "])\n",
        "\n",
        "# Bundle preprocessing for numerical and categorical data\n",
        "preprocessor = ColumnTransformer(\n",
        "    transformers=[\n",
        "        ('num', numerical_transformer, numerical_cols),\n",
        "        ('cat', categorical_transformer, categorical_cols)\n",
        "    ])\n"
      ]
    },
    {
      "cell_type": "markdown",
      "metadata": {
        "id": "nezObdkidwy8"
      },
      "source": [
        "# 3. Model Selection and Training"
      ]
    },
    {
      "cell_type": "markdown",
      "metadata": {
        "id": "JtmE2my1w1HH"
      },
      "source": [
        "## Using Linear Regression"
      ]
    },
    {
      "cell_type": "code",
      "execution_count": 59,
      "metadata": {
        "colab": {
          "base_uri": "https://localhost:8080/"
        },
        "id": "atZuJWOhJeQh",
        "outputId": "ded02aeb-9dfd-43bb-b7f6-509c2f06f662"
      },
      "outputs": [
        {
          "name": "stdout",
          "output_type": "stream",
          "text": [
            "Scores for Linear Regression:\n",
            "MAE 8.469995998822153\n",
            "MSE 106.75504744697618\n",
            "R2 0.8038875739751179\n"
          ]
        }
      ],
      "source": [
        "from sklearn.linear_model import LinearRegression\n",
        "from sklearn.metrics import mean_absolute_error, mean_squared_error, r2_score\n",
        "\n",
        "# Select and train using Linear Regression\n",
        "model = LinearRegression()\n",
        "\n",
        "# Define a method that takes input parameters as model, preprocessor and\n",
        "# returns the MAE, MSE and R2 Score\n",
        "\n",
        "def train_and_getscores(model, preprocessor):\n",
        "\n",
        "# Bundle preprocessing and modeling code in a pipeline\n",
        "  my_pipeline = Pipeline(steps=[('preprocessor', preprocessor),\n",
        "                              ('model', model)\n",
        "                             ])\n",
        "\n",
        "# Preprocessing of training data, fit model\n",
        "  my_pipeline.fit(X_train, Y_train)\n",
        "\n",
        "# Preprocessing of validation data, get predictions\n",
        "  preds = my_pipeline.predict(X_valid)\n",
        "\n",
        "# Calculate MAE (MEan Absolute Error)\n",
        "  scores = {}\n",
        "  scores[\"MAE\"] = mean_absolute_error(Y_valid, preds)\n",
        "\n",
        "# Calculate MSE (MEan Squared Error)\n",
        "  scores[\"MSE\"] = mean_squared_error(Y_valid, preds)\n",
        "\n",
        "# Calculate R2 score\n",
        "  scores[\"R2\"]  = r2_score(Y_valid, preds)\n",
        "\n",
        "  return my_pipeline, scores\n",
        "\n",
        "\n",
        "\n",
        "\n",
        "my_pipeline, scores = train_and_getscores(model, preprocessor)\n",
        "print('Scores for Linear Regression:')\n",
        "for key, value in scores.items():\n",
        "  print(key, value)\n",
        "\n",
        "final_scores = {}\n",
        "final_scores['Linear Regression'] = scores\n"
      ]
    },
    {
      "cell_type": "markdown",
      "metadata": {
        "id": "jDoqNk3Yd964"
      },
      "source": [
        "## Evaluation and Validation using Linear Regression Model"
      ]
    },
    {
      "cell_type": "code",
      "execution_count": 60,
      "metadata": {
        "colab": {
          "base_uri": "https://localhost:8080/"
        },
        "id": "aUqpqXIPMu-8",
        "outputId": "f56be46e-ef72-4018-e6fa-d4f5cd995d52"
      },
      "outputs": [
        {
          "name": "stdout",
          "output_type": "stream",
          "text": [
            "MAE: 7.512085483166909\n",
            "MSE: 92.04319405739989\n",
            "R2 Score: 0.8153025882782473\n"
          ]
        }
      ],
      "source": [
        "# Evaluate the performance of the Model on the data it hasnot learnt\n",
        "Y_predict = my_pipeline.predict(X_test)\n",
        "\n",
        "\n",
        "# Calculate the MAE, MSE and R2 score by comparing Y_test and Y_predict\n",
        "# Evaluate the model\n",
        "score_linearreg_test = mean_absolute_error(Y_test, Y_predict)\n",
        "print('MAE:', score_linearreg_test)\n",
        "\n",
        "scoremse_linearreg_test = mean_squared_error(Y_test, Y_predict)\n",
        "print('MSE:', scoremse_linearreg_test)\n",
        "\n",
        "# Calculate R2 score\n",
        "scorer2_linearreg_test = r2_score(Y_test, Y_predict)\n",
        "print('R2 Score:', scorer2_linearreg_test)"
      ]
    },
    {
      "cell_type": "markdown",
      "metadata": {
        "id": "s5QpJFUOxE7d"
      },
      "source": [
        "## Using RandomForest Regressor"
      ]
    },
    {
      "cell_type": "code",
      "execution_count": 80,
      "metadata": {
        "colab": {
          "base_uri": "https://localhost:8080/"
        },
        "id": "QPZ9ecIFxDXG",
        "outputId": "3caf5ff7-a3dc-4579-9390-11dde30b681b"
      },
      "outputs": [
        {
          "name": "stdout",
          "output_type": "stream",
          "text": [
            "Scores for Random Forest Regressor:\n",
            "MAE 1.7880088888888752\n",
            "MSE 15.207439771259137\n",
            "R2 0.9720634482538147\n"
          ]
        }
      ],
      "source": [
        "from sklearn.metrics import mean_absolute_error\n",
        "from sklearn.ensemble import RandomForestRegressor\n",
        "\n",
        "# Select and train using Random Forest Regressor\n",
        "#Define the Model\n",
        "model = RandomForestRegressor(n_estimators=250, random_state=0)\n",
        "\n",
        "my_pipeline, scores = train_and_getscores(model, preprocessor)\n",
        "print('Scores for Random Forest Regressor:')\n",
        "for key, value in scores.items():\n",
        "  print(key, value)\n",
        "\n",
        "final_scores['Random Forest Regression'] = scores\n",
        "\n",
        "filename = 'random_forest_model.sav'\n",
        "# pickle.dump(model, open(filename, 'wb'))\n",
        "\n",
        "\n",
        "# Save the model to a file\n",
        "# https://raw.githubusercontent.com/niruhere/Sri-Lanka-Labor-Market-Trend/main/random_forest_model.pkl\n",
        "# filename = 'https://raw.githubusercontent.com/niruhere/Sri-Lanka-Labor-Market-Trend/main/random_forest_model.pickle'\n",
        "pickle.dump(my_pipeline, open(filename, 'wb'))"
      ]
    },
    {
      "cell_type": "markdown",
      "metadata": {
        "id": "cvzYIbFixNuk"
      },
      "source": [
        "## Evaluation and Validation using RandomForestRegressor"
      ]
    },
    {
      "cell_type": "code",
      "execution_count": 63,
      "metadata": {
        "colab": {
          "base_uri": "https://localhost:8080/"
        },
        "id": "XnX0QCA-xNGp",
        "outputId": "9c0acb44-032c-4cf0-e7ae-e9f09038a565"
      },
      "outputs": [
        {
          "name": "stdout",
          "output_type": "stream",
          "text": [
            "MAE: 2.068217751479293\n",
            "MSE: 11.054378703905368\n",
            "R2 Score: 0.9778178587160923\n"
          ]
        }
      ],
      "source": [
        "# Evaluate the performance of the Model on the data it hasnot learnt\n",
        "Y_predict = my_pipeline.predict(X_test)\n",
        "\n",
        "# Calculate the MAE and MSE by comparing Y_test and Y_predict\n",
        "# Evaluate the model\n",
        "score_ranforreg_test = mean_absolute_error(Y_test, Y_predict)\n",
        "print('MAE:', score_ranforreg_test)\n",
        "\n",
        "scoremse_ranforreg_test = mean_squared_error(Y_test, Y_predict)\n",
        "print('MSE:', scoremse_ranforreg_test)\n",
        "\n",
        "# Calculate R2 score\n",
        "scorer2_ranforreg_test = r2_score(Y_test, Y_predict)\n",
        "print('R2 Score:', scorer2_ranforreg_test)\n"
      ]
    },
    {
      "cell_type": "markdown",
      "metadata": {
        "id": "zRagpF6GOCd4"
      },
      "source": []
    },
    {
      "cell_type": "markdown",
      "metadata": {
        "id": "ma1AkwcB4QKU"
      },
      "source": [
        "## Using Decision Tree Regressor"
      ]
    },
    {
      "cell_type": "code",
      "execution_count": 64,
      "metadata": {
        "colab": {
          "base_uri": "https://localhost:8080/"
        },
        "id": "-Z0Bghjc4Pck",
        "outputId": "57d7397f-74a1-461b-f3e8-583921fb4fa0"
      },
      "outputs": [
        {
          "name": "stdout",
          "output_type": "stream",
          "text": [
            "Scores for Decision Tree Regressor:\n",
            "MAE 10.244939899683812\n",
            "MSE 217.78339633095217\n",
            "R2 0.5999249569570474\n"
          ]
        }
      ],
      "source": [
        "from sklearn.tree import DecisionTreeRegressor\n",
        "from sklearn.metrics import mean_absolute_error\n",
        "\n",
        "# Fit regresssion model\n",
        "model = DecisionTreeRegressor(max_depth=2, random_state=0)\n",
        "\n",
        "\n",
        "my_pipeline, scores = train_and_getscores(model, preprocessor)\n",
        "print('Scores for Decision Tree Regressor:')\n",
        "for key, value in scores.items():\n",
        "  print(key, value)\n",
        "\n",
        "final_scores['Decision Tree Regression'] = scores"
      ]
    },
    {
      "cell_type": "markdown",
      "metadata": {
        "id": "9-6pvWzu9Yzy"
      },
      "source": [
        "## Evaluation and Validation using Decision Tree Regression"
      ]
    },
    {
      "cell_type": "code",
      "execution_count": 66,
      "metadata": {
        "colab": {
          "base_uri": "https://localhost:8080/"
        },
        "id": "-zZJGpm75yn1",
        "outputId": "850bd8c7-aa4e-49a5-9f0f-932e2598617a"
      },
      "outputs": [
        {
          "name": "stdout",
          "output_type": "stream",
          "text": [
            "MAE: 9.82621475525662\n",
            "MSE: 219.40514853147258\n",
            "R2 Score: 0.5597331941032118\n"
          ]
        }
      ],
      "source": [
        "# Evaluate the performance of the Model on the data it hasnot learnt\n",
        "Y_predict = my_pipeline.predict(X_test)\n",
        "\n",
        "\n",
        "# Calculate the MAE, MSE and R2 score by comparing Y_test and Y_predict\n",
        "score_dectreereg_test = mean_absolute_error(Y_test, Y_predict)\n",
        "print('MAE:', score_dectreereg_test)\n",
        "\n",
        "scoremse_dectreereg_test = mean_squared_error(Y_test, Y_predict)\n",
        "print('MSE:', scoremse_dectreereg_test)\n",
        "\n",
        "# Calculate R2 score\n",
        "scorer2_dectreereg_test = r2_score(Y_test, Y_predict)\n",
        "print('R2 Score:', scorer2_dectreereg_test)"
      ]
    },
    {
      "cell_type": "markdown",
      "metadata": {
        "id": "eFQF9uky6WNH"
      },
      "source": [
        "## Using Support Vector Regression"
      ]
    },
    {
      "cell_type": "code",
      "execution_count": 67,
      "metadata": {
        "colab": {
          "base_uri": "https://localhost:8080/"
        },
        "id": "BXpnqnY66cT9",
        "outputId": "7611e433-96fd-4a8e-f7f6-3a86a8b9e759"
      },
      "outputs": [
        {
          "name": "stdout",
          "output_type": "stream",
          "text": [
            "Scores for Support Vector Regressor:\n",
            "MAE 22.394011040306385\n",
            "MSE 726.6609414093293\n",
            "R2 -0.33489931881759283\n"
          ]
        },
        {
          "data": {
            "text/plain": [
              "{'Linear Regression': {'MAE': 8.469995998822153,\n",
              "  'MSE': 106.75504744697618,\n",
              "  'R2': 0.8038875739751179},\n",
              " 'Random Forest Regression': {'MAE': 1.7880088888888752,\n",
              "  'MSE': 15.207439771259137,\n",
              "  'R2': 0.9720634482538147},\n",
              " 'Decision Tree Regression': {'MAE': 10.244939899683812,\n",
              "  'MSE': 217.78339633095217,\n",
              "  'R2': 0.5999249569570474},\n",
              " 'Support Vector Regression': {'MAE': 22.394011040306385,\n",
              "  'MSE': 726.6609414093293,\n",
              "  'R2': -0.33489931881759283}}"
            ]
          },
          "execution_count": 67,
          "metadata": {},
          "output_type": "execute_result"
        }
      ],
      "source": [
        "from sklearn.svm import SVR\n",
        "from sklearn.metrics import mean_absolute_error\n",
        "\n",
        "# Fit regresssion model\n",
        "model = SVR()\n",
        "\n",
        "my_pipeline, scores = train_and_getscores(model, preprocessor)\n",
        "print('Scores for Support Vector Regressor:')\n",
        "for key, value in scores.items():\n",
        "  print(key, value)\n",
        "\n",
        "final_scores['Support Vector Regression'] = scores\n",
        "\n",
        "final_scores"
      ]
    },
    {
      "cell_type": "markdown",
      "metadata": {
        "id": "X7eZnA2_9gRM"
      },
      "source": [
        "## Evaluation and Validation using Support Vector Regression"
      ]
    },
    {
      "cell_type": "code",
      "execution_count": 68,
      "metadata": {
        "colab": {
          "base_uri": "https://localhost:8080/"
        },
        "id": "aR15HeWU6zIL",
        "outputId": "7ad1b9b1-c2b6-4f55-a0f4-a734dbda020e"
      },
      "outputs": [
        {
          "name": "stdout",
          "output_type": "stream",
          "text": [
            "MAE: 19.766217724939672\n",
            "MSE: 613.1861850892251\n",
            "R2 Score: -0.2304429724471333\n"
          ]
        }
      ],
      "source": [
        "# Evaluate the performance of the Model on the data it hasnot learnt\n",
        "Y_predict = my_pipeline.predict(X_test)\n",
        "\n",
        "# Calculate the MAE, MSE and R2 score by comparing Y_test and Y_predict\n",
        "score_svrreg_test = mean_absolute_error(Y_test, Y_predict)\n",
        "print('MAE:', score_svrreg_test)\n",
        "\n",
        "scoremse_svrreg_test = mean_squared_error(Y_test, Y_predict)\n",
        "print('MSE:', scoremse_svrreg_test)\n",
        "\n",
        "# Calculate R2 score\n",
        "scorer2_svrreg_test = r2_score(Y_test, Y_predict)\n",
        "print('R2 Score:', scorer2_svrreg_test)"
      ]
    },
    {
      "cell_type": "markdown",
      "metadata": {
        "id": "yncQcJtGAqeb"
      },
      "source": [
        "## Select the Model that best fits"
      ]
    },
    {
      "cell_type": "code",
      "execution_count": 69,
      "metadata": {
        "colab": {
          "base_uri": "https://localhost:8080/",
          "height": 522
        },
        "id": "JkZssCD-Ap4i",
        "outputId": "77a19d13-1267-4afd-a9bc-10bc89a90f2a"
      },
      "outputs": [
        {
          "data": {
            "image/png": "[encoded data removed]",
            "text/plain": [
              "<Figure size 1000x600 with 1 Axes>"
            ]
          },
          "metadata": {},
          "output_type": "display_data"
        }
      ],
      "source": [
        "import matplotlib.pyplot as plt\n",
        "scores_df = pd.DataFrame.from_dict(final_scores)\n",
        "scores_df.plot(figsize=(10,6))\n",
        "plt.show()"
      ]
    },
    {
      "cell_type": "markdown",
      "metadata": {
        "id": "DIbdY70PeBql"
      },
      "source": [
        "# 5. Deployment and Maintenance"
      ]
    },
    {
      "cell_type": "markdown",
      "metadata": {
        "id": "utDih9nYcibr"
      },
      "source": []
    },
    {
      "cell_type": "code",
      "execution_count": 70,
      "metadata": {
        "colab": {
          "base_uri": "https://localhost:8080/"
        },
        "id": "Z4AR7oOlybSp",
        "outputId": "8bd2712d-6e32-41ea-b9d7-78f19076daf8"
      },
      "outputs": [
        {
          "ename": "FileNotFoundError",
          "evalue": "[Errno 2] No such file or directory: 'https://raw.githubusercontent.com/niruhere/Sri-Lanka-Labor-Market-Trend/main/random_forest_model.pkl'",
          "output_type": "error",
          "traceback": [
            "\u001b[0;31m---------------------------------------------------------------------------\u001b[0m",
            "\u001b[0;31mFileNotFoundError\u001b[0m                         Traceback (most recent call last)",
            "Cell \u001b[0;32mIn[70], line 5\u001b[0m\n\u001b[1;32m      1\u001b[0m \u001b[38;5;66;03m# loaded_model = pickle.load(open(filename, 'rb'))\u001b[39;00m\n\u001b[1;32m      2\u001b[0m \u001b[38;5;66;03m# pred_result = loaded_model.predict(X_test)\u001b[39;00m\n\u001b[1;32m      3\u001b[0m \n\u001b[1;32m      4\u001b[0m \u001b[38;5;66;03m# Load the model using Pickle\u001b[39;00m\n\u001b[0;32m----> 5\u001b[0m \u001b[38;5;28;01mwith\u001b[39;00m \u001b[38;5;28;43mopen\u001b[39;49m\u001b[43m(\u001b[49m\u001b[38;5;124;43m'\u001b[39;49m\u001b[38;5;124;43mhttps://raw.githubusercontent.com/niruhere/Sri-Lanka-Labor-Market-Trend/main/random_forest_model.pkl\u001b[39;49m\u001b[38;5;124;43m'\u001b[39;49m\u001b[43m,\u001b[49m\u001b[43m \u001b[49m\u001b[38;5;124;43m'\u001b[39;49m\u001b[38;5;124;43mrb\u001b[39;49m\u001b[38;5;124;43m'\u001b[39;49m\u001b[43m)\u001b[49m \u001b[38;5;28;01mas\u001b[39;00m file:\n\u001b[1;32m      6\u001b[0m     loaded_model_pickle \u001b[38;5;241m=\u001b[39m pickle\u001b[38;5;241m.\u001b[39mload(file)\n\u001b[1;32m      8\u001b[0m pred_result \u001b[38;5;241m=\u001b[39m loaded_model_pickle\u001b[38;5;241m.\u001b[39mpredict(X_test)\n",
            "File \u001b[0;32m~/anaconda3/envs/omdenastreamlit/lib/python3.10/site-packages/IPython/core/interactiveshell.py:324\u001b[0m, in \u001b[0;36m_modified_open\u001b[0;34m(file, *args, **kwargs)\u001b[0m\n\u001b[1;32m    317\u001b[0m \u001b[38;5;28;01mif\u001b[39;00m file \u001b[38;5;129;01min\u001b[39;00m {\u001b[38;5;241m0\u001b[39m, \u001b[38;5;241m1\u001b[39m, \u001b[38;5;241m2\u001b[39m}:\n\u001b[1;32m    318\u001b[0m     \u001b[38;5;28;01mraise\u001b[39;00m \u001b[38;5;167;01mValueError\u001b[39;00m(\n\u001b[1;32m    319\u001b[0m         \u001b[38;5;124mf\u001b[39m\u001b[38;5;124m\"\u001b[39m\u001b[38;5;124mIPython won\u001b[39m\u001b[38;5;124m'\u001b[39m\u001b[38;5;124mt let you open fd=\u001b[39m\u001b[38;5;132;01m{\u001b[39;00mfile\u001b[38;5;132;01m}\u001b[39;00m\u001b[38;5;124m by default \u001b[39m\u001b[38;5;124m\"\u001b[39m\n\u001b[1;32m    320\u001b[0m         \u001b[38;5;124m\"\u001b[39m\u001b[38;5;124mas it is likely to crash IPython. If you know what you are doing, \u001b[39m\u001b[38;5;124m\"\u001b[39m\n\u001b[1;32m    321\u001b[0m         \u001b[38;5;124m\"\u001b[39m\u001b[38;5;124myou can use builtins\u001b[39m\u001b[38;5;124m'\u001b[39m\u001b[38;5;124m open.\u001b[39m\u001b[38;5;124m\"\u001b[39m\n\u001b[1;32m    322\u001b[0m     )\n\u001b[0;32m--> 324\u001b[0m \u001b[38;5;28;01mreturn\u001b[39;00m \u001b[43mio_open\u001b[49m\u001b[43m(\u001b[49m\u001b[43mfile\u001b[49m\u001b[43m,\u001b[49m\u001b[43m \u001b[49m\u001b[38;5;241;43m*\u001b[39;49m\u001b[43margs\u001b[49m\u001b[43m,\u001b[49m\u001b[43m \u001b[49m\u001b[38;5;241;43m*\u001b[39;49m\u001b[38;5;241;43m*\u001b[39;49m\u001b[43mkwargs\u001b[49m\u001b[43m)\u001b[49m\n",
            "\u001b[0;31mFileNotFoundError\u001b[0m: [Errno 2] No such file or directory: 'https://raw.githubusercontent.com/niruhere/Sri-Lanka-Labor-Market-Trend/main/random_forest_model.pkl'"
          ]
        }
      ],
      "source": [
        "# loaded_model = pickle.load(open(filename, 'rb'))\n",
        "# pred_result = loaded_model.predict(X_test)\n",
        "\n",
        "# Load the model using Pickle\n",
        "filename = \"random_forest_model.sav\"\n",
        "with open('random_forest_model.sav', 'rb') as file:\n",
        "    loaded_model_pickle = pickle.load(file)\n",
        "\n",
        "pred_result = loaded_model_pickle.predict(X_test)\n",
        "\n"
      ]
    },
    {
      "cell_type": "code",
      "execution_count": 71,
      "metadata": {
        "colab": {
          "base_uri": "https://localhost:8080/"
        },
        "id": "jHPVDXhPy5T9",
        "outputId": "d6f3a4e9-9941-4909-ec52-7414eb93ba50"
      },
      "outputs": [
        {
          "ename": "NameError",
          "evalue": "name 'pred_result' is not defined",
          "output_type": "error",
          "traceback": [
            "\u001b[0;31m---------------------------------------------------------------------------\u001b[0m",
            "\u001b[0;31mNameError\u001b[0m                                 Traceback (most recent call last)",
            "Cell \u001b[0;32mIn[71], line 2\u001b[0m\n\u001b[1;32m      1\u001b[0m \u001b[38;5;66;03m# Calculate the MAE, MSE and R2 score by comparing Y_test and Y_predict\u001b[39;00m\n\u001b[0;32m----> 2\u001b[0m score_test \u001b[38;5;241m=\u001b[39m mean_absolute_error(Y_test, \u001b[43mpred_result\u001b[49m)\n\u001b[1;32m      3\u001b[0m \u001b[38;5;28mprint\u001b[39m(\u001b[38;5;124m'\u001b[39m\u001b[38;5;124mMAE:\u001b[39m\u001b[38;5;124m'\u001b[39m, score_test)\n\u001b[1;32m      5\u001b[0m scoremse_test \u001b[38;5;241m=\u001b[39m mean_squared_error(Y_test, pred_result)\n",
            "\u001b[0;31mNameError\u001b[0m: name 'pred_result' is not defined"
          ]
        }
      ],
      "source": [
        "# Calculate the MAE, MSE and R2 score by comparing Y_test and Y_predict\n",
        "score_test = mean_absolute_error(Y_test, pred_result)\n",
        "print('MAE:', score_test)\n",
        "\n",
        "scoremse_test = mean_squared_error(Y_test, pred_result)\n",
        "print('MSE:', scoremse_test)\n",
        "\n",
        "# Calculate R2 score\n",
        "scorer2_test = r2_score(Y_test, pred_result)\n",
        "print('R2 Score:', scorer2_test)"
      ]
    },
    {
      "cell_type": "code",
      "execution_count": null,
      "metadata": {
        "id": "Du1bmuBtBQdQ"
      },
      "outputs": [],
      "source": []
    }
  ],
  "metadata": {
    "colab": {
      "provenance": []
    },
    "kernelspec": {
      "display_name": "Python 3",
      "name": "python3"
    },
    "language_info": {
      "codemirror_mode": {
        "name": "ipython",
        "version": 3
      },
      "file_extension": ".py",
      "mimetype": "text/x-python",
      "name": "python",
      "nbconvert_exporter": "python",
      "pygments_lexer": "ipython3",
      "version": "3.10.13"
    }
  },
  "nbformat": 4,
  "nbformat_minor": 0
}
